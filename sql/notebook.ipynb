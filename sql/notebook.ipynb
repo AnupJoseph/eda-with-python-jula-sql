{
 "cells": [
  {
   "cell_type": "markdown",
   "source": "",
   "metadata": {
    "formattedRanges": [],
    "is_collapsed": false,
    "cell_id": "2554aab5-f028-4cc4-8815-90db91a4f4af",
    "tags": [],
    "deepnote_cell_type": "text-cell-p"
   }
  },
  {
   "cell_type": "markdown",
   "source": "I had started with [Evidence](https://evidence.dev/) but evidence's experience wasn't working out for me. The query strings needed to be changed at every step to even get it working and there were basically no error messages",
   "metadata": {
    "cell_id": "ea621f2bd9644c529faeb869c31af7aa",
    "tags": [],
    "deepnote_cell_type": "markdown",
    "deepnote_cell_height": 74.78125
   }
  },
  {
   "cell_type": "markdown",
   "source": "## 1. Structure Investigation",
   "metadata": {
    "formattedRanges": [],
    "is_collapsed": false,
    "cell_id": "dfa1776d62d4437cb8b80c955b733839",
    "tags": [],
    "deepnote_cell_type": "text-cell-h2"
   }
  },
  {
   "cell_type": "markdown",
   "source": "A grisly approximation of the shape function in SQL, may Lord have mercy",
   "metadata": {
    "formattedRanges": [],
    "is_collapsed": false,
    "cell_id": "2237c4adbb2441fd9e849228a241eb38",
    "tags": [],
    "deepnote_cell_type": "text-cell-p"
   }
  },
  {
   "cell_type": "code",
   "metadata": {
    "tags": [],
    "deepnote_variable_name": "num_cols",
    "sql_integration_id": "d15db2fc-356f-4858-a44e-cab7271219cd",
    "cell_id": "f00080bb1141401c9b87f17aad605fb9",
    "deepnote_to_be_reexecuted": false,
    "source_hash": "5b60e045",
    "execution_start": 1661004737558,
    "execution_millis": 3334,
    "deepnote_sql_source": "-- Number of columns \nSELECT COUNT(*) FROM `labocr-267706.eda.INFORMATION_SCHEMA.COLUMNS` WHERE table_name=\"road_safety\"",
    "deepnote_cell_type": "sql",
    "deepnote_cell_height": 284
   },
   "source": "\n\nnum_cols = _deepnote_execute_sql(\"\"\"-- Number of columns \nSELECT COUNT(*) FROM `labocr-267706.eda.INFORMATION_SCHEMA.COLUMNS` WHERE table_name=\"road_safety\"\n\"\"\", 'SQL_D15DB2FC_356F_4858_A44E_CAB7271219CD')\nnum_cols",
   "execution_count": 1,
   "outputs": [
    {
     "output_type": "execute_result",
     "execution_count": 1,
     "data": {
      "application/vnd.deepnote.dataframe.v3+json": {
       "column_count": 1,
       "row_count": 1,
       "columns": [
        {
         "name": "f0_",
         "dtype": "int64",
         "stats": {
          "unique_count": 1,
          "nan_count": 0,
          "min": "67",
          "max": "67",
          "histogram": [
           {
            "bin_start": 66.5,
            "bin_end": 66.6,
            "count": 0
           },
           {
            "bin_start": 66.6,
            "bin_end": 66.7,
            "count": 0
           },
           {
            "bin_start": 66.7,
            "bin_end": 66.8,
            "count": 0
           },
           {
            "bin_start": 66.8,
            "bin_end": 66.9,
            "count": 0
           },
           {
            "bin_start": 66.9,
            "bin_end": 67,
            "count": 0
           },
           {
            "bin_start": 67,
            "bin_end": 67.1,
            "count": 1
           },
           {
            "bin_start": 67.1,
            "bin_end": 67.2,
            "count": 0
           },
           {
            "bin_start": 67.2,
            "bin_end": 67.3,
            "count": 0
           },
           {
            "bin_start": 67.3,
            "bin_end": 67.4,
            "count": 0
           },
           {
            "bin_start": 67.4,
            "bin_end": 67.5,
            "count": 0
           }
          ]
         }
        },
        {
         "name": "_deepnote_index_column",
         "dtype": "int64"
        }
       ],
       "rows": [
        {
         "f0_": 67,
         "_deepnote_index_column": 0
        }
       ]
      },
      "text/plain": "   f0_\n0   67",
      "text/html": "<div>\n<style scoped>\n    .dataframe tbody tr th:only-of-type {\n        vertical-align: middle;\n    }\n\n    .dataframe tbody tr th {\n        vertical-align: top;\n    }\n\n    .dataframe thead th {\n        text-align: right;\n    }\n</style>\n<table border=\"1\" class=\"dataframe\">\n  <thead>\n    <tr style=\"text-align: right;\">\n      <th></th>\n      <th>f0_</th>\n    </tr>\n  </thead>\n  <tbody>\n    <tr>\n      <th>0</th>\n      <td>67</td>\n    </tr>\n  </tbody>\n</table>\n</div>"
     },
     "metadata": {}
    }
   ]
  },
  {
   "cell_type": "code",
   "metadata": {
    "tags": [],
    "deepnote_variable_name": "num_rows",
    "sql_integration_id": "d15db2fc-356f-4858-a44e-cab7271219cd",
    "cell_id": "8f3cc992fd1b422cae1a43b99cbfc253",
    "deepnote_to_be_reexecuted": false,
    "source_hash": "e31d439f",
    "execution_start": 1661004740898,
    "execution_millis": 1631,
    "deepnote_sql_source": "-- Number of rows\nSELECT COUNT(*) FROM `labocr-267706.eda.road_safety`",
    "deepnote_cell_type": "sql",
    "deepnote_cell_height": 284
   },
   "source": "\n\nnum_rows = _deepnote_execute_sql(\"\"\"-- Number of rows\nSELECT COUNT(*) FROM `labocr-267706.eda.road_safety`\n\"\"\", 'SQL_D15DB2FC_356F_4858_A44E_CAB7271219CD')\nnum_rows",
   "execution_count": 2,
   "outputs": [
    {
     "output_type": "execute_result",
     "execution_count": 2,
     "data": {
      "application/vnd.deepnote.dataframe.v3+json": {
       "column_count": 1,
       "row_count": 1,
       "columns": [
        {
         "name": "f0_",
         "dtype": "int64",
         "stats": {
          "unique_count": 1,
          "nan_count": 0,
          "min": "363243",
          "max": "363243",
          "histogram": [
           {
            "bin_start": 363242.5,
            "bin_end": 363242.6,
            "count": 0
           },
           {
            "bin_start": 363242.6,
            "bin_end": 363242.7,
            "count": 0
           },
           {
            "bin_start": 363242.7,
            "bin_end": 363242.8,
            "count": 0
           },
           {
            "bin_start": 363242.8,
            "bin_end": 363242.9,
            "count": 0
           },
           {
            "bin_start": 363242.9,
            "bin_end": 363243,
            "count": 0
           },
           {
            "bin_start": 363243,
            "bin_end": 363243.1,
            "count": 1
           },
           {
            "bin_start": 363243.1,
            "bin_end": 363243.2,
            "count": 0
           },
           {
            "bin_start": 363243.2,
            "bin_end": 363243.3,
            "count": 0
           },
           {
            "bin_start": 363243.3,
            "bin_end": 363243.4,
            "count": 0
           },
           {
            "bin_start": 363243.4,
            "bin_end": 363243.5,
            "count": 0
           }
          ]
         }
        },
        {
         "name": "_deepnote_index_column",
         "dtype": "int64"
        }
       ],
       "rows": [
        {
         "f0_": 363243,
         "_deepnote_index_column": 0
        }
       ]
      },
      "text/plain": "      f0_\n0  363243",
      "text/html": "<div>\n<style scoped>\n    .dataframe tbody tr th:only-of-type {\n        vertical-align: middle;\n    }\n\n    .dataframe tbody tr th {\n        vertical-align: top;\n    }\n\n    .dataframe thead th {\n        text-align: right;\n    }\n</style>\n<table border=\"1\" class=\"dataframe\">\n  <thead>\n    <tr style=\"text-align: right;\">\n      <th></th>\n      <th>f0_</th>\n    </tr>\n  </thead>\n  <tbody>\n    <tr>\n      <th>0</th>\n      <td>363243</td>\n    </tr>\n  </tbody>\n</table>\n</div>"
     },
     "metadata": {}
    }
   ]
  },
  {
   "cell_type": "code",
   "metadata": {
    "tags": [],
    "deepnote_variable_name": "col_types",
    "sql_integration_id": "d15db2fc-356f-4858-a44e-cab7271219cd",
    "cell_id": "36d4344e11754c56b46aadad4f2b296f",
    "deepnote_to_be_reexecuted": false,
    "source_hash": "3ebe57e3",
    "execution_start": 1661004742585,
    "execution_millis": 1642,
    "deepnote_sql_source": "-- Count how many times each data type is present in the dataset\nSELECT data_type,COUNT(*) FROM `labocr-267706.eda.INFORMATION_SCHEMA.COLUMNS` GROUP BY data_type",
    "deepnote_cell_type": "sql",
    "deepnote_cell_height": 407
   },
   "source": "\n\ncol_types = _deepnote_execute_sql(\"\"\"-- Count how many times each data type is present in the dataset\nSELECT data_type,COUNT(*) FROM `labocr-267706.eda.INFORMATION_SCHEMA.COLUMNS` GROUP BY data_type\n\"\"\", 'SQL_D15DB2FC_356F_4858_A44E_CAB7271219CD')\ncol_types",
   "execution_count": 3,
   "outputs": [
    {
     "output_type": "execute_result",
     "execution_count": 3,
     "data": {
      "application/vnd.deepnote.dataframe.v3+json": {
       "column_count": 2,
       "row_count": 4,
       "columns": [
        {
         "name": "data_type",
         "dtype": "object",
         "stats": {
          "unique_count": 4,
          "nan_count": 0,
          "categories": [
           {
            "name": "STRING",
            "count": 1
           },
           {
            "name": "INT64",
            "count": 1
           },
           {
            "name": "2 others",
            "count": 2
           }
          ]
         }
        },
        {
         "name": "f0_",
         "dtype": "int64",
         "stats": {
          "unique_count": 4,
          "nan_count": 0,
          "min": "1",
          "max": "56",
          "histogram": [
           {
            "bin_start": 1,
            "bin_end": 6.5,
            "count": 3
           },
           {
            "bin_start": 6.5,
            "bin_end": 12,
            "count": 0
           },
           {
            "bin_start": 12,
            "bin_end": 17.5,
            "count": 0
           },
           {
            "bin_start": 17.5,
            "bin_end": 23,
            "count": 0
           },
           {
            "bin_start": 23,
            "bin_end": 28.5,
            "count": 0
           },
           {
            "bin_start": 28.5,
            "bin_end": 34,
            "count": 0
           },
           {
            "bin_start": 34,
            "bin_end": 39.5,
            "count": 0
           },
           {
            "bin_start": 39.5,
            "bin_end": 45,
            "count": 0
           },
           {
            "bin_start": 45,
            "bin_end": 50.5,
            "count": 0
           },
           {
            "bin_start": 50.5,
            "bin_end": 56,
            "count": 1
           }
          ]
         }
        },
        {
         "name": "_deepnote_index_column",
         "dtype": "int64"
        }
       ],
       "rows": [
        {
         "data_type": "STRING",
         "f0_": 4,
         "_deepnote_index_column": 0
        },
        {
         "data_type": "INT64",
         "f0_": 6,
         "_deepnote_index_column": 1
        },
        {
         "data_type": "FLOAT64",
         "f0_": 56,
         "_deepnote_index_column": 2
        },
        {
         "data_type": "DATE",
         "f0_": 1,
         "_deepnote_index_column": 3
        }
       ]
      },
      "text/plain": "  data_type  f0_\n0    STRING    4\n1     INT64    6\n2   FLOAT64   56\n3      DATE    1",
      "text/html": "<div>\n<style scoped>\n    .dataframe tbody tr th:only-of-type {\n        vertical-align: middle;\n    }\n\n    .dataframe tbody tr th {\n        vertical-align: top;\n    }\n\n    .dataframe thead th {\n        text-align: right;\n    }\n</style>\n<table border=\"1\" class=\"dataframe\">\n  <thead>\n    <tr style=\"text-align: right;\">\n      <th></th>\n      <th>data_type</th>\n      <th>f0_</th>\n    </tr>\n  </thead>\n  <tbody>\n    <tr>\n      <th>0</th>\n      <td>STRING</td>\n      <td>4</td>\n    </tr>\n    <tr>\n      <th>1</th>\n      <td>INT64</td>\n      <td>6</td>\n    </tr>\n    <tr>\n      <th>2</th>\n      <td>FLOAT64</td>\n      <td>56</td>\n    </tr>\n    <tr>\n      <th>3</th>\n      <td>DATE</td>\n      <td>1</td>\n    </tr>\n  </tbody>\n</table>\n</div>"
     },
     "metadata": {}
    }
   ]
  },
  {
   "cell_type": "markdown",
   "source": "### 1.1. Structure of non-numerical features",
   "metadata": {
    "formattedRanges": [],
    "is_collapsed": false,
    "cell_id": "74d3d0e6a41f486bb146ca37f28998d6",
    "tags": [],
    "deepnote_cell_type": "text-cell-h3"
   }
  },
  {
   "cell_type": "code",
   "source": "\n\nnon_numerical_columns = _deepnote_execute_sql(\"\"\"SELECT\n    STRING_AGG(column_name,\",\")\n  FROM\n    `labocr-267706.eda.INFORMATION_SCHEMA.COLUMNS`\n  WHERE\n    data_type IN (\"STRING\",\n      \"DATE\")\n\"\"\", 'SQL_D15DB2FC_356F_4858_A44E_CAB7271219CD')\nnon_numerical_columns",
   "metadata": {
    "tags": [],
    "deepnote_variable_name": "non_numerical_columns",
    "sql_integration_id": "d15db2fc-356f-4858-a44e-cab7271219cd",
    "cell_id": "362a488ca2524fcfba6192539c8c2133",
    "deepnote_to_be_reexecuted": false,
    "source_hash": "19c2bb12",
    "execution_start": 1661004757378,
    "execution_millis": 2420,
    "deepnote_cell_type": "sql",
    "deepnote_sql_source": "SELECT\n    STRING_AGG(column_name,\",\")\n  FROM\n    `labocr-267706.eda.INFORMATION_SCHEMA.COLUMNS`\n  WHERE\n    data_type IN (\"STRING\",\n      \"DATE\")",
    "deepnote_cell_height": 374
   },
   "outputs": [
    {
     "output_type": "execute_result",
     "execution_count": 5,
     "data": {
      "application/vnd.deepnote.dataframe.v3+json": {
       "column_count": 1,
       "row_count": 1,
       "columns": [
        {
         "name": "f0_",
         "dtype": "object",
         "stats": {
          "unique_count": 1,
          "nan_count": 0,
          "categories": [
           {
            "name": "Accident_Index,Date,Time,Local_Authority__Highway_,LSOA_of_Accident_Location",
            "count": 1
           }
          ]
         }
        },
        {
         "name": "_deepnote_index_column",
         "dtype": "int64"
        }
       ],
       "rows": [
        {
         "f0_": "Accident_Index,Date,Time,Local_Authority__Highway_,LSOA_of_Accident_Location",
         "_deepnote_index_column": 0
        }
       ]
      },
      "text/plain": "                                                 f0_\n0  Accident_Index,Date,Time,Local_Authority__High...",
      "text/html": "<div>\n<style scoped>\n    .dataframe tbody tr th:only-of-type {\n        vertical-align: middle;\n    }\n\n    .dataframe tbody tr th {\n        vertical-align: top;\n    }\n\n    .dataframe thead th {\n        text-align: right;\n    }\n</style>\n<table border=\"1\" class=\"dataframe\">\n  <thead>\n    <tr style=\"text-align: right;\">\n      <th></th>\n      <th>f0_</th>\n    </tr>\n  </thead>\n  <tbody>\n    <tr>\n      <th>0</th>\n      <td>Accident_Index,Date,Time,Local_Authority__High...</td>\n    </tr>\n  </tbody>\n</table>\n</div>"
     },
     "metadata": {}
    }
   ],
   "execution_count": 5
  },
  {
   "cell_type": "code",
   "source": "non_numerical_columns_str = non_numerical_columns[\"f0_\"][0]",
   "metadata": {
    "cell_id": "3563151786c6400287ef0c2aafeb5cae",
    "tags": [],
    "deepnote_to_be_reexecuted": false,
    "source_hash": "86a58d70",
    "execution_start": 1661004843060,
    "execution_millis": 3,
    "deepnote_cell_type": "code",
    "deepnote_cell_height": 76,
    "deepnote_output_heights": [
     20.1875
    ]
   },
   "outputs": [],
   "execution_count": 13
  },
  {
   "cell_type": "code",
   "source": "\n\ntarget_columns = _deepnote_execute_sql(\"\"\"-- Okay I am using a trick with I am not sure would work anywhere else, this is jinjasql \n-- and Deepnote has an integration with SQL to execute this sweetly. \n-- You'll need a certain amount of modification to get this working else where properly\nSELECT\n  {{non_numerical_columns_str | sqlsafe}}\nFROM\n  `labocr-267706.eda.road_safety`\n\"\"\", 'SQL_D15DB2FC_356F_4858_A44E_CAB7271219CD')\ntarget_columns",
   "metadata": {
    "tags": [],
    "deepnote_variable_name": "target_columns",
    "sql_integration_id": "d15db2fc-356f-4858-a44e-cab7271219cd",
    "cell_id": "27cd542f55434b2e97d6f0adf52ab7e6",
    "deepnote_to_be_reexecuted": false,
    "source_hash": "2f7a98c5",
    "execution_start": 1661005937604,
    "execution_millis": 11715,
    "deepnote_table_state": {
     "pageSize": 10,
     "pageIndex": 36323,
     "filters": [],
     "sortBy": []
    },
    "deepnote_table_loading": false,
    "deepnote_cell_type": "sql",
    "deepnote_sql_source": "-- Okay I am using a trick with I am not sure would work anywhere else, this is jinjasql \n-- and Deepnote has an integration with SQL to execute this sweetly. \n-- You'll need a certain amount of modification to get this working else where properly\nSELECT\n  {{non_numerical_columns_str | sqlsafe}}\nFROM\n  `labocr-267706.eda.road_safety`",
    "deepnote_cell_height": 743
   },
   "outputs": [
    {
     "output_type": "execute_result",
     "execution_count": 19,
     "data": {
      "application/vnd.deepnote.dataframe.v3+json": {
       "column_count": 5,
       "row_count": 363243,
       "columns": [
        {
         "name": "Accident_Index",
         "dtype": "object"
        },
        {
         "name": "Date",
         "dtype": "object"
        },
        {
         "name": "Time",
         "dtype": "object"
        },
        {
         "name": "Local_Authority__Highway_",
         "dtype": "object"
        },
        {
         "name": "LSOA_of_Accident_Location",
         "dtype": "object"
        },
        {
         "name": "_deepnote_index_column",
         "dtype": "int64"
        }
       ],
       "rows": [
        {
         "Accident_Index": "2015950005558",
         "Date": "2015-12-03",
         "Time": "13:05",
         "Local_Authority__Highway_": "S12000019",
         "LSOA_of_Accident_Location": "None",
         "_deepnote_index_column": 363230
        },
        {
         "Accident_Index": "2015950005558",
         "Date": "2015-12-03",
         "Time": "13:05",
         "Local_Authority__Highway_": "S12000019",
         "LSOA_of_Accident_Location": "None",
         "_deepnote_index_column": 363231
        },
        {
         "Accident_Index": "201597GC70301",
         "Date": "2015-01-12",
         "Time": "10:55",
         "Local_Authority__Highway_": "S12000011",
         "LSOA_of_Accident_Location": "None",
         "_deepnote_index_column": 363232
        },
        {
         "Accident_Index": "201597GC70301",
         "Date": "2015-01-12",
         "Time": "10:55",
         "Local_Authority__Highway_": "S12000011",
         "LSOA_of_Accident_Location": "None",
         "_deepnote_index_column": 363233
        },
        {
         "Accident_Index": "201597NA02711",
         "Date": "2015-11-22",
         "Time": "15:35",
         "Local_Authority__Highway_": "S12000044",
         "LSOA_of_Accident_Location": "None",
         "_deepnote_index_column": 363234
        },
        {
         "Accident_Index": "201597NA02711",
         "Date": "2015-11-22",
         "Time": "15:35",
         "Local_Authority__Highway_": "S12000044",
         "LSOA_of_Accident_Location": "None",
         "_deepnote_index_column": 363235
        },
        {
         "Accident_Index": "201597NE00308",
         "Date": "2015-08-01",
         "Time": "00:58",
         "Local_Authority__Highway_": "S12000044",
         "LSOA_of_Accident_Location": "None",
         "_deepnote_index_column": 363236
        },
        {
         "Accident_Index": "201597NE00308",
         "Date": "2015-08-01",
         "Time": "00:58",
         "Local_Authority__Highway_": "S12000044",
         "LSOA_of_Accident_Location": "None",
         "_deepnote_index_column": 363237
        },
        {
         "Accident_Index": "201597NE00308",
         "Date": "2015-08-01",
         "Time": "00:58",
         "Local_Authority__Highway_": "S12000044",
         "LSOA_of_Accident_Location": "None",
         "_deepnote_index_column": 363238
        },
        {
         "Accident_Index": "201597NE00308",
         "Date": "2015-08-01",
         "Time": "00:58",
         "Local_Authority__Highway_": "S12000044",
         "LSOA_of_Accident_Location": "None",
         "_deepnote_index_column": 363239
        }
       ]
      },
      "text/plain": "       Accident_Index        Date   Time Local_Authority__Highway_  \\\n0       2015440080946        None   None                      None   \n1       2015440080946        None   None                      None   \n2       2015440083952        None   None                      None   \n3       2015440083952        None   None                      None   \n4       2015440101052        None   None                      None   \n...               ...         ...    ...                       ...   \n363238  201597NE00308  2015-08-01  00:58                 S12000044   \n363239  201597NE00308  2015-08-01  00:58                 S12000044   \n363240  201597UC71106  2015-06-17  09:20                 S12000008   \n363241  201597UC71106  2015-06-17  09:20                 S12000008   \n363242  201597UC71106  2015-06-17  09:20                 S12000008   \n\n       LSOA_of_Accident_Location  \n0                           None  \n1                           None  \n2                           None  \n3                           None  \n4                           None  \n...                          ...  \n363238                      None  \n363239                      None  \n363240                      None  \n363241                      None  \n363242                      None  \n\n[363243 rows x 5 columns]",
      "text/html": "<div>\n<style scoped>\n    .dataframe tbody tr th:only-of-type {\n        vertical-align: middle;\n    }\n\n    .dataframe tbody tr th {\n        vertical-align: top;\n    }\n\n    .dataframe thead th {\n        text-align: right;\n    }\n</style>\n<table border=\"1\" class=\"dataframe\">\n  <thead>\n    <tr style=\"text-align: right;\">\n      <th></th>\n      <th>Accident_Index</th>\n      <th>Date</th>\n      <th>Time</th>\n      <th>Local_Authority__Highway_</th>\n      <th>LSOA_of_Accident_Location</th>\n    </tr>\n  </thead>\n  <tbody>\n    <tr>\n      <th>0</th>\n      <td>2015440080946</td>\n      <td>None</td>\n      <td>None</td>\n      <td>None</td>\n      <td>None</td>\n    </tr>\n    <tr>\n      <th>1</th>\n      <td>2015440080946</td>\n      <td>None</td>\n      <td>None</td>\n      <td>None</td>\n      <td>None</td>\n    </tr>\n    <tr>\n      <th>2</th>\n      <td>2015440083952</td>\n      <td>None</td>\n      <td>None</td>\n      <td>None</td>\n      <td>None</td>\n    </tr>\n    <tr>\n      <th>3</th>\n      <td>2015440083952</td>\n      <td>None</td>\n      <td>None</td>\n      <td>None</td>\n      <td>None</td>\n    </tr>\n    <tr>\n      <th>4</th>\n      <td>2015440101052</td>\n      <td>None</td>\n      <td>None</td>\n      <td>None</td>\n      <td>None</td>\n    </tr>\n    <tr>\n      <th>...</th>\n      <td>...</td>\n      <td>...</td>\n      <td>...</td>\n      <td>...</td>\n      <td>...</td>\n    </tr>\n    <tr>\n      <th>363238</th>\n      <td>201597NE00308</td>\n      <td>2015-08-01</td>\n      <td>00:58</td>\n      <td>S12000044</td>\n      <td>None</td>\n    </tr>\n    <tr>\n      <th>363239</th>\n      <td>201597NE00308</td>\n      <td>2015-08-01</td>\n      <td>00:58</td>\n      <td>S12000044</td>\n      <td>None</td>\n    </tr>\n    <tr>\n      <th>363240</th>\n      <td>201597UC71106</td>\n      <td>2015-06-17</td>\n      <td>09:20</td>\n      <td>S12000008</td>\n      <td>None</td>\n    </tr>\n    <tr>\n      <th>363241</th>\n      <td>201597UC71106</td>\n      <td>2015-06-17</td>\n      <td>09:20</td>\n      <td>S12000008</td>\n      <td>None</td>\n    </tr>\n    <tr>\n      <th>363242</th>\n      <td>201597UC71106</td>\n      <td>2015-06-17</td>\n      <td>09:20</td>\n      <td>S12000008</td>\n      <td>None</td>\n    </tr>\n  </tbody>\n</table>\n<p>363243 rows × 5 columns</p>\n</div>"
     },
     "metadata": {}
    }
   ],
   "execution_count": 19
  },
  {
   "cell_type": "code",
   "source": "target_columns.describe()\n# Rewriting describe in SQL is just too much work",
   "metadata": {
    "cell_id": "9f417336ff0a47a8bd8f12ba5ff94bb2",
    "tags": [],
    "deepnote_to_be_reexecuted": false,
    "source_hash": "878a4515",
    "execution_start": 1661005968945,
    "execution_millis": 1225,
    "deepnote_cell_type": "code",
    "deepnote_cell_height": 367
   },
   "outputs": [
    {
     "output_type": "execute_result",
     "execution_count": 21,
     "data": {
      "application/vnd.deepnote.dataframe.v3+json": {
       "column_count": 5,
       "row_count": 4,
       "columns": [
        {
         "name": "Accident_Index",
         "dtype": "object",
         "stats": {
          "unique_count": 4,
          "nan_count": 0,
          "categories": [
           {
            "name": "363243",
            "count": 1
           },
           {
            "name": "140056",
            "count": 1
           },
           {
            "name": "2 others",
            "count": 2
           }
          ]
         }
        },
        {
         "name": "Date",
         "dtype": "object",
         "stats": {
          "unique_count": 4,
          "nan_count": 0,
          "categories": [
           {
            "name": "319866",
            "count": 1
           },
           {
            "name": "365",
            "count": 1
           },
           {
            "name": "2 others",
            "count": 2
           }
          ]
         }
        },
        {
         "name": "Time",
         "dtype": "object",
         "stats": {
          "unique_count": 4,
          "nan_count": 0,
          "categories": [
           {
            "name": "319822",
            "count": 1
           },
           {
            "name": "1439",
            "count": 1
           },
           {
            "name": "2 others",
            "count": 2
           }
          ]
         }
        },
        {
         "name": "Local_Authority__Highway_",
         "dtype": "object",
         "stats": {
          "unique_count": 4,
          "nan_count": 0,
          "categories": [
           {
            "name": "319866",
            "count": 1
           },
           {
            "name": "204",
            "count": 1
           },
           {
            "name": "2 others",
            "count": 2
           }
          ]
         }
        },
        {
         "name": "LSOA_of_Accident_Location",
         "dtype": "object",
         "stats": {
          "unique_count": 4,
          "nan_count": 0,
          "categories": [
           {
            "name": "298758",
            "count": 1
           },
           {
            "name": "25979",
            "count": 1
           },
           {
            "name": "2 others",
            "count": 2
           }
          ]
         }
        },
        {
         "name": "_deepnote_index_column",
         "dtype": "object"
        }
       ],
       "rows": [
        {
         "Accident_Index": "363243",
         "Date": "319866",
         "Time": "319822",
         "Local_Authority__Highway_": "319866",
         "LSOA_of_Accident_Location": "298758",
         "_deepnote_index_column": "count"
        },
        {
         "Accident_Index": "140056",
         "Date": "365",
         "Time": "1439",
         "Local_Authority__Highway_": "204",
         "LSOA_of_Accident_Location": "25979",
         "_deepnote_index_column": "unique"
        },
        {
         "Accident_Index": "201543P296025",
         "Date": "2015-02-14",
         "Time": "17:30",
         "Local_Authority__Highway_": "E10000017",
         "LSOA_of_Accident_Location": "E01028497",
         "_deepnote_index_column": "top"
        },
        {
         "Accident_Index": "1332",
         "Date": "2144",
         "Time": "2972",
         "Local_Authority__Highway_": "8457",
         "LSOA_of_Accident_Location": "1456",
         "_deepnote_index_column": "freq"
        }
       ]
      },
      "text/plain": "       Accident_Index        Date    Time Local_Authority__Highway_  \\\ncount          363243      319866  319822                    319866   \nunique         140056         365    1439                       204   \ntop     201543P296025  2015-02-14   17:30                 E10000017   \nfreq             1332        2144    2972                      8457   \n\n       LSOA_of_Accident_Location  \ncount                     298758  \nunique                     25979  \ntop                    E01028497  \nfreq                        1456  ",
      "text/html": "<div>\n<style scoped>\n    .dataframe tbody tr th:only-of-type {\n        vertical-align: middle;\n    }\n\n    .dataframe tbody tr th {\n        vertical-align: top;\n    }\n\n    .dataframe thead th {\n        text-align: right;\n    }\n</style>\n<table border=\"1\" class=\"dataframe\">\n  <thead>\n    <tr style=\"text-align: right;\">\n      <th></th>\n      <th>Accident_Index</th>\n      <th>Date</th>\n      <th>Time</th>\n      <th>Local_Authority__Highway_</th>\n      <th>LSOA_of_Accident_Location</th>\n    </tr>\n  </thead>\n  <tbody>\n    <tr>\n      <th>count</th>\n      <td>363243</td>\n      <td>319866</td>\n      <td>319822</td>\n      <td>319866</td>\n      <td>298758</td>\n    </tr>\n    <tr>\n      <th>unique</th>\n      <td>140056</td>\n      <td>365</td>\n      <td>1439</td>\n      <td>204</td>\n      <td>25979</td>\n    </tr>\n    <tr>\n      <th>top</th>\n      <td>201543P296025</td>\n      <td>2015-02-14</td>\n      <td>17:30</td>\n      <td>E10000017</td>\n      <td>E01028497</td>\n    </tr>\n    <tr>\n      <th>freq</th>\n      <td>1332</td>\n      <td>2144</td>\n      <td>2972</td>\n      <td>8457</td>\n      <td>1456</td>\n    </tr>\n  </tbody>\n</table>\n</div>"
     },
     "metadata": {}
    }
   ],
   "execution_count": 21
  },
  {
   "cell_type": "markdown",
   "source": "### 1.2. Structure of numerical features",
   "metadata": {
    "is_collapsed": false,
    "cell_id": "e262399866b04fa49350071c93bb841e",
    "tags": [],
    "formattedRanges": [],
    "deepnote_cell_type": "text-cell-h3"
   }
  },
  {
   "cell_type": "code",
   "source": "\n\nnumerical_columns = _deepnote_execute_sql(\"\"\"SELECT\n    STRING_AGG(column_name,\",\")\n  FROM\n    `labocr-267706.eda.INFORMATION_SCHEMA.COLUMNS`\n  WHERE\n    data_type IN (\"INT64\",\n      \"FLOAT64\")\n\"\"\", 'SQL_D15DB2FC_356F_4858_A44E_CAB7271219CD')\nnumerical_columns",
   "metadata": {
    "tags": [],
    "deepnote_variable_name": "numerical_columns",
    "sql_integration_id": "d15db2fc-356f-4858-a44e-cab7271219cd",
    "cell_id": "99460c97729741b0a808db6bc6bf3328",
    "deepnote_to_be_reexecuted": false,
    "source_hash": "69bb4488",
    "execution_start": 1661006102277,
    "execution_millis": 3288,
    "deepnote_cell_type": "sql",
    "deepnote_sql_source": "SELECT\n    STRING_AGG(column_name,\",\")\n  FROM\n    `labocr-267706.eda.INFORMATION_SCHEMA.COLUMNS`\n  WHERE\n    data_type IN (\"INT64\",\n      \"FLOAT64\")",
    "deepnote_cell_height": 374
   },
   "outputs": [
    {
     "output_type": "execute_result",
     "execution_count": 22,
     "data": {
      "application/vnd.deepnote.dataframe.v3+json": {
       "column_count": 1,
       "row_count": 1,
       "columns": [
        {
         "name": "f0_",
         "dtype": "object",
         "stats": {
          "unique_count": 1,
          "nan_count": 0,
          "categories": [
           {
            "name": "Vehicle_Reference_df_res,Vehicle_Type,Towing_and_Articulation,Vehicle_Manoeuvre,Vehicle_Location_Restricted_Lane,Junction_Location,Skidding_and_Overturning,Hit_Object_in_Carriageway,Vehicle_Leaving_Carriageway,Hit_Object_off_Carriageway,_1st_Point_of_Impact,Was_Vehicle_Left_Hand_Drive,Journey_Purpose_of_Driver,Sex_of_Driver,Age_of_Driver,Age_Band_of_Driver,Engine_Capacity__CC_,Propulsion_Code,Age_of_Vehicle,Driver_Home_Area_Type,Location_Easting_OSGR,Location_Northing_OSGR,Longitude,Latitude,Police_Force,Accident_Severity,Number_of_Vehicles,Number_of_Casualties,Day_of_Week,Local_Authority__District_,_1st_Road_Class,_1st_Road_Number,Road_Type,Speed_limit,Junction_Detail,Junction_Control,_2nd_Road_Class,_2nd_Road_Number,Pedestrian_Crossing_Human_Control,Pedestrian_Crossing_Physical_Facilities,Light_Conditions,Weather_Conditions,Road_Surface_Conditions,Special_Conditions_at_Site,Carriageway_Hazards,Urban_or_Rural_Area,Did_Police_Officer_Attend_Scene_of_Accident,Vehicle_Reference_df,Casualty_Reference,Casualty_Class,Sex_of_Casualty,Age_of_Casualty,Age_Band_of_Casualty,Casualty_Severity,Pedestrian_Location,Pedestrian_Movement,Car_Passenger,Bus_or_Coach_Passenger,Pedestrian_Road_Maintenance_Worker,Casualty_Type,Casualty_Home_Area_Type,Casualty_IMD_Decile",
            "count": 1
           }
          ]
         }
        },
        {
         "name": "_deepnote_index_column",
         "dtype": "int64"
        }
       ],
       "rows": [
        {
         "f0_": "Vehicle_Reference_df_res,Vehicle_Type,Towing_and_Articulation,Vehicle_Manoeuvre,Vehicle_Location_Restricted_Lane,Junction_Location,Skidding_and_Overturning,Hit_Object_in_Carriageway,Vehicle_Leaving_Carriageway,Hit_Object_off_Carriageway,_1st_Point_of_Impact,Was_Vehicle_Left_Hand_Drive,Journey_Purpose_of_Driver,Sex_of_Driver,Age_of_Driver,Age_Band_of_Driver,Engine_Capacity__CC_,Propulsion_Code,Age_of_Vehicle,Driver_Home_Area_Type,Location_Easting_OSGR,Location_Northing_OSGR,Longitude,Latitude,Police_Force,Accident_Severity,Number_of_Vehicles,Number_of_Casualties,Day_of_Week,Local_Authority__District_,_1st_Road_Class,_1st_Road_Number,Road_Type,Speed_limit,Junction_Detail,Junction_Control,_2nd_Road_Class,_2nd_Road_Number,Pedestrian_Crossing_Human_Control,Pedestrian_Crossing_Physical_Facilities,Light_Conditions,Weather_Conditions,Road_Surface_Conditions,Special_Conditions_at_Site,Carriageway_Hazards,Urban_or_Rural_Area,Did_Police_Officer_Attend_Scene_of_Accident,Vehicle_Reference_df,Casua…",
         "_deepnote_index_column": 0
        }
       ]
      },
      "text/plain": "                                                 f0_\n0  Vehicle_Reference_df_res,Vehicle_Type,Towing_a...",
      "text/html": "<div>\n<style scoped>\n    .dataframe tbody tr th:only-of-type {\n        vertical-align: middle;\n    }\n\n    .dataframe tbody tr th {\n        vertical-align: top;\n    }\n\n    .dataframe thead th {\n        text-align: right;\n    }\n</style>\n<table border=\"1\" class=\"dataframe\">\n  <thead>\n    <tr style=\"text-align: right;\">\n      <th></th>\n      <th>f0_</th>\n    </tr>\n  </thead>\n  <tbody>\n    <tr>\n      <th>0</th>\n      <td>Vehicle_Reference_df_res,Vehicle_Type,Towing_a...</td>\n    </tr>\n  </tbody>\n</table>\n</div>"
     },
     "metadata": {}
    }
   ],
   "execution_count": 22
  },
  {
   "cell_type": "code",
   "source": "\n\nnumericalcols_data = _deepnote_execute_sql(\"\"\"SELECT\n  {{numerical_columns[\"f0_\"][0] | sqlsafe}}\nFROM\n  `labocr-267706.eda.road_safety`\n\"\"\", 'SQL_D15DB2FC_356F_4858_A44E_CAB7271219CD')\nnumericalcols_data",
   "metadata": {
    "tags": [],
    "deepnote_variable_name": "numericalcols_data",
    "sql_integration_id": "d15db2fc-356f-4858-a44e-cab7271219cd",
    "cell_id": "328aeaf288f54603b2867d4259d9df5b",
    "deepnote_to_be_reexecuted": false,
    "source_hash": "cc8b3088",
    "execution_start": 1661006428585,
    "execution_millis": 36905,
    "deepnote_cell_type": "sql",
    "deepnote_sql_source": "SELECT\n  {{numerical_columns[\"f0_\"][0] | sqlsafe}}\nFROM\n  `labocr-267706.eda.road_safety`",
    "deepnote_cell_height": 705.65625
   },
   "outputs": [
    {
     "output_type": "execute_result",
     "execution_count": 24,
     "data": {
      "application/vnd.deepnote.dataframe.v3+json": {
       "column_count": 62,
       "row_count": 363243,
       "columns": [
        {
         "name": "Vehicle_Reference_df_res",
         "dtype": "int64"
        },
        {
         "name": "Vehicle_Type",
         "dtype": "float64"
        },
        {
         "name": "Towing_and_Articulation",
         "dtype": "float64"
        },
        {
         "name": "Vehicle_Manoeuvre",
         "dtype": "float64"
        },
        {
         "name": "Vehicle_Location_Restricted_Lane",
         "dtype": "float64"
        },
        {
         "name": "Junction_Location",
         "dtype": "float64"
        },
        {
         "name": "Skidding_and_Overturning",
         "dtype": "float64"
        },
        {
         "name": "Hit_Object_in_Carriageway",
         "dtype": "float64"
        },
        {
         "name": "Vehicle_Leaving_Carriageway",
         "dtype": "float64"
        },
        {
         "name": "Hit_Object_off_Carriageway",
         "dtype": "float64"
        },
        {
         "name": "_1st_Point_of_Impact",
         "dtype": "float64"
        },
        {
         "name": "Was_Vehicle_Left_Hand_Drive",
         "dtype": "float64"
        },
        {
         "name": "Journey_Purpose_of_Driver",
         "dtype": "float64"
        },
        {
         "name": "Sex_of_Driver",
         "dtype": "float64"
        },
        {
         "name": "Age_of_Driver",
         "dtype": "float64"
        },
        {
         "name": "Age_Band_of_Driver",
         "dtype": "float64"
        },
        {
         "name": "Engine_Capacity__CC_",
         "dtype": "float64"
        },
        {
         "name": "Propulsion_Code",
         "dtype": "float64"
        },
        {
         "name": "Age_of_Vehicle",
         "dtype": "float64"
        },
        {
         "name": "Driver_Home_Area_Type",
         "dtype": "float64"
        },
        {
         "name": "Location_Easting_OSGR",
         "dtype": "float64"
        },
        {
         "name": "Location_Northing_OSGR",
         "dtype": "float64"
        },
        {
         "name": "Longitude",
         "dtype": "float64"
        },
        {
         "name": "Latitude",
         "dtype": "float64"
        },
        {
         "name": "Police_Force",
         "dtype": "float64"
        },
        {
         "name": "Accident_Severity",
         "dtype": "float64"
        },
        {
         "name": "Number_of_Vehicles",
         "dtype": "float64"
        },
        {
         "name": "Number_of_Casualties",
         "dtype": "float64"
        },
        {
         "name": "Day_of_Week",
         "dtype": "float64"
        },
        {
         "name": "Local_Authority__District_",
         "dtype": "float64"
        },
        {
         "name": "_1st_Road_Class",
         "dtype": "float64"
        },
        {
         "name": "_1st_Road_Number",
         "dtype": "float64"
        },
        {
         "name": "Road_Type",
         "dtype": "float64"
        },
        {
         "name": "Speed_limit",
         "dtype": "float64"
        },
        {
         "name": "Junction_Detail",
         "dtype": "float64"
        },
        {
         "name": "Junction_Control",
         "dtype": "float64"
        },
        {
         "name": "_2nd_Road_Class",
         "dtype": "float64"
        },
        {
         "name": "_2nd_Road_Number",
         "dtype": "float64"
        },
        {
         "name": "Pedestrian_Crossing_Human_Control",
         "dtype": "float64"
        },
        {
         "name": "Pedestrian_Crossing_Physical_Facilities",
         "dtype": "float64"
        },
        {
         "name": "Light_Conditions",
         "dtype": "float64"
        },
        {
         "name": "Weather_Conditions",
         "dtype": "float64"
        },
        {
         "name": "Road_Surface_Conditions",
         "dtype": "float64"
        },
        {
         "name": "Special_Conditions_at_Site",
         "dtype": "float64"
        },
        {
         "name": "Carriageway_Hazards",
         "dtype": "float64"
        },
        {
         "name": "Urban_or_Rural_Area",
         "dtype": "float64"
        },
        {
         "name": "Did_Police_Officer_Attend_Scene_of_Accident",
         "dtype": "float64"
        },
        {
         "name": "Vehicle_Reference_df",
         "dtype": "int64"
        },
        {
         "name": "Casualty_Reference",
         "dtype": "int64"
        },
        {
         "name": "Casualty_Class",
         "dtype": "int64"
        },
        {
         "name": "Sex_of_Casualty",
         "dtype": "float64"
        },
        {
         "name": "Age_of_Casualty",
         "dtype": "float64"
        },
        {
         "name": "Age_Band_of_Casualty",
         "dtype": "float64"
        },
        {
         "name": "Casualty_Severity",
         "dtype": "int64"
        },
        {
         "name": "Pedestrian_Location",
         "dtype": "float64"
        },
        {
         "name": "Pedestrian_Movement",
         "dtype": "float64"
        },
        {
         "name": "Car_Passenger",
         "dtype": "float64"
        },
        {
         "name": "Bus_or_Coach_Passenger",
         "dtype": "float64"
        },
        {
         "name": "Pedestrian_Road_Maintenance_Worker",
         "dtype": "float64"
        },
        {
         "name": "Casualty_Type",
         "dtype": "int64"
        },
        {
         "name": "Casualty_Home_Area_Type",
         "dtype": "float64"
        },
        {
         "name": "Casualty_IMD_Decile",
         "dtype": "float64"
        },
        {
         "name": "_deepnote_index_column",
         "dtype": "int64"
        }
       ],
       "rows": [
        {
         "Vehicle_Reference_df_res": 1,
         "Vehicle_Type": 97,
         "Towing_and_Articulation": 0,
         "Vehicle_Manoeuvre": 3,
         "Vehicle_Location_Restricted_Lane": 0,
         "Junction_Location": 8,
         "Skidding_and_Overturning": 0,
         "Hit_Object_in_Carriageway": 9,
         "Vehicle_Leaving_Carriageway": 0,
         "Hit_Object_off_Carriageway": 0,
         "_1st_Point_of_Impact": 2,
         "Was_Vehicle_Left_Hand_Drive": 1,
         "Journey_Purpose_of_Driver": 6,
         "Sex_of_Driver": 1,
         "Age_of_Driver": 67,
         "Age_Band_of_Driver": 10,
         "Engine_Capacity__CC_": "nan",
         "Propulsion_Code": "nan",
         "Age_of_Vehicle": "nan",
         "Driver_Home_Area_Type": 1,
         "Location_Easting_OSGR": "nan",
         "Location_Northing_OSGR": "nan",
         "Longitude": "nan",
         "Latitude": "nan",
         "Police_Force": "nan",
         "Accident_Severity": "nan",
         "Number_of_Vehicles": "nan",
         "Number_of_Casualties": "nan",
         "Day_of_Week": "nan",
         "Local_Authority__District_": "nan",
         "_1st_Road_Class": "nan",
         "_1st_Road_Number": "nan",
         "Road_Type": "nan",
         "Speed_limit": "nan",
         "Junction_Detail": "nan",
         "Junction_Control": "nan",
         "_2nd_Road_Class": "nan",
         "_2nd_Road_Number": "nan",
         "Pedestrian_Crossing_Human_Control": "nan",
         "Pedestrian_Crossing_Physical_Facilities": "nan",
         "Light_Conditions": "nan",
         "Weather_Conditions": "nan",
         "Road_Surface_Conditions": "nan",
         "Special_Conditions_at_Site": "nan",
         "Carriageway_Hazards": "nan",
         "Urban_or_Rural_Area": "nan",
         "Did_Police_Officer_Attend_Scene_of_Accident": "nan",
         "Vehicle_Reference_df": 1,
         "Casualty_Reference": 1,
         "Casualty_Class": 1,
         "Sex_of_Casualty": 1,
         "Age_of_Casualty": 67,
         "Age_Band_of_Casualty": 10,
         "Casualty_Severity": 3,
         "Pedestrian_Location": 0,
         "Pedestrian_Movement": 0,
         "Car_Passenger": 0,
         "Bus_or_Coach_Passenger": 0,
         "Pedestrian_Road_Maintenance_Worker": 0,
         "Casualty_Type": 97,
         "Casualty_Home_Area_Type": 1,
         "Casualty_IMD_Decile": 5,
         "_deepnote_index_column": 0
        },
        {
         "Vehicle_Reference_df_res": 2,
         "Vehicle_Type": 9,
         "Towing_and_Articulation": 0,
         "Vehicle_Manoeuvre": 18,
         "Vehicle_Location_Restricted_Lane": 0,
         "Junction_Location": 8,
         "Skidding_and_Overturning": 0,
         "Hit_Object_in_Carriageway": 0,
         "Vehicle_Leaving_Carriageway": 0,
         "Hit_Object_off_Carriageway": 0,
         "_1st_Point_of_Impact": 1,
         "Was_Vehicle_Left_Hand_Drive": 1,
         "Journey_Purpose_of_Driver": 6,
         "Sex_of_Driver": 1,
         "Age_of_Driver": "nan",
         "Age_Band_of_Driver": "nan",
         "Engine_Capacity__CC_": 1948,
         "Propulsion_Code": 1,
         "Age_of_Vehicle": 14,
         "Driver_Home_Area_Type": 1,
         "Location_Easting_OSGR": "nan",
         "Location_Northing_OSGR": "nan",
         "Longitude": "nan",
         "Latitude": "nan",
         "Police_Force": "nan",
         "Accident_Severity": "nan",
         "Number_of_Vehicles": "nan",
         "Number_of_Casualties": "nan",
         "Day_of_Week": "nan",
         "Local_Authority__District_": "nan",
         "_1st_Road_Class": "nan",
         "_1st_Road_Number": "nan",
         "Road_Type": "nan",
         "Speed_limit": "nan",
         "Junction_Detail": "nan",
         "Junction_Control": "nan",
         "_2nd_Road_Class": "nan",
         "_2nd_Road_Number": "nan",
         "Pedestrian_Crossing_Human_Control": "nan",
         "Pedestrian_Crossing_Physical_Facilities": "nan",
         "Light_Conditions": "nan",
         "Weather_Conditions": "nan",
         "Road_Surface_Conditions": "nan",
         "Special_Conditions_at_Site": "nan",
         "Carriageway_Hazards": "nan",
         "Urban_or_Rural_Area": "nan",
         "Did_Police_Officer_Attend_Scene_of_Accident": "nan",
         "Vehicle_Reference_df": 1,
         "Casualty_Reference": 1,
         "Casualty_Class": 1,
         "Sex_of_Casualty": 1,
         "Age_of_Casualty": 67,
         "Age_Band_of_Casualty": 10,
         "Casualty_Severity": 3,
         "Pedestrian_Location": 0,
         "Pedestrian_Movement": 0,
         "Car_Passenger": 0,
         "Bus_or_Coach_Passenger": 0,
         "Pedestrian_Road_Maintenance_Worker": 0,
         "Casualty_Type": 97,
         "Casualty_Home_Area_Type": 1,
         "Casualty_IMD_Decile": 5,
         "_deepnote_index_column": 1
        },
        {
         "Vehicle_Reference_df_res": 1,
         "Vehicle_Type": 9,
         "Towing_and_Articulation": 0,
         "Vehicle_Manoeuvre": 7,
         "Vehicle_Location_Restricted_Lane": 0,
         "Junction_Location": 8,
         "Skidding_and_Overturning": 0,
         "Hit_Object_in_Carriageway": 0,
         "Vehicle_Leaving_Carriageway": 0,
         "Hit_Object_off_Carriageway": 0,
         "_1st_Point_of_Impact": 1,
         "Was_Vehicle_Left_Hand_Drive": 1,
         "Journey_Purpose_of_Driver": 6,
         "Sex_of_Driver": 1,
         "Age_of_Driver": "nan",
         "Age_Band_of_Driver": "nan",
         "Engine_Capacity__CC_": "nan",
         "Propulsion_Code": "nan",
         "Age_of_Vehicle": "nan",
         "Driver_Home_Area_Type": "nan",
         "Location_Easting_OSGR": "nan",
         "Location_Northing_OSGR": "nan",
         "Longitude": "nan",
         "Latitude": "nan",
         "Police_Force": "nan",
         "Accident_Severity": "nan",
         "Number_of_Vehicles": "nan",
         "Number_of_Casualties": "nan",
         "Day_of_Week": "nan",
         "Local_Authority__District_": "nan",
         "_1st_Road_Class": "nan",
         "_1st_Road_Number": "nan",
         "Road_Type": "nan",
         "Speed_limit": "nan",
         "Junction_Detail": "nan",
         "Junction_Control": "nan",
         "_2nd_Road_Class": "nan",
         "_2nd_Road_Number": "nan",
         "Pedestrian_Crossing_Human_Control": "nan",
         "Pedestrian_Crossing_Physical_Facilities": "nan",
         "Light_Conditions": "nan",
         "Weather_Conditions": "nan",
         "Road_Surface_Conditions": "nan",
         "Special_Conditions_at_Site": "nan",
         "Carriageway_Hazards": "nan",
         "Urban_or_Rural_Area": "nan",
         "Did_Police_Officer_Attend_Scene_of_Accident": "nan",
         "Vehicle_Reference_df": 2,
         "Casualty_Reference": 1,
         "Casualty_Class": 1,
         "Sex_of_Casualty": 1,
         "Age_of_Casualty": 83,
         "Age_Band_of_Casualty": 11,
         "Casualty_Severity": 2,
         "Pedestrian_Location": 0,
         "Pedestrian_Movement": 0,
         "Car_Passenger": 0,
         "Bus_or_Coach_Passenger": 0,
         "Pedestrian_Road_Maintenance_Worker": 0,
         "Casualty_Type": 22,
         "Casualty_Home_Area_Type": 1,
         "Casualty_IMD_Decile": 3,
         "_deepnote_index_column": 2
        },
        {
         "Vehicle_Reference_df_res": 2,
         "Vehicle_Type": 22,
         "Towing_and_Articulation": 0,
         "Vehicle_Manoeuvre": 18,
         "Vehicle_Location_Restricted_Lane": 0,
         "Junction_Location": 8,
         "Skidding_and_Overturning": 0,
         "Hit_Object_in_Carriageway": 0,
         "Vehicle_Leaving_Carriageway": 0,
         "Hit_Object_off_Carriageway": 0,
         "_1st_Point_of_Impact": 4,
         "Was_Vehicle_Left_Hand_Drive": 1,
         "Journey_Purpose_of_Driver": 6,
         "Sex_of_Driver": 1,
         "Age_of_Driver": 83,
         "Age_Band_of_Driver": 11,
         "Engine_Capacity__CC_": "nan",
         "Propulsion_Code": "nan",
         "Age_of_Vehicle": "nan",
         "Driver_Home_Area_Type": 1,
         "Location_Easting_OSGR": "nan",
         "Location_Northing_OSGR": "nan",
         "Longitude": "nan",
         "Latitude": "nan",
         "Police_Force": "nan",
         "Accident_Severity": "nan",
         "Number_of_Vehicles": "nan",
         "Number_of_Casualties": "nan",
         "Day_of_Week": "nan",
         "Local_Authority__District_": "nan",
         "_1st_Road_Class": "nan",
         "_1st_Road_Number": "nan",
         "Road_Type": "nan",
         "Speed_limit": "nan",
         "Junction_Detail": "nan",
         "Junction_Control": "nan",
         "_2nd_Road_Class": "nan",
         "_2nd_Road_Number": "nan",
         "Pedestrian_Crossing_Human_Control": "nan",
         "Pedestrian_Crossing_Physical_Facilities": "nan",
         "Light_Conditions": "nan",
         "Weather_Conditions": "nan",
         "Road_Surface_Conditions": "nan",
         "Special_Conditions_at_Site": "nan",
         "Carriageway_Hazards": "nan",
         "Urban_or_Rural_Area": "nan",
         "Did_Police_Officer_Attend_Scene_of_Accident": "nan",
         "Vehicle_Reference_df": 2,
         "Casualty_Reference": 1,
         "Casualty_Class": 1,
         "Sex_of_Casualty": 1,
         "Age_of_Casualty": 83,
         "Age_Band_of_Casualty": 11,
         "Casualty_Severity": 2,
         "Pedestrian_Location": 0,
         "Pedestrian_Movement": 0,
         "Car_Passenger": 0,
         "Bus_or_Coach_Passenger": 0,
         "Pedestrian_Road_Maintenance_Worker": 0,
         "Casualty_Type": 22,
         "Casualty_Home_Area_Type": 1,
         "Casualty_IMD_Decile": 3,
         "_deepnote_index_column": 3
        },
        {
         "Vehicle_Reference_df_res": 1,
         "Vehicle_Type": 21,
         "Towing_and_Articulation": 1,
         "Vehicle_Manoeuvre": 16,
         "Vehicle_Location_Restricted_Lane": 0,
         "Junction_Location": 0,
         "Skidding_and_Overturning": 2,
         "Hit_Object_in_Carriageway": 0,
         "Vehicle_Leaving_Carriageway": 1,
         "Hit_Object_off_Carriageway": 2,
         "_1st_Point_of_Impact": 2,
         "Was_Vehicle_Left_Hand_Drive": 1,
         "Journey_Purpose_of_Driver": 1,
         "Sex_of_Driver": 1,
         "Age_of_Driver": 40,
         "Age_Band_of_Driver": 7,
         "Engine_Capacity__CC_": 11929,
         "Propulsion_Code": 2,
         "Age_of_Vehicle": 9,
         "Driver_Home_Area_Type": 1,
         "Location_Easting_OSGR": "nan",
         "Location_Northing_OSGR": "nan",
         "Longitude": "nan",
         "Latitude": "nan",
         "Police_Force": "nan",
         "Accident_Severity": "nan",
         "Number_of_Vehicles": "nan",
         "Number_of_Casualties": "nan",
         "Day_of_Week": "nan",
         "Local_Authority__District_": "nan",
         "_1st_Road_Class": "nan",
         "_1st_Road_Number": "nan",
         "Road_Type": "nan",
         "Speed_limit": "nan",
         "Junction_Detail": "nan",
         "Junction_Control": "nan",
         "_2nd_Road_Class": "nan",
         "_2nd_Road_Number": "nan",
         "Pedestrian_Crossing_Human_Control": "nan",
         "Pedestrian_Crossing_Physical_Facilities": "nan",
         "Light_Conditions": "nan",
         "Weather_Conditions": "nan",
         "Road_Surface_Conditions": "nan",
         "Special_Conditions_at_Site": "nan",
         "Carriageway_Hazards": "nan",
         "Urban_or_Rural_Area": "nan",
         "Did_Police_Officer_Attend_Scene_of_Accident": "nan",
         "Vehicle_Reference_df": 1,
         "Casualty_Reference": 1,
         "Casualty_Class": 1,
         "Sex_of_Casualty": 1,
         "Age_of_Casualty": 40,
         "Age_Band_of_Casualty": 7,
         "Casualty_Severity": 3,
         "Pedestrian_Location": 0,
         "Pedestrian_Movement": 0,
         "Car_Passenger": 0,
         "Bus_or_Coach_Passenger": 0,
         "Pedestrian_Road_Maintenance_Worker": 0,
         "Casualty_Type": 21,
         "Casualty_Home_Area_Type": 1,
         "Casualty_IMD_Decile": 8,
         "_deepnote_index_column": 4
        },
        {
         "Vehicle_Reference_df_res": 1,
         "Vehicle_Type": 9,
         "Towing_and_Articulation": 0,
         "Vehicle_Manoeuvre": 9,
         "Vehicle_Location_Restricted_Lane": 0,
         "Junction_Location": 6,
         "Skidding_and_Overturning": 0,
         "Hit_Object_in_Carriageway": 0,
         "Vehicle_Leaving_Carriageway": 0,
         "Hit_Object_off_Carriageway": 0,
         "_1st_Point_of_Impact": 3,
         "Was_Vehicle_Left_Hand_Drive": 1,
         "Journey_Purpose_of_Driver": 6,
         "Sex_of_Driver": 1,
         "Age_of_Driver": 74,
         "Age_Band_of_Driver": 10,
         "Engine_Capacity__CC_": 1398,
         "Propulsion_Code": 1,
         "Age_of_Vehicle": 10,
         "Driver_Home_Area_Type": 1,
         "Location_Easting_OSGR": "nan",
         "Location_Northing_OSGR": "nan",
         "Longitude": "nan",
         "Latitude": "nan",
         "Police_Force": "nan",
         "Accident_Severity": "nan",
         "Number_of_Vehicles": "nan",
         "Number_of_Casualties": "nan",
         "Day_of_Week": "nan",
         "Local_Authority__District_": "nan",
         "_1st_Road_Class": "nan",
         "_1st_Road_Number": "nan",
         "Road_Type": "nan",
         "Speed_limit": "nan",
         "Junction_Detail": "nan",
         "Junction_Control": "nan",
         "_2nd_Road_Class": "nan",
         "_2nd_Road_Number": "nan",
         "Pedestrian_Crossing_Human_Control": "nan",
         "Pedestrian_Crossing_Physical_Facilities": "nan",
         "Light_Conditions": "nan",
         "Weather_Conditions": "nan",
         "Road_Surface_Conditions": "nan",
         "Special_Conditions_at_Site": "nan",
         "Carriageway_Hazards": "nan",
         "Urban_or_Rural_Area": "nan",
         "Did_Police_Officer_Attend_Scene_of_Accident": "nan",
         "Vehicle_Reference_df": 2,
         "Casualty_Reference": 1,
         "Casualty_Class": 1,
         "Sex_of_Casualty": 1,
         "Age_of_Casualty": 64,
         "Age_Band_of_Casualty": 9,
         "Casualty_Severity": 2,
         "Pedestrian_Location": 0,
         "Pedestrian_Movement": 0,
         "Car_Passenger": 0,
         "Bus_or_Coach_Passenger": 0,
         "Pedestrian_Road_Maintenance_Worker": 0,
         "Casualty_Type": 97,
         "Casualty_Home_Area_Type": 1,
         "Casualty_IMD_Decile": 8,
         "_deepnote_index_column": 5
        },
        {
         "Vehicle_Reference_df_res": 2,
         "Vehicle_Type": 97,
         "Towing_and_Articulation": 0,
         "Vehicle_Manoeuvre": 18,
         "Vehicle_Location_Restricted_Lane": 0,
         "Junction_Location": 1,
         "Skidding_and_Overturning": 0,
         "Hit_Object_in_Carriageway": 0,
         "Vehicle_Leaving_Carriageway": 0,
         "Hit_Object_off_Carriageway": 0,
         "_1st_Point_of_Impact": 1,
         "Was_Vehicle_Left_Hand_Drive": 1,
         "Journey_Purpose_of_Driver": 6,
         "Sex_of_Driver": 1,
         "Age_of_Driver": 64,
         "Age_Band_of_Driver": 9,
         "Engine_Capacity__CC_": "nan",
         "Propulsion_Code": "nan",
         "Age_of_Vehicle": "nan",
         "Driver_Home_Area_Type": 1,
         "Location_Easting_OSGR": "nan",
         "Location_Northing_OSGR": "nan",
         "Longitude": "nan",
         "Latitude": "nan",
         "Police_Force": "nan",
         "Accident_Severity": "nan",
         "Number_of_Vehicles": "nan",
         "Number_of_Casualties": "nan",
         "Day_of_Week": "nan",
         "Local_Authority__District_": "nan",
         "_1st_Road_Class": "nan",
         "_1st_Road_Number": "nan",
         "Road_Type": "nan",
         "Speed_limit": "nan",
         "Junction_Detail": "nan",
         "Junction_Control": "nan",
         "_2nd_Road_Class": "nan",
         "_2nd_Road_Number": "nan",
         "Pedestrian_Crossing_Human_Control": "nan",
         "Pedestrian_Crossing_Physical_Facilities": "nan",
         "Light_Conditions": "nan",
         "Weather_Conditions": "nan",
         "Road_Surface_Conditions": "nan",
         "Special_Conditions_at_Site": "nan",
         "Carriageway_Hazards": "nan",
         "Urban_or_Rural_Area": "nan",
         "Did_Police_Officer_Attend_Scene_of_Accident": "nan",
         "Vehicle_Reference_df": 2,
         "Casualty_Reference": 1,
         "Casualty_Class": 1,
         "Sex_of_Casualty": 1,
         "Age_of_Casualty": 64,
         "Age_Band_of_Casualty": 9,
         "Casualty_Severity": 2,
         "Pedestrian_Location": 0,
         "Pedestrian_Movement": 0,
         "Car_Passenger": 0,
         "Bus_or_Coach_Passenger": 0,
         "Pedestrian_Road_Maintenance_Worker": 0,
         "Casualty_Type": 97,
         "Casualty_Home_Area_Type": 1,
         "Casualty_IMD_Decile": 8,
         "_deepnote_index_column": 6
        },
        {
         "Vehicle_Reference_df_res": 1,
         "Vehicle_Type": 97,
         "Towing_and_Articulation": 0,
         "Vehicle_Manoeuvre": 9,
         "Vehicle_Location_Restricted_Lane": 0,
         "Junction_Location": 8,
         "Skidding_and_Overturning": 0,
         "Hit_Object_in_Carriageway": 0,
         "Vehicle_Leaving_Carriageway": 0,
         "Hit_Object_off_Carriageway": 0,
         "_1st_Point_of_Impact": 3,
         "Was_Vehicle_Left_Hand_Drive": 1,
         "Journey_Purpose_of_Driver": 2,
         "Sex_of_Driver": 1,
         "Age_of_Driver": 27,
         "Age_Band_of_Driver": 6,
         "Engine_Capacity__CC_": 124,
         "Propulsion_Code": 1,
         "Age_of_Vehicle": 10,
         "Driver_Home_Area_Type": 1,
         "Location_Easting_OSGR": "nan",
         "Location_Northing_OSGR": "nan",
         "Longitude": "nan",
         "Latitude": "nan",
         "Police_Force": "nan",
         "Accident_Severity": "nan",
         "Number_of_Vehicles": "nan",
         "Number_of_Casualties": "nan",
         "Day_of_Week": "nan",
         "Local_Authority__District_": "nan",
         "_1st_Road_Class": "nan",
         "_1st_Road_Number": "nan",
         "Road_Type": "nan",
         "Speed_limit": "nan",
         "Junction_Detail": "nan",
         "Junction_Control": "nan",
         "_2nd_Road_Class": "nan",
         "_2nd_Road_Number": "nan",
         "Pedestrian_Crossing_Human_Control": "nan",
         "Pedestrian_Crossing_Physical_Facilities": "nan",
         "Light_Conditions": "nan",
         "Weather_Conditions": "nan",
         "Road_Surface_Conditions": "nan",
         "Special_Conditions_at_Site": "nan",
         "Carriageway_Hazards": "nan",
         "Urban_or_Rural_Area": "nan",
         "Did_Police_Officer_Attend_Scene_of_Accident": "nan",
         "Vehicle_Reference_df": 1,
         "Casualty_Reference": 1,
         "Casualty_Class": 1,
         "Sex_of_Casualty": 1,
         "Age_of_Casualty": 27,
         "Age_Band_of_Casualty": 6,
         "Casualty_Severity": 3,
         "Pedestrian_Location": 0,
         "Pedestrian_Movement": 0,
         "Car_Passenger": 0,
         "Bus_or_Coach_Passenger": 0,
         "Pedestrian_Road_Maintenance_Worker": 0,
         "Casualty_Type": 97,
         "Casualty_Home_Area_Type": 1,
         "Casualty_IMD_Decile": 4,
         "_deepnote_index_column": 7
        },
        {
         "Vehicle_Reference_df_res": 2,
         "Vehicle_Type": 9,
         "Towing_and_Articulation": 0,
         "Vehicle_Manoeuvre": 18,
         "Vehicle_Location_Restricted_Lane": 0,
         "Junction_Location": 8,
         "Skidding_and_Overturning": 0,
         "Hit_Object_in_Carriageway": 0,
         "Vehicle_Leaving_Carriageway": 0,
         "Hit_Object_off_Carriageway": 0,
         "_1st_Point_of_Impact": 1,
         "Was_Vehicle_Left_Hand_Drive": 1,
         "Journey_Purpose_of_Driver": 2,
         "Sex_of_Driver": 2,
         "Age_of_Driver": 28,
         "Age_Band_of_Driver": 6,
         "Engine_Capacity__CC_": 1149,
         "Propulsion_Code": 1,
         "Age_of_Vehicle": 8,
         "Driver_Home_Area_Type": 1,
         "Location_Easting_OSGR": "nan",
         "Location_Northing_OSGR": "nan",
         "Longitude": "nan",
         "Latitude": "nan",
         "Police_Force": "nan",
         "Accident_Severity": "nan",
         "Number_of_Vehicles": "nan",
         "Number_of_Casualties": "nan",
         "Day_of_Week": "nan",
         "Local_Authority__District_": "nan",
         "_1st_Road_Class": "nan",
         "_1st_Road_Number": "nan",
         "Road_Type": "nan",
         "Speed_limit": "nan",
         "Junction_Detail": "nan",
         "Junction_Control": "nan",
         "_2nd_Road_Class": "nan",
         "_2nd_Road_Number": "nan",
         "Pedestrian_Crossing_Human_Control": "nan",
         "Pedestrian_Crossing_Physical_Facilities": "nan",
         "Light_Conditions": "nan",
         "Weather_Conditions": "nan",
         "Road_Surface_Conditions": "nan",
         "Special_Conditions_at_Site": "nan",
         "Carriageway_Hazards": "nan",
         "Urban_or_Rural_Area": "nan",
         "Did_Police_Officer_Attend_Scene_of_Accident": "nan",
         "Vehicle_Reference_df": 1,
         "Casualty_Reference": 1,
         "Casualty_Class": 1,
         "Sex_of_Casualty": 1,
         "Age_of_Casualty": 27,
         "Age_Band_of_Casualty": 6,
         "Casualty_Severity": 3,
         "Pedestrian_Location": 0,
         "Pedestrian_Movement": 0,
         "Car_Passenger": 0,
         "Bus_or_Coach_Passenger": 0,
         "Pedestrian_Road_Maintenance_Worker": 0,
         "Casualty_Type": 97,
         "Casualty_Home_Area_Type": 1,
         "Casualty_IMD_Decile": 4,
         "_deepnote_index_column": 8
        },
        {
         "Vehicle_Reference_df_res": 1,
         "Vehicle_Type": 21,
         "Towing_and_Articulation": 1,
         "Vehicle_Manoeuvre": 17,
         "Vehicle_Location_Restricted_Lane": 0,
         "Junction_Location": 8,
         "Skidding_and_Overturning": 5,
         "Hit_Object_in_Carriageway": 0,
         "Vehicle_Leaving_Carriageway": 1,
         "Hit_Object_off_Carriageway": 7,
         "_1st_Point_of_Impact": 4,
         "Was_Vehicle_Left_Hand_Drive": 1,
         "Journey_Purpose_of_Driver": 1,
         "Sex_of_Driver": 1,
         "Age_of_Driver": 61,
         "Age_Band_of_Driver": 9,
         "Engine_Capacity__CC_": 12900,
         "Propulsion_Code": 2,
         "Age_of_Vehicle": 3,
         "Driver_Home_Area_Type": 1,
         "Location_Easting_OSGR": "nan",
         "Location_Northing_OSGR": "nan",
         "Longitude": "nan",
         "Latitude": "nan",
         "Police_Force": "nan",
         "Accident_Severity": "nan",
         "Number_of_Vehicles": "nan",
         "Number_of_Casualties": "nan",
         "Day_of_Week": "nan",
         "Local_Authority__District_": "nan",
         "_1st_Road_Class": "nan",
         "_1st_Road_Number": "nan",
         "Road_Type": "nan",
         "Speed_limit": "nan",
         "Junction_Detail": "nan",
         "Junction_Control": "nan",
         "_2nd_Road_Class": "nan",
         "_2nd_Road_Number": "nan",
         "Pedestrian_Crossing_Human_Control": "nan",
         "Pedestrian_Crossing_Physical_Facilities": "nan",
         "Light_Conditions": "nan",
         "Weather_Conditions": "nan",
         "Road_Surface_Conditions": "nan",
         "Special_Conditions_at_Site": "nan",
         "Carriageway_Hazards": "nan",
         "Urban_or_Rural_Area": "nan",
         "Did_Police_Officer_Attend_Scene_of_Accident": "nan",
         "Vehicle_Reference_df": 1,
         "Casualty_Reference": 1,
         "Casualty_Class": 1,
         "Sex_of_Casualty": 1,
         "Age_of_Casualty": 61,
         "Age_Band_of_Casualty": 9,
         "Casualty_Severity": 3,
         "Pedestrian_Location": 0,
         "Pedestrian_Movement": 0,
         "Car_Passenger": 0,
         "Bus_or_Coach_Passenger": 0,
         "Pedestrian_Road_Maintenance_Worker": 0,
         "Casualty_Type": 21,
         "Casualty_Home_Area_Type": 1,
         "Casualty_IMD_Decile": 1,
         "_deepnote_index_column": 9
        }
       ]
      },
      "text/plain": "        Vehicle_Reference_df_res  Vehicle_Type  Towing_and_Articulation  \\\n0                              1          97.0                      0.0   \n1                              2           9.0                      0.0   \n2                              1           9.0                      0.0   \n3                              2          22.0                      0.0   \n4                              1          21.0                      1.0   \n...                          ...           ...                      ...   \n363238                         2          19.0                      0.0   \n363239                         2          19.0                      0.0   \n363240                         1          19.0                      0.0   \n363241                         2           9.0                      0.0   \n363242                         3           9.0                      0.0   \n\n        Vehicle_Manoeuvre  Vehicle_Location_Restricted_Lane  \\\n0                     3.0                               0.0   \n1                    18.0                               0.0   \n2                     7.0                               0.0   \n3                    18.0                               0.0   \n4                    16.0                               0.0   \n...                   ...                               ...   \n363238               18.0                               0.0   \n363239               18.0                               0.0   \n363240               18.0                               0.0   \n363241                3.0                               0.0   \n363242                3.0                               0.0   \n\n        Junction_Location  Skidding_and_Overturning  \\\n0                     8.0                       0.0   \n1                     8.0                       0.0   \n2                     8.0                       0.0   \n3                     8.0                       0.0   \n4                     0.0                       2.0   \n...                   ...                       ...   \n363238                3.0                       0.0   \n363239                3.0                       0.0   \n363240                1.0                       0.0   \n363241                1.0                       0.0   \n363242                1.0                       0.0   \n\n        Hit_Object_in_Carriageway  Vehicle_Leaving_Carriageway  \\\n0                             9.0                          0.0   \n1                             0.0                          0.0   \n2                             0.0                          0.0   \n3                             0.0                          0.0   \n4                             0.0                          1.0   \n...                           ...                          ...   \n363238                        0.0                          0.0   \n363239                        0.0                          0.0   \n363240                        0.0                          0.0   \n363241                        0.0                          0.0   \n363242                        0.0                          0.0   \n\n        Hit_Object_off_Carriageway  ...  Age_Band_of_Casualty  \\\n0                              0.0  ...                  10.0   \n1                              0.0  ...                  10.0   \n2                              0.0  ...                  11.0   \n3                              0.0  ...                  11.0   \n4                              2.0  ...                   7.0   \n...                            ...  ...                   ...   \n363238                         0.0  ...                   7.0   \n363239                         0.0  ...                   7.0   \n363240                         0.0  ...                   6.0   \n363241                         0.0  ...                   6.0   \n363242                         0.0  ...                   6.0   \n\n        Casualty_Severity  Pedestrian_Location  Pedestrian_Movement  \\\n0                       3                  0.0                  0.0   \n1                       3                  0.0                  0.0   \n2                       2                  0.0                  0.0   \n3                       2                  0.0                  0.0   \n4                       3                  0.0                  0.0   \n...                   ...                  ...                  ...   \n363238                  3                  0.0                  0.0   \n363239                  3                  0.0                  0.0   \n363240                  3                  0.0                  0.0   \n363241                  3                  0.0                  0.0   \n363242                  3                  0.0                  0.0   \n\n        Car_Passenger  Bus_or_Coach_Passenger  \\\n0                 0.0                     0.0   \n1                 0.0                     0.0   \n2                 0.0                     0.0   \n3                 0.0                     0.0   \n4                 0.0                     0.0   \n...               ...                     ...   \n363238            2.0                     0.0   \n363239            0.0                     0.0   \n363240            0.0                     0.0   \n363241            0.0                     0.0   \n363242            0.0                     0.0   \n\n        Pedestrian_Road_Maintenance_Worker  Casualty_Type  \\\n0                                      0.0             97   \n1                                      0.0             97   \n2                                      0.0             22   \n3                                      0.0             22   \n4                                      0.0             21   \n...                                    ...            ...   \n363238                                 0.0             19   \n363239                                 0.0             19   \n363240                                 0.0             19   \n363241                                 0.0             19   \n363242                                 0.0             19   \n\n        Casualty_Home_Area_Type  Casualty_IMD_Decile  \n0                           1.0                  5.0  \n1                           1.0                  5.0  \n2                           1.0                  3.0  \n3                           1.0                  3.0  \n4                           1.0                  8.0  \n...                         ...                  ...  \n363238                      NaN                  NaN  \n363239                      NaN                  NaN  \n363240                      NaN                  NaN  \n363241                      NaN                  NaN  \n363242                      NaN                  NaN  \n\n[363243 rows x 62 columns]",
      "text/html": "<div>\n<style scoped>\n    .dataframe tbody tr th:only-of-type {\n        vertical-align: middle;\n    }\n\n    .dataframe tbody tr th {\n        vertical-align: top;\n    }\n\n    .dataframe thead th {\n        text-align: right;\n    }\n</style>\n<table border=\"1\" class=\"dataframe\">\n  <thead>\n    <tr style=\"text-align: right;\">\n      <th></th>\n      <th>Vehicle_Reference_df_res</th>\n      <th>Vehicle_Type</th>\n      <th>Towing_and_Articulation</th>\n      <th>Vehicle_Manoeuvre</th>\n      <th>Vehicle_Location_Restricted_Lane</th>\n      <th>Junction_Location</th>\n      <th>Skidding_and_Overturning</th>\n      <th>Hit_Object_in_Carriageway</th>\n      <th>Vehicle_Leaving_Carriageway</th>\n      <th>Hit_Object_off_Carriageway</th>\n      <th>...</th>\n      <th>Age_Band_of_Casualty</th>\n      <th>Casualty_Severity</th>\n      <th>Pedestrian_Location</th>\n      <th>Pedestrian_Movement</th>\n      <th>Car_Passenger</th>\n      <th>Bus_or_Coach_Passenger</th>\n      <th>Pedestrian_Road_Maintenance_Worker</th>\n      <th>Casualty_Type</th>\n      <th>Casualty_Home_Area_Type</th>\n      <th>Casualty_IMD_Decile</th>\n    </tr>\n  </thead>\n  <tbody>\n    <tr>\n      <th>0</th>\n      <td>1</td>\n      <td>97.0</td>\n      <td>0.0</td>\n      <td>3.0</td>\n      <td>0.0</td>\n      <td>8.0</td>\n      <td>0.0</td>\n      <td>9.0</td>\n      <td>0.0</td>\n      <td>0.0</td>\n      <td>...</td>\n      <td>10.0</td>\n      <td>3</td>\n      <td>0.0</td>\n      <td>0.0</td>\n      <td>0.0</td>\n      <td>0.0</td>\n      <td>0.0</td>\n      <td>97</td>\n      <td>1.0</td>\n      <td>5.0</td>\n    </tr>\n    <tr>\n      <th>1</th>\n      <td>2</td>\n      <td>9.0</td>\n      <td>0.0</td>\n      <td>18.0</td>\n      <td>0.0</td>\n      <td>8.0</td>\n      <td>0.0</td>\n      <td>0.0</td>\n      <td>0.0</td>\n      <td>0.0</td>\n      <td>...</td>\n      <td>10.0</td>\n      <td>3</td>\n      <td>0.0</td>\n      <td>0.0</td>\n      <td>0.0</td>\n      <td>0.0</td>\n      <td>0.0</td>\n      <td>97</td>\n      <td>1.0</td>\n      <td>5.0</td>\n    </tr>\n    <tr>\n      <th>2</th>\n      <td>1</td>\n      <td>9.0</td>\n      <td>0.0</td>\n      <td>7.0</td>\n      <td>0.0</td>\n      <td>8.0</td>\n      <td>0.0</td>\n      <td>0.0</td>\n      <td>0.0</td>\n      <td>0.0</td>\n      <td>...</td>\n      <td>11.0</td>\n      <td>2</td>\n      <td>0.0</td>\n      <td>0.0</td>\n      <td>0.0</td>\n      <td>0.0</td>\n      <td>0.0</td>\n      <td>22</td>\n      <td>1.0</td>\n      <td>3.0</td>\n    </tr>\n    <tr>\n      <th>3</th>\n      <td>2</td>\n      <td>22.0</td>\n      <td>0.0</td>\n      <td>18.0</td>\n      <td>0.0</td>\n      <td>8.0</td>\n      <td>0.0</td>\n      <td>0.0</td>\n      <td>0.0</td>\n      <td>0.0</td>\n      <td>...</td>\n      <td>11.0</td>\n      <td>2</td>\n      <td>0.0</td>\n      <td>0.0</td>\n      <td>0.0</td>\n      <td>0.0</td>\n      <td>0.0</td>\n      <td>22</td>\n      <td>1.0</td>\n      <td>3.0</td>\n    </tr>\n    <tr>\n      <th>4</th>\n      <td>1</td>\n      <td>21.0</td>\n      <td>1.0</td>\n      <td>16.0</td>\n      <td>0.0</td>\n      <td>0.0</td>\n      <td>2.0</td>\n      <td>0.0</td>\n      <td>1.0</td>\n      <td>2.0</td>\n      <td>...</td>\n      <td>7.0</td>\n      <td>3</td>\n      <td>0.0</td>\n      <td>0.0</td>\n      <td>0.0</td>\n      <td>0.0</td>\n      <td>0.0</td>\n      <td>21</td>\n      <td>1.0</td>\n      <td>8.0</td>\n    </tr>\n    <tr>\n      <th>...</th>\n      <td>...</td>\n      <td>...</td>\n      <td>...</td>\n      <td>...</td>\n      <td>...</td>\n      <td>...</td>\n      <td>...</td>\n      <td>...</td>\n      <td>...</td>\n      <td>...</td>\n      <td>...</td>\n      <td>...</td>\n      <td>...</td>\n      <td>...</td>\n      <td>...</td>\n      <td>...</td>\n      <td>...</td>\n      <td>...</td>\n      <td>...</td>\n      <td>...</td>\n      <td>...</td>\n    </tr>\n    <tr>\n      <th>363238</th>\n      <td>2</td>\n      <td>19.0</td>\n      <td>0.0</td>\n      <td>18.0</td>\n      <td>0.0</td>\n      <td>3.0</td>\n      <td>0.0</td>\n      <td>0.0</td>\n      <td>0.0</td>\n      <td>0.0</td>\n      <td>...</td>\n      <td>7.0</td>\n      <td>3</td>\n      <td>0.0</td>\n      <td>0.0</td>\n      <td>2.0</td>\n      <td>0.0</td>\n      <td>0.0</td>\n      <td>19</td>\n      <td>NaN</td>\n      <td>NaN</td>\n    </tr>\n    <tr>\n      <th>363239</th>\n      <td>2</td>\n      <td>19.0</td>\n      <td>0.0</td>\n      <td>18.0</td>\n      <td>0.0</td>\n      <td>3.0</td>\n      <td>0.0</td>\n      <td>0.0</td>\n      <td>0.0</td>\n      <td>0.0</td>\n      <td>...</td>\n      <td>7.0</td>\n      <td>3</td>\n      <td>0.0</td>\n      <td>0.0</td>\n      <td>0.0</td>\n      <td>0.0</td>\n      <td>0.0</td>\n      <td>19</td>\n      <td>NaN</td>\n      <td>NaN</td>\n    </tr>\n    <tr>\n      <th>363240</th>\n      <td>1</td>\n      <td>19.0</td>\n      <td>0.0</td>\n      <td>18.0</td>\n      <td>0.0</td>\n      <td>1.0</td>\n      <td>0.0</td>\n      <td>0.0</td>\n      <td>0.0</td>\n      <td>0.0</td>\n      <td>...</td>\n      <td>6.0</td>\n      <td>3</td>\n      <td>0.0</td>\n      <td>0.0</td>\n      <td>0.0</td>\n      <td>0.0</td>\n      <td>0.0</td>\n      <td>19</td>\n      <td>NaN</td>\n      <td>NaN</td>\n    </tr>\n    <tr>\n      <th>363241</th>\n      <td>2</td>\n      <td>9.0</td>\n      <td>0.0</td>\n      <td>3.0</td>\n      <td>0.0</td>\n      <td>1.0</td>\n      <td>0.0</td>\n      <td>0.0</td>\n      <td>0.0</td>\n      <td>0.0</td>\n      <td>...</td>\n      <td>6.0</td>\n      <td>3</td>\n      <td>0.0</td>\n      <td>0.0</td>\n      <td>0.0</td>\n      <td>0.0</td>\n      <td>0.0</td>\n      <td>19</td>\n      <td>NaN</td>\n      <td>NaN</td>\n    </tr>\n    <tr>\n      <th>363242</th>\n      <td>3</td>\n      <td>9.0</td>\n      <td>0.0</td>\n      <td>3.0</td>\n      <td>0.0</td>\n      <td>1.0</td>\n      <td>0.0</td>\n      <td>0.0</td>\n      <td>0.0</td>\n      <td>0.0</td>\n      <td>...</td>\n      <td>6.0</td>\n      <td>3</td>\n      <td>0.0</td>\n      <td>0.0</td>\n      <td>0.0</td>\n      <td>0.0</td>\n      <td>0.0</td>\n      <td>19</td>\n      <td>NaN</td>\n      <td>NaN</td>\n    </tr>\n  </tbody>\n</table>\n<p>363243 rows × 62 columns</p>\n</div>"
     },
     "metadata": {}
    }
   ],
   "execution_count": 24
  },
  {
   "cell_type": "code",
   "source": "",
   "metadata": {
    "cell_id": "70a61528dc0744dea5fbf275e5d2b5db",
    "tags": [],
    "deepnote_cell_type": "code",
    "deepnote_cell_height": 61
   },
   "outputs": [],
   "execution_count": null
  },
  {
   "cell_type": "markdown",
   "source": "<a style='text-decoration:none;line-height:16px;display:flex;color:#5B5B62;padding:10px;justify-content:end;' href='https://deepnote.com?utm_source=created-in-deepnote-cell&projectId=0250b4f5-a1fd-4aaa-8b27-2847b6649f1e' target=\"_blank\">\n<img alt='Created in deepnote.com' style='display:inline;max-height:16px;margin:0px;margin-right:7.5px;' src='data:image/svg+xml;base64,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' > </img>\nCreated in <span style='font-weight:600;margin-left:4px;'>Deepnote</span></a>",
   "metadata": {
    "tags": [],
    "created_in_deepnote_cell": true,
    "deepnote_cell_type": "markdown"
   }
  }
 ],
 "nbformat": 4,
 "nbformat_minor": 2,
 "metadata": {
  "orig_nbformat": 2,
  "deepnote": {},
  "deepnote_notebook_id": "5418f879-b2c4-4b59-93db-6db9d7f98e7b",
  "deepnote_execution_queue": []
 }
}