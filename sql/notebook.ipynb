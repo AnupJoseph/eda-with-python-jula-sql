{
 "cells": [
  {
   "cell_type": "markdown",
   "source": "",
   "metadata": {
    "formattedRanges": [],
    "is_collapsed": false,
    "cell_id": "2554aab5-f028-4cc4-8815-90db91a4f4af",
    "tags": [],
    "deepnote_cell_type": "text-cell-p"
   }
  },
  {
   "cell_type": "code",
   "source": "import pandas as pd\n\nimport plotly.graph_objects as go\n\npd.options.plotting.backend=\"plotly\"",
   "metadata": {
    "cell_id": "dc731f52640c4e73b8f10c5bbac2cf94",
    "tags": [],
    "deepnote_to_be_reexecuted": false,
    "source_hash": "1f5f8a4e",
    "execution_start": 1661263158685,
    "execution_millis": 0,
    "deepnote_cell_type": "code",
    "deepnote_cell_height": 148
   },
   "outputs": [],
   "execution_count": 23
  },
  {
   "cell_type": "markdown",
   "source": "I had started with [Evidence](https://evidence.dev/) but evidence's experience wasn't working out for me. The query strings needed to be changed at every step to even get it working and there were basically no error messages",
   "metadata": {
    "cell_id": "ea621f2bd9644c529faeb869c31af7aa",
    "tags": [],
    "deepnote_cell_type": "markdown",
    "deepnote_cell_height": 74.78125
   }
  },
  {
   "cell_type": "markdown",
   "source": "## 1. Structure Investigation",
   "metadata": {
    "formattedRanges": [],
    "is_collapsed": false,
    "cell_id": "dfa1776d62d4437cb8b80c955b733839",
    "tags": [],
    "deepnote_cell_type": "text-cell-h2"
   }
  },
  {
   "cell_type": "markdown",
   "source": "A grisly approximation of the shape function in SQL, may Lord have mercy",
   "metadata": {
    "formattedRanges": [],
    "is_collapsed": false,
    "cell_id": "2237c4adbb2441fd9e849228a241eb38",
    "tags": [],
    "deepnote_cell_type": "text-cell-p"
   }
  },
  {
   "cell_type": "code",
   "metadata": {
    "tags": [],
    "deepnote_variable_name": "num_cols",
    "sql_integration_id": "d15db2fc-356f-4858-a44e-cab7271219cd",
    "cell_id": "f00080bb1141401c9b87f17aad605fb9",
    "deepnote_to_be_reexecuted": false,
    "source_hash": "5b60e045",
    "execution_start": 1661261517157,
    "execution_millis": 4386,
    "deepnote_sql_source": "-- Number of columns \nSELECT COUNT(*) FROM `labocr-267706.eda.INFORMATION_SCHEMA.COLUMNS` WHERE table_name=\"road_safety\"",
    "deepnote_cell_type": "sql",
    "deepnote_cell_height": 284
   },
   "source": "\n\nnum_cols = _deepnote_execute_sql(\"\"\"-- Number of columns \nSELECT COUNT(*) FROM `labocr-267706.eda.INFORMATION_SCHEMA.COLUMNS` WHERE table_name=\"road_safety\"\n\"\"\", 'SQL_D15DB2FC_356F_4858_A44E_CAB7271219CD')\nnum_cols",
   "execution_count": 1,
   "outputs": [
    {
     "output_type": "execute_result",
     "execution_count": 1,
     "data": {
      "application/vnd.deepnote.dataframe.v3+json": {
       "column_count": 1,
       "row_count": 1,
       "columns": [
        {
         "name": "f0_",
         "dtype": "int64",
         "stats": {
          "unique_count": 1,
          "nan_count": 0,
          "min": "67",
          "max": "67",
          "histogram": [
           {
            "bin_start": 66.5,
            "bin_end": 66.6,
            "count": 0
           },
           {
            "bin_start": 66.6,
            "bin_end": 66.7,
            "count": 0
           },
           {
            "bin_start": 66.7,
            "bin_end": 66.8,
            "count": 0
           },
           {
            "bin_start": 66.8,
            "bin_end": 66.9,
            "count": 0
           },
           {
            "bin_start": 66.9,
            "bin_end": 67,
            "count": 0
           },
           {
            "bin_start": 67,
            "bin_end": 67.1,
            "count": 1
           },
           {
            "bin_start": 67.1,
            "bin_end": 67.2,
            "count": 0
           },
           {
            "bin_start": 67.2,
            "bin_end": 67.3,
            "count": 0
           },
           {
            "bin_start": 67.3,
            "bin_end": 67.4,
            "count": 0
           },
           {
            "bin_start": 67.4,
            "bin_end": 67.5,
            "count": 0
           }
          ]
         }
        },
        {
         "name": "_deepnote_index_column",
         "dtype": "int64"
        }
       ],
       "rows": [
        {
         "f0_": 67,
         "_deepnote_index_column": 0
        }
       ]
      },
      "text/plain": "   f0_\n0   67",
      "text/html": "<div>\n<style scoped>\n    .dataframe tbody tr th:only-of-type {\n        vertical-align: middle;\n    }\n\n    .dataframe tbody tr th {\n        vertical-align: top;\n    }\n\n    .dataframe thead th {\n        text-align: right;\n    }\n</style>\n<table border=\"1\" class=\"dataframe\">\n  <thead>\n    <tr style=\"text-align: right;\">\n      <th></th>\n      <th>f0_</th>\n    </tr>\n  </thead>\n  <tbody>\n    <tr>\n      <th>0</th>\n      <td>67</td>\n    </tr>\n  </tbody>\n</table>\n</div>"
     },
     "metadata": {}
    }
   ]
  },
  {
   "cell_type": "code",
   "metadata": {
    "tags": [],
    "deepnote_variable_name": "num_rows",
    "sql_integration_id": "d15db2fc-356f-4858-a44e-cab7271219cd",
    "cell_id": "8f3cc992fd1b422cae1a43b99cbfc253",
    "deepnote_to_be_reexecuted": false,
    "source_hash": "e31d439f",
    "execution_start": 1661261524223,
    "execution_millis": 2233,
    "deepnote_sql_source": "-- Number of rows\nSELECT COUNT(*) FROM `labocr-267706.eda.road_safety`",
    "deepnote_cell_type": "sql",
    "deepnote_cell_height": 284
   },
   "source": "\n\nnum_rows = _deepnote_execute_sql(\"\"\"-- Number of rows\nSELECT COUNT(*) FROM `labocr-267706.eda.road_safety`\n\"\"\", 'SQL_D15DB2FC_356F_4858_A44E_CAB7271219CD')\nnum_rows",
   "execution_count": 2,
   "outputs": [
    {
     "output_type": "execute_result",
     "execution_count": 2,
     "data": {
      "application/vnd.deepnote.dataframe.v3+json": {
       "column_count": 1,
       "row_count": 1,
       "columns": [
        {
         "name": "f0_",
         "dtype": "int64",
         "stats": {
          "unique_count": 1,
          "nan_count": 0,
          "min": "363243",
          "max": "363243",
          "histogram": [
           {
            "bin_start": 363242.5,
            "bin_end": 363242.6,
            "count": 0
           },
           {
            "bin_start": 363242.6,
            "bin_end": 363242.7,
            "count": 0
           },
           {
            "bin_start": 363242.7,
            "bin_end": 363242.8,
            "count": 0
           },
           {
            "bin_start": 363242.8,
            "bin_end": 363242.9,
            "count": 0
           },
           {
            "bin_start": 363242.9,
            "bin_end": 363243,
            "count": 0
           },
           {
            "bin_start": 363243,
            "bin_end": 363243.1,
            "count": 1
           },
           {
            "bin_start": 363243.1,
            "bin_end": 363243.2,
            "count": 0
           },
           {
            "bin_start": 363243.2,
            "bin_end": 363243.3,
            "count": 0
           },
           {
            "bin_start": 363243.3,
            "bin_end": 363243.4,
            "count": 0
           },
           {
            "bin_start": 363243.4,
            "bin_end": 363243.5,
            "count": 0
           }
          ]
         }
        },
        {
         "name": "_deepnote_index_column",
         "dtype": "int64"
        }
       ],
       "rows": [
        {
         "f0_": 363243,
         "_deepnote_index_column": 0
        }
       ]
      },
      "text/plain": "      f0_\n0  363243",
      "text/html": "<div>\n<style scoped>\n    .dataframe tbody tr th:only-of-type {\n        vertical-align: middle;\n    }\n\n    .dataframe tbody tr th {\n        vertical-align: top;\n    }\n\n    .dataframe thead th {\n        text-align: right;\n    }\n</style>\n<table border=\"1\" class=\"dataframe\">\n  <thead>\n    <tr style=\"text-align: right;\">\n      <th></th>\n      <th>f0_</th>\n    </tr>\n  </thead>\n  <tbody>\n    <tr>\n      <th>0</th>\n      <td>363243</td>\n    </tr>\n  </tbody>\n</table>\n</div>"
     },
     "metadata": {}
    }
   ]
  },
  {
   "cell_type": "code",
   "metadata": {
    "tags": [],
    "deepnote_variable_name": "col_types",
    "sql_integration_id": "d15db2fc-356f-4858-a44e-cab7271219cd",
    "cell_id": "36d4344e11754c56b46aadad4f2b296f",
    "deepnote_to_be_reexecuted": false,
    "source_hash": "3ebe57e3",
    "execution_start": 1661261526465,
    "execution_millis": 2327,
    "deepnote_sql_source": "-- Count how many times each data type is present in the dataset\nSELECT data_type,COUNT(*) FROM `labocr-267706.eda.INFORMATION_SCHEMA.COLUMNS` GROUP BY data_type",
    "deepnote_cell_type": "sql",
    "deepnote_cell_height": 407
   },
   "source": "\n\ncol_types = _deepnote_execute_sql(\"\"\"-- Count how many times each data type is present in the dataset\nSELECT data_type,COUNT(*) FROM `labocr-267706.eda.INFORMATION_SCHEMA.COLUMNS` GROUP BY data_type\n\"\"\", 'SQL_D15DB2FC_356F_4858_A44E_CAB7271219CD')\ncol_types",
   "execution_count": 3,
   "outputs": [
    {
     "output_type": "execute_result",
     "execution_count": 3,
     "data": {
      "application/vnd.deepnote.dataframe.v3+json": {
       "column_count": 2,
       "row_count": 4,
       "columns": [
        {
         "name": "data_type",
         "dtype": "object",
         "stats": {
          "unique_count": 4,
          "nan_count": 0,
          "categories": [
           {
            "name": "STRING",
            "count": 1
           },
           {
            "name": "INT64",
            "count": 1
           },
           {
            "name": "2 others",
            "count": 2
           }
          ]
         }
        },
        {
         "name": "f0_",
         "dtype": "int64",
         "stats": {
          "unique_count": 4,
          "nan_count": 0,
          "min": "1",
          "max": "56",
          "histogram": [
           {
            "bin_start": 1,
            "bin_end": 6.5,
            "count": 3
           },
           {
            "bin_start": 6.5,
            "bin_end": 12,
            "count": 0
           },
           {
            "bin_start": 12,
            "bin_end": 17.5,
            "count": 0
           },
           {
            "bin_start": 17.5,
            "bin_end": 23,
            "count": 0
           },
           {
            "bin_start": 23,
            "bin_end": 28.5,
            "count": 0
           },
           {
            "bin_start": 28.5,
            "bin_end": 34,
            "count": 0
           },
           {
            "bin_start": 34,
            "bin_end": 39.5,
            "count": 0
           },
           {
            "bin_start": 39.5,
            "bin_end": 45,
            "count": 0
           },
           {
            "bin_start": 45,
            "bin_end": 50.5,
            "count": 0
           },
           {
            "bin_start": 50.5,
            "bin_end": 56,
            "count": 1
           }
          ]
         }
        },
        {
         "name": "_deepnote_index_column",
         "dtype": "int64"
        }
       ],
       "rows": [
        {
         "data_type": "STRING",
         "f0_": 4,
         "_deepnote_index_column": 0
        },
        {
         "data_type": "INT64",
         "f0_": 6,
         "_deepnote_index_column": 1
        },
        {
         "data_type": "FLOAT64",
         "f0_": 56,
         "_deepnote_index_column": 2
        },
        {
         "data_type": "DATE",
         "f0_": 1,
         "_deepnote_index_column": 3
        }
       ]
      },
      "text/plain": "  data_type  f0_\n0    STRING    4\n1     INT64    6\n2   FLOAT64   56\n3      DATE    1",
      "text/html": "<div>\n<style scoped>\n    .dataframe tbody tr th:only-of-type {\n        vertical-align: middle;\n    }\n\n    .dataframe tbody tr th {\n        vertical-align: top;\n    }\n\n    .dataframe thead th {\n        text-align: right;\n    }\n</style>\n<table border=\"1\" class=\"dataframe\">\n  <thead>\n    <tr style=\"text-align: right;\">\n      <th></th>\n      <th>data_type</th>\n      <th>f0_</th>\n    </tr>\n  </thead>\n  <tbody>\n    <tr>\n      <th>0</th>\n      <td>STRING</td>\n      <td>4</td>\n    </tr>\n    <tr>\n      <th>1</th>\n      <td>INT64</td>\n      <td>6</td>\n    </tr>\n    <tr>\n      <th>2</th>\n      <td>FLOAT64</td>\n      <td>56</td>\n    </tr>\n    <tr>\n      <th>3</th>\n      <td>DATE</td>\n      <td>1</td>\n    </tr>\n  </tbody>\n</table>\n</div>"
     },
     "metadata": {}
    }
   ]
  },
  {
   "cell_type": "markdown",
   "source": "### 1.1. Structure of non-numerical features",
   "metadata": {
    "formattedRanges": [],
    "is_collapsed": false,
    "cell_id": "74d3d0e6a41f486bb146ca37f28998d6",
    "tags": [],
    "deepnote_cell_type": "text-cell-h3"
   }
  },
  {
   "cell_type": "code",
   "metadata": {
    "tags": [],
    "deepnote_variable_name": "non_numerical_columns",
    "sql_integration_id": "d15db2fc-356f-4858-a44e-cab7271219cd",
    "cell_id": "362a488ca2524fcfba6192539c8c2133",
    "deepnote_to_be_reexecuted": false,
    "source_hash": "19c2bb12",
    "execution_start": 1661261530277,
    "execution_millis": 1856,
    "deepnote_sql_source": "SELECT\n    STRING_AGG(column_name,\",\")\n  FROM\n    `labocr-267706.eda.INFORMATION_SCHEMA.COLUMNS`\n  WHERE\n    data_type IN (\"STRING\",\n      \"DATE\")",
    "deepnote_cell_type": "sql",
    "deepnote_cell_height": 374
   },
   "source": "\n\nnon_numerical_columns = _deepnote_execute_sql(\"\"\"SELECT\n    STRING_AGG(column_name,\",\")\n  FROM\n    `labocr-267706.eda.INFORMATION_SCHEMA.COLUMNS`\n  WHERE\n    data_type IN (\"STRING\",\n      \"DATE\")\n\"\"\", 'SQL_D15DB2FC_356F_4858_A44E_CAB7271219CD')\nnon_numerical_columns",
   "execution_count": 4,
   "outputs": [
    {
     "output_type": "execute_result",
     "execution_count": 4,
     "data": {
      "application/vnd.deepnote.dataframe.v3+json": {
       "column_count": 1,
       "row_count": 1,
       "columns": [
        {
         "name": "f0_",
         "dtype": "object",
         "stats": {
          "unique_count": 1,
          "nan_count": 0,
          "categories": [
           {
            "name": "Accident_Index,Date,Time,Local_Authority__Highway_,LSOA_of_Accident_Location",
            "count": 1
           }
          ]
         }
        },
        {
         "name": "_deepnote_index_column",
         "dtype": "int64"
        }
       ],
       "rows": [
        {
         "f0_": "Accident_Index,Date,Time,Local_Authority__Highway_,LSOA_of_Accident_Location",
         "_deepnote_index_column": 0
        }
       ]
      },
      "text/plain": "                                                 f0_\n0  Accident_Index,Date,Time,Local_Authority__High...",
      "text/html": "<div>\n<style scoped>\n    .dataframe tbody tr th:only-of-type {\n        vertical-align: middle;\n    }\n\n    .dataframe tbody tr th {\n        vertical-align: top;\n    }\n\n    .dataframe thead th {\n        text-align: right;\n    }\n</style>\n<table border=\"1\" class=\"dataframe\">\n  <thead>\n    <tr style=\"text-align: right;\">\n      <th></th>\n      <th>f0_</th>\n    </tr>\n  </thead>\n  <tbody>\n    <tr>\n      <th>0</th>\n      <td>Accident_Index,Date,Time,Local_Authority__High...</td>\n    </tr>\n  </tbody>\n</table>\n</div>"
     },
     "metadata": {}
    }
   ]
  },
  {
   "cell_type": "code",
   "source": "\n\ntarget_columns = _deepnote_execute_sql(\"\"\"-- Okay I am using a trick with I am not sure would work anywhere else, this is jinjasql \n-- and Deepnote has an integration with SQL to execute this sweetly. \n-- You'll need a certain amount of modification to get this working else where properly\nSELECT\n  {{non_numerical_columns[\"f0_\"][0] | sqlsafe}}\nFROM\n  `labocr-267706.eda.road_safety`\n\"\"\", 'SQL_D15DB2FC_356F_4858_A44E_CAB7271219CD')\ntarget_columns",
   "metadata": {
    "tags": [],
    "deepnote_variable_name": "target_columns",
    "sql_integration_id": "d15db2fc-356f-4858-a44e-cab7271219cd",
    "cell_id": "27cd542f55434b2e97d6f0adf52ab7e6",
    "deepnote_to_be_reexecuted": false,
    "source_hash": "65c0838a",
    "execution_start": 1661261547817,
    "execution_millis": 10320,
    "deepnote_table_state": {
     "pageSize": 10,
     "pageIndex": 36323,
     "filters": [],
     "sortBy": []
    },
    "deepnote_table_loading": false,
    "deepnote_sql_source": "-- Okay I am using a trick with I am not sure would work anywhere else, this is jinjasql \n-- and Deepnote has an integration with SQL to execute this sweetly. \n-- You'll need a certain amount of modification to get this working else where properly\nSELECT\n  {{non_numerical_columns[\"f0_\"][0] | sqlsafe}}\nFROM\n  `labocr-267706.eda.road_safety`",
    "deepnote_cell_type": "sql",
    "deepnote_cell_height": 743
   },
   "execution_count": 5,
   "outputs": [
    {
     "output_type": "execute_result",
     "execution_count": 5,
     "data": {
      "application/vnd.deepnote.dataframe.v3+json": {
       "column_count": 5,
       "row_count": 363243,
       "columns": [
        {
         "name": "Accident_Index",
         "dtype": "object"
        },
        {
         "name": "Date",
         "dtype": "object"
        },
        {
         "name": "Time",
         "dtype": "object"
        },
        {
         "name": "Local_Authority__Highway_",
         "dtype": "object"
        },
        {
         "name": "LSOA_of_Accident_Location",
         "dtype": "object"
        },
        {
         "name": "_deepnote_index_column",
         "dtype": "int64"
        }
       ],
       "rows": [
        {
         "Accident_Index": "2015950005558",
         "Date": "2015-12-03",
         "Time": "13:05",
         "Local_Authority__Highway_": "S12000019",
         "LSOA_of_Accident_Location": "None",
         "_deepnote_index_column": 363230
        },
        {
         "Accident_Index": "2015950005558",
         "Date": "2015-12-03",
         "Time": "13:05",
         "Local_Authority__Highway_": "S12000019",
         "LSOA_of_Accident_Location": "None",
         "_deepnote_index_column": 363231
        },
        {
         "Accident_Index": "201597GC70301",
         "Date": "2015-01-12",
         "Time": "10:55",
         "Local_Authority__Highway_": "S12000011",
         "LSOA_of_Accident_Location": "None",
         "_deepnote_index_column": 363232
        },
        {
         "Accident_Index": "201597GC70301",
         "Date": "2015-01-12",
         "Time": "10:55",
         "Local_Authority__Highway_": "S12000011",
         "LSOA_of_Accident_Location": "None",
         "_deepnote_index_column": 363233
        },
        {
         "Accident_Index": "201597NA02711",
         "Date": "2015-11-22",
         "Time": "15:35",
         "Local_Authority__Highway_": "S12000044",
         "LSOA_of_Accident_Location": "None",
         "_deepnote_index_column": 363234
        },
        {
         "Accident_Index": "201597NA02711",
         "Date": "2015-11-22",
         "Time": "15:35",
         "Local_Authority__Highway_": "S12000044",
         "LSOA_of_Accident_Location": "None",
         "_deepnote_index_column": 363235
        },
        {
         "Accident_Index": "201597NE00308",
         "Date": "2015-08-01",
         "Time": "00:58",
         "Local_Authority__Highway_": "S12000044",
         "LSOA_of_Accident_Location": "None",
         "_deepnote_index_column": 363236
        },
        {
         "Accident_Index": "201597NE00308",
         "Date": "2015-08-01",
         "Time": "00:58",
         "Local_Authority__Highway_": "S12000044",
         "LSOA_of_Accident_Location": "None",
         "_deepnote_index_column": 363237
        },
        {
         "Accident_Index": "201597NE00308",
         "Date": "2015-08-01",
         "Time": "00:58",
         "Local_Authority__Highway_": "S12000044",
         "LSOA_of_Accident_Location": "None",
         "_deepnote_index_column": 363238
        },
        {
         "Accident_Index": "201597NE00308",
         "Date": "2015-08-01",
         "Time": "00:58",
         "Local_Authority__Highway_": "S12000044",
         "LSOA_of_Accident_Location": "None",
         "_deepnote_index_column": 363239
        }
       ]
      },
      "text/plain": "       Accident_Index        Date   Time Local_Authority__Highway_  \\\n0       2015440080946        None   None                      None   \n1       2015440080946        None   None                      None   \n2       2015440083952        None   None                      None   \n3       2015440083952        None   None                      None   \n4       2015440101052        None   None                      None   \n...               ...         ...    ...                       ...   \n363238  201597NE00308  2015-08-01  00:58                 S12000044   \n363239  201597NE00308  2015-08-01  00:58                 S12000044   \n363240  201597UC71106  2015-06-17  09:20                 S12000008   \n363241  201597UC71106  2015-06-17  09:20                 S12000008   \n363242  201597UC71106  2015-06-17  09:20                 S12000008   \n\n       LSOA_of_Accident_Location  \n0                           None  \n1                           None  \n2                           None  \n3                           None  \n4                           None  \n...                          ...  \n363238                      None  \n363239                      None  \n363240                      None  \n363241                      None  \n363242                      None  \n\n[363243 rows x 5 columns]",
      "text/html": "<div>\n<style scoped>\n    .dataframe tbody tr th:only-of-type {\n        vertical-align: middle;\n    }\n\n    .dataframe tbody tr th {\n        vertical-align: top;\n    }\n\n    .dataframe thead th {\n        text-align: right;\n    }\n</style>\n<table border=\"1\" class=\"dataframe\">\n  <thead>\n    <tr style=\"text-align: right;\">\n      <th></th>\n      <th>Accident_Index</th>\n      <th>Date</th>\n      <th>Time</th>\n      <th>Local_Authority__Highway_</th>\n      <th>LSOA_of_Accident_Location</th>\n    </tr>\n  </thead>\n  <tbody>\n    <tr>\n      <th>0</th>\n      <td>2015440080946</td>\n      <td>None</td>\n      <td>None</td>\n      <td>None</td>\n      <td>None</td>\n    </tr>\n    <tr>\n      <th>1</th>\n      <td>2015440080946</td>\n      <td>None</td>\n      <td>None</td>\n      <td>None</td>\n      <td>None</td>\n    </tr>\n    <tr>\n      <th>2</th>\n      <td>2015440083952</td>\n      <td>None</td>\n      <td>None</td>\n      <td>None</td>\n      <td>None</td>\n    </tr>\n    <tr>\n      <th>3</th>\n      <td>2015440083952</td>\n      <td>None</td>\n      <td>None</td>\n      <td>None</td>\n      <td>None</td>\n    </tr>\n    <tr>\n      <th>4</th>\n      <td>2015440101052</td>\n      <td>None</td>\n      <td>None</td>\n      <td>None</td>\n      <td>None</td>\n    </tr>\n    <tr>\n      <th>...</th>\n      <td>...</td>\n      <td>...</td>\n      <td>...</td>\n      <td>...</td>\n      <td>...</td>\n    </tr>\n    <tr>\n      <th>363238</th>\n      <td>201597NE00308</td>\n      <td>2015-08-01</td>\n      <td>00:58</td>\n      <td>S12000044</td>\n      <td>None</td>\n    </tr>\n    <tr>\n      <th>363239</th>\n      <td>201597NE00308</td>\n      <td>2015-08-01</td>\n      <td>00:58</td>\n      <td>S12000044</td>\n      <td>None</td>\n    </tr>\n    <tr>\n      <th>363240</th>\n      <td>201597UC71106</td>\n      <td>2015-06-17</td>\n      <td>09:20</td>\n      <td>S12000008</td>\n      <td>None</td>\n    </tr>\n    <tr>\n      <th>363241</th>\n      <td>201597UC71106</td>\n      <td>2015-06-17</td>\n      <td>09:20</td>\n      <td>S12000008</td>\n      <td>None</td>\n    </tr>\n    <tr>\n      <th>363242</th>\n      <td>201597UC71106</td>\n      <td>2015-06-17</td>\n      <td>09:20</td>\n      <td>S12000008</td>\n      <td>None</td>\n    </tr>\n  </tbody>\n</table>\n<p>363243 rows × 5 columns</p>\n</div>"
     },
     "metadata": {}
    }
   ]
  },
  {
   "cell_type": "code",
   "metadata": {
    "cell_id": "9f417336ff0a47a8bd8f12ba5ff94bb2",
    "tags": [],
    "deepnote_to_be_reexecuted": false,
    "source_hash": "75a669b2",
    "execution_start": 1661261566402,
    "execution_millis": 1156,
    "deepnote_cell_type": "code",
    "deepnote_cell_height": 367
   },
   "source": "target_columns.describe()\n# Rewriting describe in SQL is just too much work",
   "execution_count": 6,
   "outputs": [
    {
     "output_type": "execute_result",
     "execution_count": 6,
     "data": {
      "application/vnd.deepnote.dataframe.v3+json": {
       "column_count": 5,
       "row_count": 4,
       "columns": [
        {
         "name": "Accident_Index",
         "dtype": "object",
         "stats": {
          "unique_count": 4,
          "nan_count": 0,
          "categories": [
           {
            "name": "363243",
            "count": 1
           },
           {
            "name": "140056",
            "count": 1
           },
           {
            "name": "2 others",
            "count": 2
           }
          ]
         }
        },
        {
         "name": "Date",
         "dtype": "object",
         "stats": {
          "unique_count": 4,
          "nan_count": 0,
          "categories": [
           {
            "name": "319866",
            "count": 1
           },
           {
            "name": "365",
            "count": 1
           },
           {
            "name": "2 others",
            "count": 2
           }
          ]
         }
        },
        {
         "name": "Time",
         "dtype": "object",
         "stats": {
          "unique_count": 4,
          "nan_count": 0,
          "categories": [
           {
            "name": "319822",
            "count": 1
           },
           {
            "name": "1439",
            "count": 1
           },
           {
            "name": "2 others",
            "count": 2
           }
          ]
         }
        },
        {
         "name": "Local_Authority__Highway_",
         "dtype": "object",
         "stats": {
          "unique_count": 4,
          "nan_count": 0,
          "categories": [
           {
            "name": "319866",
            "count": 1
           },
           {
            "name": "204",
            "count": 1
           },
           {
            "name": "2 others",
            "count": 2
           }
          ]
         }
        },
        {
         "name": "LSOA_of_Accident_Location",
         "dtype": "object",
         "stats": {
          "unique_count": 4,
          "nan_count": 0,
          "categories": [
           {
            "name": "298758",
            "count": 1
           },
           {
            "name": "25979",
            "count": 1
           },
           {
            "name": "2 others",
            "count": 2
           }
          ]
         }
        },
        {
         "name": "_deepnote_index_column",
         "dtype": "object"
        }
       ],
       "rows": [
        {
         "Accident_Index": "363243",
         "Date": "319866",
         "Time": "319822",
         "Local_Authority__Highway_": "319866",
         "LSOA_of_Accident_Location": "298758",
         "_deepnote_index_column": "count"
        },
        {
         "Accident_Index": "140056",
         "Date": "365",
         "Time": "1439",
         "Local_Authority__Highway_": "204",
         "LSOA_of_Accident_Location": "25979",
         "_deepnote_index_column": "unique"
        },
        {
         "Accident_Index": "201543P296025",
         "Date": "2015-02-14",
         "Time": "17:30",
         "Local_Authority__Highway_": "E10000017",
         "LSOA_of_Accident_Location": "E01028497",
         "_deepnote_index_column": "top"
        },
        {
         "Accident_Index": "1332",
         "Date": "2144",
         "Time": "2972",
         "Local_Authority__Highway_": "8457",
         "LSOA_of_Accident_Location": "1456",
         "_deepnote_index_column": "freq"
        }
       ]
      },
      "text/plain": "       Accident_Index        Date    Time Local_Authority__Highway_  \\\ncount          363243      319866  319822                    319866   \nunique         140056         365    1439                       204   \ntop     201543P296025  2015-02-14   17:30                 E10000017   \nfreq             1332        2144    2972                      8457   \n\n       LSOA_of_Accident_Location  \ncount                     298758  \nunique                     25979  \ntop                    E01028497  \nfreq                        1456  ",
      "text/html": "<div>\n<style scoped>\n    .dataframe tbody tr th:only-of-type {\n        vertical-align: middle;\n    }\n\n    .dataframe tbody tr th {\n        vertical-align: top;\n    }\n\n    .dataframe thead th {\n        text-align: right;\n    }\n</style>\n<table border=\"1\" class=\"dataframe\">\n  <thead>\n    <tr style=\"text-align: right;\">\n      <th></th>\n      <th>Accident_Index</th>\n      <th>Date</th>\n      <th>Time</th>\n      <th>Local_Authority__Highway_</th>\n      <th>LSOA_of_Accident_Location</th>\n    </tr>\n  </thead>\n  <tbody>\n    <tr>\n      <th>count</th>\n      <td>363243</td>\n      <td>319866</td>\n      <td>319822</td>\n      <td>319866</td>\n      <td>298758</td>\n    </tr>\n    <tr>\n      <th>unique</th>\n      <td>140056</td>\n      <td>365</td>\n      <td>1439</td>\n      <td>204</td>\n      <td>25979</td>\n    </tr>\n    <tr>\n      <th>top</th>\n      <td>201543P296025</td>\n      <td>2015-02-14</td>\n      <td>17:30</td>\n      <td>E10000017</td>\n      <td>E01028497</td>\n    </tr>\n    <tr>\n      <th>freq</th>\n      <td>1332</td>\n      <td>2144</td>\n      <td>2972</td>\n      <td>8457</td>\n      <td>1456</td>\n    </tr>\n  </tbody>\n</table>\n</div>"
     },
     "metadata": {}
    }
   ]
  },
  {
   "cell_type": "markdown",
   "source": "### 1.2. Structure of numerical features",
   "metadata": {
    "formattedRanges": [],
    "is_collapsed": false,
    "cell_id": "e262399866b04fa49350071c93bb841e",
    "tags": [],
    "deepnote_cell_type": "text-cell-h3"
   }
  },
  {
   "cell_type": "code",
   "metadata": {
    "tags": [],
    "deepnote_variable_name": "numerical_columns",
    "sql_integration_id": "d15db2fc-356f-4858-a44e-cab7271219cd",
    "cell_id": "99460c97729741b0a808db6bc6bf3328",
    "deepnote_to_be_reexecuted": false,
    "source_hash": "69bb4488",
    "execution_start": 1661261571096,
    "execution_millis": 1644,
    "deepnote_sql_source": "SELECT\n    STRING_AGG(column_name,\",\")\n  FROM\n    `labocr-267706.eda.INFORMATION_SCHEMA.COLUMNS`\n  WHERE\n    data_type IN (\"INT64\",\n      \"FLOAT64\")",
    "deepnote_cell_type": "sql",
    "deepnote_cell_height": 374
   },
   "source": "\n\nnumerical_columns = _deepnote_execute_sql(\"\"\"SELECT\n    STRING_AGG(column_name,\",\")\n  FROM\n    `labocr-267706.eda.INFORMATION_SCHEMA.COLUMNS`\n  WHERE\n    data_type IN (\"INT64\",\n      \"FLOAT64\")\n\"\"\", 'SQL_D15DB2FC_356F_4858_A44E_CAB7271219CD')\nnumerical_columns",
   "execution_count": 7,
   "outputs": [
    {
     "output_type": "execute_result",
     "execution_count": 7,
     "data": {
      "application/vnd.deepnote.dataframe.v3+json": {
       "column_count": 1,
       "row_count": 1,
       "columns": [
        {
         "name": "f0_",
         "dtype": "object",
         "stats": {
          "unique_count": 1,
          "nan_count": 0,
          "categories": [
           {
            "name": "Vehicle_Reference_df_res,Vehicle_Type,Towing_and_Articulation,Vehicle_Manoeuvre,Vehicle_Location_Restricted_Lane,Junction_Location,Skidding_and_Overturning,Hit_Object_in_Carriageway,Vehicle_Leaving_Carriageway,Hit_Object_off_Carriageway,_1st_Point_of_Impact,Was_Vehicle_Left_Hand_Drive,Journey_Purpose_of_Driver,Sex_of_Driver,Age_of_Driver,Age_Band_of_Driver,Engine_Capacity__CC_,Propulsion_Code,Age_of_Vehicle,Driver_Home_Area_Type,Location_Easting_OSGR,Location_Northing_OSGR,Longitude,Latitude,Police_Force,Accident_Severity,Number_of_Vehicles,Number_of_Casualties,Day_of_Week,Local_Authority__District_,_1st_Road_Class,_1st_Road_Number,Road_Type,Speed_limit,Junction_Detail,Junction_Control,_2nd_Road_Class,_2nd_Road_Number,Pedestrian_Crossing_Human_Control,Pedestrian_Crossing_Physical_Facilities,Light_Conditions,Weather_Conditions,Road_Surface_Conditions,Special_Conditions_at_Site,Carriageway_Hazards,Urban_or_Rural_Area,Did_Police_Officer_Attend_Scene_of_Accident,Vehicle_Reference_df,Casualty_Reference,Casualty_Class,Sex_of_Casualty,Age_of_Casualty,Age_Band_of_Casualty,Casualty_Severity,Pedestrian_Location,Pedestrian_Movement,Car_Passenger,Bus_or_Coach_Passenger,Pedestrian_Road_Maintenance_Worker,Casualty_Type,Casualty_Home_Area_Type,Casualty_IMD_Decile",
            "count": 1
           }
          ]
         }
        },
        {
         "name": "_deepnote_index_column",
         "dtype": "int64"
        }
       ],
       "rows": [
        {
         "f0_": "Vehicle_Reference_df_res,Vehicle_Type,Towing_and_Articulation,Vehicle_Manoeuvre,Vehicle_Location_Restricted_Lane,Junction_Location,Skidding_and_Overturning,Hit_Object_in_Carriageway,Vehicle_Leaving_Carriageway,Hit_Object_off_Carriageway,_1st_Point_of_Impact,Was_Vehicle_Left_Hand_Drive,Journey_Purpose_of_Driver,Sex_of_Driver,Age_of_Driver,Age_Band_of_Driver,Engine_Capacity__CC_,Propulsion_Code,Age_of_Vehicle,Driver_Home_Area_Type,Location_Easting_OSGR,Location_Northing_OSGR,Longitude,Latitude,Police_Force,Accident_Severity,Number_of_Vehicles,Number_of_Casualties,Day_of_Week,Local_Authority__District_,_1st_Road_Class,_1st_Road_Number,Road_Type,Speed_limit,Junction_Detail,Junction_Control,_2nd_Road_Class,_2nd_Road_Number,Pedestrian_Crossing_Human_Control,Pedestrian_Crossing_Physical_Facilities,Light_Conditions,Weather_Conditions,Road_Surface_Conditions,Special_Conditions_at_Site,Carriageway_Hazards,Urban_or_Rural_Area,Did_Police_Officer_Attend_Scene_of_Accident,Vehicle_Reference_df,Casua…",
         "_deepnote_index_column": 0
        }
       ]
      },
      "text/plain": "                                                 f0_\n0  Vehicle_Reference_df_res,Vehicle_Type,Towing_a...",
      "text/html": "<div>\n<style scoped>\n    .dataframe tbody tr th:only-of-type {\n        vertical-align: middle;\n    }\n\n    .dataframe tbody tr th {\n        vertical-align: top;\n    }\n\n    .dataframe thead th {\n        text-align: right;\n    }\n</style>\n<table border=\"1\" class=\"dataframe\">\n  <thead>\n    <tr style=\"text-align: right;\">\n      <th></th>\n      <th>f0_</th>\n    </tr>\n  </thead>\n  <tbody>\n    <tr>\n      <th>0</th>\n      <td>Vehicle_Reference_df_res,Vehicle_Type,Towing_a...</td>\n    </tr>\n  </tbody>\n</table>\n</div>"
     },
     "metadata": {}
    }
   ]
  },
  {
   "cell_type": "code",
   "source": "\n\nnumericalcols_data = _deepnote_execute_sql(\"\"\"SELECT\n  {% for col in numerical_columns[\"f0_\"][0].split(\",\") %}\n    COUNT(DISTINCT {{col|sqlsafe}}),\n  {% endfor %}\nFROM\n  `labocr-267706.eda.road_safety`\n\"\"\", 'SQL_D15DB2FC_356F_4858_A44E_CAB7271219CD')\nnumericalcols_data",
   "metadata": {
    "tags": [],
    "deepnote_variable_name": "numericalcols_data",
    "sql_integration_id": "d15db2fc-356f-4858-a44e-cab7271219cd",
    "cell_id": "328aeaf288f54603b2867d4259d9df5b",
    "deepnote_to_be_reexecuted": false,
    "source_hash": "ec9160bf",
    "execution_start": 1661262637509,
    "execution_millis": 52569,
    "deepnote_sql_source": "SELECT\n  {% for col in numerical_columns[\"f0_\"][0].split(\",\") %}\n    COUNT(DISTINCT {{col|sqlsafe}}),\n  {% endfor %}\nFROM\n  `labocr-267706.eda.road_safety`",
    "deepnote_cell_type": "sql",
    "deepnote_cell_height": 391
   },
   "execution_count": 13,
   "outputs": [
    {
     "output_type": "execute_result",
     "execution_count": 13,
     "data": {
      "application/vnd.deepnote.dataframe.v3+json": {
       "column_count": 62,
       "row_count": 1,
       "columns": [
        {
         "name": "f0_",
         "dtype": "int64",
         "stats": {
          "unique_count": 1,
          "nan_count": 0,
          "min": "37",
          "max": "37",
          "histogram": [
           {
            "bin_start": 36.5,
            "bin_end": 36.6,
            "count": 0
           },
           {
            "bin_start": 36.6,
            "bin_end": 36.7,
            "count": 0
           },
           {
            "bin_start": 36.7,
            "bin_end": 36.8,
            "count": 0
           },
           {
            "bin_start": 36.8,
            "bin_end": 36.9,
            "count": 0
           },
           {
            "bin_start": 36.9,
            "bin_end": 37,
            "count": 0
           },
           {
            "bin_start": 37,
            "bin_end": 37.1,
            "count": 1
           },
           {
            "bin_start": 37.1,
            "bin_end": 37.2,
            "count": 0
           },
           {
            "bin_start": 37.2,
            "bin_end": 37.3,
            "count": 0
           },
           {
            "bin_start": 37.3,
            "bin_end": 37.4,
            "count": 0
           },
           {
            "bin_start": 37.4,
            "bin_end": 37.5,
            "count": 0
           }
          ]
         }
        },
        {
         "name": "f1_",
         "dtype": "int64",
         "stats": {
          "unique_count": 1,
          "nan_count": 0,
          "min": "20",
          "max": "20",
          "histogram": [
           {
            "bin_start": 19.5,
            "bin_end": 19.6,
            "count": 0
           },
           {
            "bin_start": 19.6,
            "bin_end": 19.7,
            "count": 0
           },
           {
            "bin_start": 19.7,
            "bin_end": 19.8,
            "count": 0
           },
           {
            "bin_start": 19.8,
            "bin_end": 19.9,
            "count": 0
           },
           {
            "bin_start": 19.9,
            "bin_end": 20,
            "count": 0
           },
           {
            "bin_start": 20,
            "bin_end": 20.1,
            "count": 1
           },
           {
            "bin_start": 20.1,
            "bin_end": 20.2,
            "count": 0
           },
           {
            "bin_start": 20.2,
            "bin_end": 20.3,
            "count": 0
           },
           {
            "bin_start": 20.3,
            "bin_end": 20.4,
            "count": 0
           },
           {
            "bin_start": 20.4,
            "bin_end": 20.5,
            "count": 0
           }
          ]
         }
        },
        {
         "name": "f2_",
         "dtype": "int64",
         "stats": {
          "unique_count": 1,
          "nan_count": 0,
          "min": "6",
          "max": "6",
          "histogram": [
           {
            "bin_start": 5.5,
            "bin_end": 5.6,
            "count": 0
           },
           {
            "bin_start": 5.6,
            "bin_end": 5.7,
            "count": 0
           },
           {
            "bin_start": 5.7,
            "bin_end": 5.8,
            "count": 0
           },
           {
            "bin_start": 5.8,
            "bin_end": 5.9,
            "count": 0
           },
           {
            "bin_start": 5.9,
            "bin_end": 6,
            "count": 0
           },
           {
            "bin_start": 6,
            "bin_end": 6.1,
            "count": 1
           },
           {
            "bin_start": 6.1,
            "bin_end": 6.2,
            "count": 0
           },
           {
            "bin_start": 6.2,
            "bin_end": 6.3,
            "count": 0
           },
           {
            "bin_start": 6.3,
            "bin_end": 6.4,
            "count": 0
           },
           {
            "bin_start": 6.4,
            "bin_end": 6.5,
            "count": 0
           }
          ]
         }
        },
        {
         "name": "f3_",
         "dtype": "int64",
         "stats": {
          "unique_count": 1,
          "nan_count": 0,
          "min": "18",
          "max": "18",
          "histogram": [
           {
            "bin_start": 17.5,
            "bin_end": 17.6,
            "count": 0
           },
           {
            "bin_start": 17.6,
            "bin_end": 17.7,
            "count": 0
           },
           {
            "bin_start": 17.7,
            "bin_end": 17.8,
            "count": 0
           },
           {
            "bin_start": 17.8,
            "bin_end": 17.9,
            "count": 0
           },
           {
            "bin_start": 17.9,
            "bin_end": 18,
            "count": 0
           },
           {
            "bin_start": 18,
            "bin_end": 18.1,
            "count": 1
           },
           {
            "bin_start": 18.1,
            "bin_end": 18.2,
            "count": 0
           },
           {
            "bin_start": 18.2,
            "bin_end": 18.3,
            "count": 0
           },
           {
            "bin_start": 18.3,
            "bin_end": 18.4,
            "count": 0
           },
           {
            "bin_start": 18.4,
            "bin_end": 18.5,
            "count": 0
           }
          ]
         }
        },
        {
         "name": "f4_",
         "dtype": "int64",
         "stats": {
          "unique_count": 1,
          "nan_count": 0,
          "min": "10",
          "max": "10",
          "histogram": [
           {
            "bin_start": 9.5,
            "bin_end": 9.6,
            "count": 0
           },
           {
            "bin_start": 9.6,
            "bin_end": 9.7,
            "count": 0
           },
           {
            "bin_start": 9.7,
            "bin_end": 9.8,
            "count": 0
           },
           {
            "bin_start": 9.8,
            "bin_end": 9.9,
            "count": 0
           },
           {
            "bin_start": 9.9,
            "bin_end": 10,
            "count": 0
           },
           {
            "bin_start": 10,
            "bin_end": 10.1,
            "count": 1
           },
           {
            "bin_start": 10.1,
            "bin_end": 10.2,
            "count": 0
           },
           {
            "bin_start": 10.2,
            "bin_end": 10.3,
            "count": 0
           },
           {
            "bin_start": 10.3,
            "bin_end": 10.4,
            "count": 0
           },
           {
            "bin_start": 10.4,
            "bin_end": 10.5,
            "count": 0
           }
          ]
         }
        },
        {
         "name": "f5_",
         "dtype": "int64",
         "stats": {
          "unique_count": 1,
          "nan_count": 0,
          "min": "9",
          "max": "9",
          "histogram": [
           {
            "bin_start": 8.5,
            "bin_end": 8.6,
            "count": 0
           },
           {
            "bin_start": 8.6,
            "bin_end": 8.7,
            "count": 0
           },
           {
            "bin_start": 8.7,
            "bin_end": 8.8,
            "count": 0
           },
           {
            "bin_start": 8.8,
            "bin_end": 8.9,
            "count": 0
           },
           {
            "bin_start": 8.9,
            "bin_end": 9,
            "count": 0
           },
           {
            "bin_start": 9,
            "bin_end": 9.1,
            "count": 1
           },
           {
            "bin_start": 9.1,
            "bin_end": 9.2,
            "count": 0
           },
           {
            "bin_start": 9.2,
            "bin_end": 9.3,
            "count": 0
           },
           {
            "bin_start": 9.3,
            "bin_end": 9.4,
            "count": 0
           },
           {
            "bin_start": 9.4,
            "bin_end": 9.5,
            "count": 0
           }
          ]
         }
        },
        {
         "name": "f6_",
         "dtype": "int64",
         "stats": {
          "unique_count": 1,
          "nan_count": 0,
          "min": "6",
          "max": "6",
          "histogram": [
           {
            "bin_start": 5.5,
            "bin_end": 5.6,
            "count": 0
           },
           {
            "bin_start": 5.6,
            "bin_end": 5.7,
            "count": 0
           },
           {
            "bin_start": 5.7,
            "bin_end": 5.8,
            "count": 0
           },
           {
            "bin_start": 5.8,
            "bin_end": 5.9,
            "count": 0
           },
           {
            "bin_start": 5.9,
            "bin_end": 6,
            "count": 0
           },
           {
            "bin_start": 6,
            "bin_end": 6.1,
            "count": 1
           },
           {
            "bin_start": 6.1,
            "bin_end": 6.2,
            "count": 0
           },
           {
            "bin_start": 6.2,
            "bin_end": 6.3,
            "count": 0
           },
           {
            "bin_start": 6.3,
            "bin_end": 6.4,
            "count": 0
           },
           {
            "bin_start": 6.4,
            "bin_end": 6.5,
            "count": 0
           }
          ]
         }
        },
        {
         "name": "f7_",
         "dtype": "int64",
         "stats": {
          "unique_count": 1,
          "nan_count": 0,
          "min": "12",
          "max": "12",
          "histogram": [
           {
            "bin_start": 11.5,
            "bin_end": 11.6,
            "count": 0
           },
           {
            "bin_start": 11.6,
            "bin_end": 11.7,
            "count": 0
           },
           {
            "bin_start": 11.7,
            "bin_end": 11.8,
            "count": 0
           },
           {
            "bin_start": 11.8,
            "bin_end": 11.9,
            "count": 0
           },
           {
            "bin_start": 11.9,
            "bin_end": 12,
            "count": 0
           },
           {
            "bin_start": 12,
            "bin_end": 12.1,
            "count": 1
           },
           {
            "bin_start": 12.1,
            "bin_end": 12.2,
            "count": 0
           },
           {
            "bin_start": 12.2,
            "bin_end": 12.3,
            "count": 0
           },
           {
            "bin_start": 12.3,
            "bin_end": 12.4,
            "count": 0
           },
           {
            "bin_start": 12.4,
            "bin_end": 12.5,
            "count": 0
           }
          ]
         }
        },
        {
         "name": "f8_",
         "dtype": "int64",
         "stats": {
          "unique_count": 1,
          "nan_count": 0,
          "min": "9",
          "max": "9",
          "histogram": [
           {
            "bin_start": 8.5,
            "bin_end": 8.6,
            "count": 0
           },
           {
            "bin_start": 8.6,
            "bin_end": 8.7,
            "count": 0
           },
           {
            "bin_start": 8.7,
            "bin_end": 8.8,
            "count": 0
           },
           {
            "bin_start": 8.8,
            "bin_end": 8.9,
            "count": 0
           },
           {
            "bin_start": 8.9,
            "bin_end": 9,
            "count": 0
           },
           {
            "bin_start": 9,
            "bin_end": 9.1,
            "count": 1
           },
           {
            "bin_start": 9.1,
            "bin_end": 9.2,
            "count": 0
           },
           {
            "bin_start": 9.2,
            "bin_end": 9.3,
            "count": 0
           },
           {
            "bin_start": 9.3,
            "bin_end": 9.4,
            "count": 0
           },
           {
            "bin_start": 9.4,
            "bin_end": 9.5,
            "count": 0
           }
          ]
         }
        },
        {
         "name": "f9_",
         "dtype": "int64",
         "stats": {
          "unique_count": 1,
          "nan_count": 0,
          "min": "12",
          "max": "12",
          "histogram": [
           {
            "bin_start": 11.5,
            "bin_end": 11.6,
            "count": 0
           },
           {
            "bin_start": 11.6,
            "bin_end": 11.7,
            "count": 0
           },
           {
            "bin_start": 11.7,
            "bin_end": 11.8,
            "count": 0
           },
           {
            "bin_start": 11.8,
            "bin_end": 11.9,
            "count": 0
           },
           {
            "bin_start": 11.9,
            "bin_end": 12,
            "count": 0
           },
           {
            "bin_start": 12,
            "bin_end": 12.1,
            "count": 1
           },
           {
            "bin_start": 12.1,
            "bin_end": 12.2,
            "count": 0
           },
           {
            "bin_start": 12.2,
            "bin_end": 12.3,
            "count": 0
           },
           {
            "bin_start": 12.3,
            "bin_end": 12.4,
            "count": 0
           },
           {
            "bin_start": 12.4,
            "bin_end": 12.5,
            "count": 0
           }
          ]
         }
        },
        {
         "name": "f10_",
         "dtype": "int64",
         "stats": {
          "unique_count": 1,
          "nan_count": 0,
          "min": "5",
          "max": "5",
          "histogram": [
           {
            "bin_start": 4.5,
            "bin_end": 4.6,
            "count": 0
           },
           {
            "bin_start": 4.6,
            "bin_end": 4.7,
            "count": 0
           },
           {
            "bin_start": 4.7,
            "bin_end": 4.8,
            "count": 0
           },
           {
            "bin_start": 4.8,
            "bin_end": 4.9,
            "count": 0
           },
           {
            "bin_start": 4.9,
            "bin_end": 5,
            "count": 0
           },
           {
            "bin_start": 5,
            "bin_end": 5.1,
            "count": 1
           },
           {
            "bin_start": 5.1,
            "bin_end": 5.2,
            "count": 0
           },
           {
            "bin_start": 5.2,
            "bin_end": 5.3,
            "count": 0
           },
           {
            "bin_start": 5.3,
            "bin_end": 5.4,
            "count": 0
           },
           {
            "bin_start": 5.4,
            "bin_end": 5.5,
            "count": 0
           }
          ]
         }
        },
        {
         "name": "f11_",
         "dtype": "int64",
         "stats": {
          "unique_count": 1,
          "nan_count": 0,
          "min": "2",
          "max": "2",
          "histogram": [
           {
            "bin_start": 1.5,
            "bin_end": 1.6,
            "count": 0
           },
           {
            "bin_start": 1.6,
            "bin_end": 1.7,
            "count": 0
           },
           {
            "bin_start": 1.7,
            "bin_end": 1.8,
            "count": 0
           },
           {
            "bin_start": 1.8,
            "bin_end": 1.9,
            "count": 0
           },
           {
            "bin_start": 1.9,
            "bin_end": 2,
            "count": 0
           },
           {
            "bin_start": 2,
            "bin_end": 2.1,
            "count": 1
           },
           {
            "bin_start": 2.1,
            "bin_end": 2.2,
            "count": 0
           },
           {
            "bin_start": 2.2,
            "bin_end": 2.3,
            "count": 0
           },
           {
            "bin_start": 2.3,
            "bin_end": 2.4,
            "count": 0
           },
           {
            "bin_start": 2.4,
            "bin_end": 2.5,
            "count": 0
           }
          ]
         }
        },
        {
         "name": "f12_",
         "dtype": "int64",
         "stats": {
          "unique_count": 1,
          "nan_count": 0,
          "min": "6",
          "max": "6",
          "histogram": [
           {
            "bin_start": 5.5,
            "bin_end": 5.6,
            "count": 0
           },
           {
            "bin_start": 5.6,
            "bin_end": 5.7,
            "count": 0
           },
           {
            "bin_start": 5.7,
            "bin_end": 5.8,
            "count": 0
           },
           {
            "bin_start": 5.8,
            "bin_end": 5.9,
            "count": 0
           },
           {
            "bin_start": 5.9,
            "bin_end": 6,
            "count": 0
           },
           {
            "bin_start": 6,
            "bin_end": 6.1,
            "count": 1
           },
           {
            "bin_start": 6.1,
            "bin_end": 6.2,
            "count": 0
           },
           {
            "bin_start": 6.2,
            "bin_end": 6.3,
            "count": 0
           },
           {
            "bin_start": 6.3,
            "bin_end": 6.4,
            "count": 0
           },
           {
            "bin_start": 6.4,
            "bin_end": 6.5,
            "count": 0
           }
          ]
         }
        },
        {
         "name": "f13_",
         "dtype": "int64",
         "stats": {
          "unique_count": 1,
          "nan_count": 0,
          "min": "3",
          "max": "3",
          "histogram": [
           {
            "bin_start": 2.5,
            "bin_end": 2.6,
            "count": 0
           },
           {
            "bin_start": 2.6,
            "bin_end": 2.7,
            "count": 0
           },
           {
            "bin_start": 2.7,
            "bin_end": 2.8,
            "count": 0
           },
           {
            "bin_start": 2.8,
            "bin_end": 2.9,
            "count": 0
           },
           {
            "bin_start": 2.9,
            "bin_end": 3,
            "count": 0
           },
           {
            "bin_start": 3,
            "bin_end": 3.1,
            "count": 1
           },
           {
            "bin_start": 3.1,
            "bin_end": 3.2,
            "count": 0
           },
           {
            "bin_start": 3.2,
            "bin_end": 3.3,
            "count": 0
           },
           {
            "bin_start": 3.3,
            "bin_end": 3.4,
            "count": 0
           },
           {
            "bin_start": 3.4,
            "bin_end": 3.5,
            "count": 0
           }
          ]
         }
        },
        {
         "name": "f14_",
         "dtype": "int64",
         "stats": {
          "unique_count": 1,
          "nan_count": 0,
          "min": "95",
          "max": "95",
          "histogram": [
           {
            "bin_start": 94.5,
            "bin_end": 94.6,
            "count": 0
           },
           {
            "bin_start": 94.6,
            "bin_end": 94.7,
            "count": 0
           },
           {
            "bin_start": 94.7,
            "bin_end": 94.8,
            "count": 0
           },
           {
            "bin_start": 94.8,
            "bin_end": 94.9,
            "count": 0
           },
           {
            "bin_start": 94.9,
            "bin_end": 95,
            "count": 0
           },
           {
            "bin_start": 95,
            "bin_end": 95.1,
            "count": 1
           },
           {
            "bin_start": 95.1,
            "bin_end": 95.2,
            "count": 0
           },
           {
            "bin_start": 95.2,
            "bin_end": 95.3,
            "count": 0
           },
           {
            "bin_start": 95.3,
            "bin_end": 95.4,
            "count": 0
           },
           {
            "bin_start": 95.4,
            "bin_end": 95.5,
            "count": 0
           }
          ]
         }
        },
        {
         "name": "f15_",
         "dtype": "int64",
         "stats": {
          "unique_count": 1,
          "nan_count": 0,
          "min": "11",
          "max": "11",
          "histogram": [
           {
            "bin_start": 10.5,
            "bin_end": 10.6,
            "count": 0
           },
           {
            "bin_start": 10.6,
            "bin_end": 10.7,
            "count": 0
           },
           {
            "bin_start": 10.7,
            "bin_end": 10.8,
            "count": 0
           },
           {
            "bin_start": 10.8,
            "bin_end": 10.9,
            "count": 0
           },
           {
            "bin_start": 10.9,
            "bin_end": 11,
            "count": 0
           },
           {
            "bin_start": 11,
            "bin_end": 11.1,
            "count": 1
           },
           {
            "bin_start": 11.1,
            "bin_end": 11.2,
            "count": 0
           },
           {
            "bin_start": 11.2,
            "bin_end": 11.3,
            "count": 0
           },
           {
            "bin_start": 11.3,
            "bin_end": 11.4,
            "count": 0
           },
           {
            "bin_start": 11.4,
            "bin_end": 11.5,
            "count": 0
           }
          ]
         }
        },
        {
         "name": "f16_",
         "dtype": "int64",
         "stats": {
          "unique_count": 1,
          "nan_count": 0,
          "min": "1140",
          "max": "1140",
          "histogram": [
           {
            "bin_start": 1139.5,
            "bin_end": 1139.6,
            "count": 0
           },
           {
            "bin_start": 1139.6,
            "bin_end": 1139.7,
            "count": 0
           },
           {
            "bin_start": 1139.7,
            "bin_end": 1139.8,
            "count": 0
           },
           {
            "bin_start": 1139.8,
            "bin_end": 1139.9,
            "count": 0
           },
           {
            "bin_start": 1139.9,
            "bin_end": 1140,
            "count": 0
           },
           {
            "bin_start": 1140,
            "bin_end": 1140.1,
            "count": 1
           },
           {
            "bin_start": 1140.1,
            "bin_end": 1140.2,
            "count": 0
           },
           {
            "bin_start": 1140.2,
            "bin_end": 1140.3,
            "count": 0
           },
           {
            "bin_start": 1140.3,
            "bin_end": 1140.4,
            "count": 0
           },
           {
            "bin_start": 1140.4,
            "bin_end": 1140.5,
            "count": 0
           }
          ]
         }
        },
        {
         "name": "f17_",
         "dtype": "int64",
         "stats": {
          "unique_count": 1,
          "nan_count": 0,
          "min": "11",
          "max": "11",
          "histogram": [
           {
            "bin_start": 10.5,
            "bin_end": 10.6,
            "count": 0
           },
           {
            "bin_start": 10.6,
            "bin_end": 10.7,
            "count": 0
           },
           {
            "bin_start": 10.7,
            "bin_end": 10.8,
            "count": 0
           },
           {
            "bin_start": 10.8,
            "bin_end": 10.9,
            "count": 0
           },
           {
            "bin_start": 10.9,
            "bin_end": 11,
            "count": 0
           },
           {
            "bin_start": 11,
            "bin_end": 11.1,
            "count": 1
           },
           {
            "bin_start": 11.1,
            "bin_end": 11.2,
            "count": 0
           },
           {
            "bin_start": 11.2,
            "bin_end": 11.3,
            "count": 0
           },
           {
            "bin_start": 11.3,
            "bin_end": 11.4,
            "count": 0
           },
           {
            "bin_start": 11.4,
            "bin_end": 11.5,
            "count": 0
           }
          ]
         }
        },
        {
         "name": "f18_",
         "dtype": "int64",
         "stats": {
          "unique_count": 1,
          "nan_count": 0,
          "min": "72",
          "max": "72",
          "histogram": [
           {
            "bin_start": 71.5,
            "bin_end": 71.6,
            "count": 0
           },
           {
            "bin_start": 71.6,
            "bin_end": 71.7,
            "count": 0
           },
           {
            "bin_start": 71.7,
            "bin_end": 71.8,
            "count": 0
           },
           {
            "bin_start": 71.8,
            "bin_end": 71.9,
            "count": 0
           },
           {
            "bin_start": 71.9,
            "bin_end": 72,
            "count": 0
           },
           {
            "bin_start": 72,
            "bin_end": 72.1,
            "count": 1
           },
           {
            "bin_start": 72.1,
            "bin_end": 72.2,
            "count": 0
           },
           {
            "bin_start": 72.2,
            "bin_end": 72.3,
            "count": 0
           },
           {
            "bin_start": 72.3,
            "bin_end": 72.4,
            "count": 0
           },
           {
            "bin_start": 72.4,
            "bin_end": 72.5,
            "count": 0
           }
          ]
         }
        },
        {
         "name": "f19_",
         "dtype": "int64",
         "stats": {
          "unique_count": 1,
          "nan_count": 0,
          "min": "3",
          "max": "3",
          "histogram": [
           {
            "bin_start": 2.5,
            "bin_end": 2.6,
            "count": 0
           },
           {
            "bin_start": 2.6,
            "bin_end": 2.7,
            "count": 0
           },
           {
            "bin_start": 2.7,
            "bin_end": 2.8,
            "count": 0
           },
           {
            "bin_start": 2.8,
            "bin_end": 2.9,
            "count": 0
           },
           {
            "bin_start": 2.9,
            "bin_end": 3,
            "count": 0
           },
           {
            "bin_start": 3,
            "bin_end": 3.1,
            "count": 1
           },
           {
            "bin_start": 3.1,
            "bin_end": 3.2,
            "count": 0
           },
           {
            "bin_start": 3.2,
            "bin_end": 3.3,
            "count": 0
           },
           {
            "bin_start": 3.3,
            "bin_end": 3.4,
            "count": 0
           },
           {
            "bin_start": 3.4,
            "bin_end": 3.5,
            "count": 0
           }
          ]
         }
        },
        {
         "name": "f20_",
         "dtype": "int64",
         "stats": {
          "unique_count": 1,
          "nan_count": 0,
          "min": "78609",
          "max": "78609",
          "histogram": [
           {
            "bin_start": 78608.5,
            "bin_end": 78608.6,
            "count": 0
           },
           {
            "bin_start": 78608.6,
            "bin_end": 78608.7,
            "count": 0
           },
           {
            "bin_start": 78608.7,
            "bin_end": 78608.8,
            "count": 0
           },
           {
            "bin_start": 78608.8,
            "bin_end": 78608.9,
            "count": 0
           },
           {
            "bin_start": 78608.9,
            "bin_end": 78609,
            "count": 0
           },
           {
            "bin_start": 78609,
            "bin_end": 78609.1,
            "count": 1
           },
           {
            "bin_start": 78609.1,
            "bin_end": 78609.2,
            "count": 0
           },
           {
            "bin_start": 78609.2,
            "bin_end": 78609.3,
            "count": 0
           },
           {
            "bin_start": 78609.3,
            "bin_end": 78609.4,
            "count": 0
           },
           {
            "bin_start": 78609.4,
            "bin_end": 78609.5,
            "count": 0
           }
          ]
         }
        },
        {
         "name": "f21_",
         "dtype": "int64",
         "stats": {
          "unique_count": 1,
          "nan_count": 0,
          "min": "82205",
          "max": "82205",
          "histogram": [
           {
            "bin_start": 82204.5,
            "bin_end": 82204.6,
            "count": 0
           },
           {
            "bin_start": 82204.6,
            "bin_end": 82204.7,
            "count": 0
           },
           {
            "bin_start": 82204.7,
            "bin_end": 82204.8,
            "count": 0
           },
           {
            "bin_start": 82204.8,
            "bin_end": 82204.9,
            "count": 0
           },
           {
            "bin_start": 82204.9,
            "bin_end": 82205,
            "count": 0
           },
           {
            "bin_start": 82205,
            "bin_end": 82205.1,
            "count": 1
           },
           {
            "bin_start": 82205.1,
            "bin_end": 82205.2,
            "count": 0
           },
           {
            "bin_start": 82205.2,
            "bin_end": 82205.3,
            "count": 0
           },
           {
            "bin_start": 82205.3,
            "bin_end": 82205.4,
            "count": 0
           },
           {
            "bin_start": 82205.4,
            "bin_end": 82205.5,
            "count": 0
           }
          ]
         }
        },
        {
         "name": "f22_",
         "dtype": "int64",
         "stats": {
          "unique_count": 1,
          "nan_count": 0,
          "min": "117588",
          "max": "117588",
          "histogram": [
           {
            "bin_start": 117587.5,
            "bin_end": 117587.6,
            "count": 0
           },
           {
            "bin_start": 117587.6,
            "bin_end": 117587.7,
            "count": 0
           },
           {
            "bin_start": 117587.7,
            "bin_end": 117587.8,
            "count": 0
           },
           {
            "bin_start": 117587.8,
            "bin_end": 117587.9,
            "count": 0
           },
           {
            "bin_start": 117587.9,
            "bin_end": 117588,
            "count": 0
           },
           {
            "bin_start": 117588,
            "bin_end": 117588.1,
            "count": 1
           },
           {
            "bin_start": 117588.1,
            "bin_end": 117588.2,
            "count": 0
           },
           {
            "bin_start": 117588.2,
            "bin_end": 117588.3,
            "count": 0
           },
           {
            "bin_start": 117588.3,
            "bin_end": 117588.4,
            "count": 0
           },
           {
            "bin_start": 117588.4,
            "bin_end": 117588.5,
            "count": 0
           }
          ]
         }
        },
        {
         "name": "f23_",
         "dtype": "int64",
         "stats": {
          "unique_count": 1,
          "nan_count": 0,
          "min": "116292",
          "max": "116292",
          "histogram": [
           {
            "bin_start": 116291.5,
            "bin_end": 116291.6,
            "count": 0
           },
           {
            "bin_start": 116291.6,
            "bin_end": 116291.7,
            "count": 0
           },
           {
            "bin_start": 116291.7,
            "bin_end": 116291.8,
            "count": 0
           },
           {
            "bin_start": 116291.8,
            "bin_end": 116291.9,
            "count": 0
           },
           {
            "bin_start": 116291.9,
            "bin_end": 116292,
            "count": 0
           },
           {
            "bin_start": 116292,
            "bin_end": 116292.1,
            "count": 1
           },
           {
            "bin_start": 116292.1,
            "bin_end": 116292.2,
            "count": 0
           },
           {
            "bin_start": 116292.2,
            "bin_end": 116292.3,
            "count": 0
           },
           {
            "bin_start": 116292.3,
            "bin_end": 116292.4,
            "count": 0
           },
           {
            "bin_start": 116292.4,
            "bin_end": 116292.5,
            "count": 0
           }
          ]
         }
        },
        {
         "name": "f24_",
         "dtype": "int64",
         "stats": {
          "unique_count": 1,
          "nan_count": 0,
          "min": "49",
          "max": "49",
          "histogram": [
           {
            "bin_start": 48.5,
            "bin_end": 48.6,
            "count": 0
           },
           {
            "bin_start": 48.6,
            "bin_end": 48.7,
            "count": 0
           },
           {
            "bin_start": 48.7,
            "bin_end": 48.8,
            "count": 0
           },
           {
            "bin_start": 48.8,
            "bin_end": 48.9,
            "count": 0
           },
           {
            "bin_start": 48.9,
            "bin_end": 49,
            "count": 0
           },
           {
            "bin_start": 49,
            "bin_end": 49.1,
            "count": 1
           },
           {
            "bin_start": 49.1,
            "bin_end": 49.2,
            "count": 0
           },
           {
            "bin_start": 49.2,
            "bin_end": 49.3,
            "count": 0
           },
           {
            "bin_start": 49.3,
            "bin_end": 49.4,
            "count": 0
           },
           {
            "bin_start": 49.4,
            "bin_end": 49.5,
            "count": 0
           }
          ]
         }
        },
        {
         "name": "f25_",
         "dtype": "int64",
         "stats": {
          "unique_count": 1,
          "nan_count": 0,
          "min": "3",
          "max": "3",
          "histogram": [
           {
            "bin_start": 2.5,
            "bin_end": 2.6,
            "count": 0
           },
           {
            "bin_start": 2.6,
            "bin_end": 2.7,
            "count": 0
           },
           {
            "bin_start": 2.7,
            "bin_end": 2.8,
            "count": 0
           },
           {
            "bin_start": 2.8,
            "bin_end": 2.9,
            "count": 0
           },
           {
            "bin_start": 2.9,
            "bin_end": 3,
            "count": 0
           },
           {
            "bin_start": 3,
            "bin_end": 3.1,
            "count": 1
           },
           {
            "bin_start": 3.1,
            "bin_end": 3.2,
            "count": 0
           },
           {
            "bin_start": 3.2,
            "bin_end": 3.3,
            "count": 0
           },
           {
            "bin_start": 3.3,
            "bin_end": 3.4,
            "count": 0
           },
           {
            "bin_start": 3.4,
            "bin_end": 3.5,
            "count": 0
           }
          ]
         }
        },
        {
         "name": "f26_",
         "dtype": "int64",
         "stats": {
          "unique_count": 1,
          "nan_count": 0,
          "min": "15",
          "max": "15",
          "histogram": [
           {
            "bin_start": 14.5,
            "bin_end": 14.6,
            "count": 0
           },
           {
            "bin_start": 14.6,
            "bin_end": 14.7,
            "count": 0
           },
           {
            "bin_start": 14.7,
            "bin_end": 14.8,
            "count": 0
           },
           {
            "bin_start": 14.8,
            "bin_end": 14.9,
            "count": 0
           },
           {
            "bin_start": 14.9,
            "bin_end": 15,
            "count": 0
           },
           {
            "bin_start": 15,
            "bin_end": 15.1,
            "count": 1
           },
           {
            "bin_start": 15.1,
            "bin_end": 15.2,
            "count": 0
           },
           {
            "bin_start": 15.2,
            "bin_end": 15.3,
            "count": 0
           },
           {
            "bin_start": 15.3,
            "bin_end": 15.4,
            "count": 0
           },
           {
            "bin_start": 15.4,
            "bin_end": 15.5,
            "count": 0
           }
          ]
         }
        },
        {
         "name": "f27_",
         "dtype": "int64",
         "stats": {
          "unique_count": 1,
          "nan_count": 0,
          "min": "21",
          "max": "21",
          "histogram": [
           {
            "bin_start": 20.5,
            "bin_end": 20.6,
            "count": 0
           },
           {
            "bin_start": 20.6,
            "bin_end": 20.7,
            "count": 0
           },
           {
            "bin_start": 20.7,
            "bin_end": 20.8,
            "count": 0
           },
           {
            "bin_start": 20.8,
            "bin_end": 20.9,
            "count": 0
           },
           {
            "bin_start": 20.9,
            "bin_end": 21,
            "count": 0
           },
           {
            "bin_start": 21,
            "bin_end": 21.1,
            "count": 1
           },
           {
            "bin_start": 21.1,
            "bin_end": 21.2,
            "count": 0
           },
           {
            "bin_start": 21.2,
            "bin_end": 21.3,
            "count": 0
           },
           {
            "bin_start": 21.3,
            "bin_end": 21.4,
            "count": 0
           },
           {
            "bin_start": 21.4,
            "bin_end": 21.5,
            "count": 0
           }
          ]
         }
        },
        {
         "name": "f28_",
         "dtype": "int64",
         "stats": {
          "unique_count": 1,
          "nan_count": 0,
          "min": "7",
          "max": "7",
          "histogram": [
           {
            "bin_start": 6.5,
            "bin_end": 6.6,
            "count": 0
           },
           {
            "bin_start": 6.6,
            "bin_end": 6.7,
            "count": 0
           },
           {
            "bin_start": 6.7,
            "bin_end": 6.8,
            "count": 0
           },
           {
            "bin_start": 6.8,
            "bin_end": 6.9,
            "count": 0
           },
           {
            "bin_start": 6.9,
            "bin_end": 7,
            "count": 0
           },
           {
            "bin_start": 7,
            "bin_end": 7.1,
            "count": 1
           },
           {
            "bin_start": 7.1,
            "bin_end": 7.2,
            "count": 0
           },
           {
            "bin_start": 7.2,
            "bin_end": 7.3,
            "count": 0
           },
           {
            "bin_start": 7.3,
            "bin_end": 7.4,
            "count": 0
           },
           {
            "bin_start": 7.4,
            "bin_end": 7.5,
            "count": 0
           }
          ]
         }
        },
        {
         "name": "f29_",
         "dtype": "int64",
         "stats": {
          "unique_count": 1,
          "nan_count": 0,
          "min": "356",
          "max": "356",
          "histogram": [
           {
            "bin_start": 355.5,
            "bin_end": 355.6,
            "count": 0
           },
           {
            "bin_start": 355.6,
            "bin_end": 355.7,
            "count": 0
           },
           {
            "bin_start": 355.7,
            "bin_end": 355.8,
            "count": 0
           },
           {
            "bin_start": 355.8,
            "bin_end": 355.9,
            "count": 0
           },
           {
            "bin_start": 355.9,
            "bin_end": 356,
            "count": 0
           },
           {
            "bin_start": 356,
            "bin_end": 356.1,
            "count": 1
           },
           {
            "bin_start": 356.1,
            "bin_end": 356.2,
            "count": 0
           },
           {
            "bin_start": 356.2,
            "bin_end": 356.3,
            "count": 0
           },
           {
            "bin_start": 356.3,
            "bin_end": 356.4,
            "count": 0
           },
           {
            "bin_start": 356.4,
            "bin_end": 356.5,
            "count": 0
           }
          ]
         }
        },
        {
         "name": "f30_",
         "dtype": "int64",
         "stats": {
          "unique_count": 1,
          "nan_count": 0,
          "min": "6",
          "max": "6",
          "histogram": [
           {
            "bin_start": 5.5,
            "bin_end": 5.6,
            "count": 0
           },
           {
            "bin_start": 5.6,
            "bin_end": 5.7,
            "count": 0
           },
           {
            "bin_start": 5.7,
            "bin_end": 5.8,
            "count": 0
           },
           {
            "bin_start": 5.8,
            "bin_end": 5.9,
            "count": 0
           },
           {
            "bin_start": 5.9,
            "bin_end": 6,
            "count": 0
           },
           {
            "bin_start": 6,
            "bin_end": 6.1,
            "count": 1
           },
           {
            "bin_start": 6.1,
            "bin_end": 6.2,
            "count": 0
           },
           {
            "bin_start": 6.2,
            "bin_end": 6.3,
            "count": 0
           },
           {
            "bin_start": 6.3,
            "bin_end": 6.4,
            "count": 0
           },
           {
            "bin_start": 6.4,
            "bin_end": 6.5,
            "count": 0
           }
          ]
         }
        },
        {
         "name": "f31_",
         "dtype": "int64",
         "stats": {
          "unique_count": 1,
          "nan_count": 0,
          "min": "3938",
          "max": "3938",
          "histogram": [
           {
            "bin_start": 3937.5,
            "bin_end": 3937.6,
            "count": 0
           },
           {
            "bin_start": 3937.6,
            "bin_end": 3937.7,
            "count": 0
           },
           {
            "bin_start": 3937.7,
            "bin_end": 3937.8,
            "count": 0
           },
           {
            "bin_start": 3937.8,
            "bin_end": 3937.9,
            "count": 0
           },
           {
            "bin_start": 3937.9,
            "bin_end": 3938,
            "count": 0
           },
           {
            "bin_start": 3938,
            "bin_end": 3938.1,
            "count": 1
           },
           {
            "bin_start": 3938.1,
            "bin_end": 3938.2,
            "count": 0
           },
           {
            "bin_start": 3938.2,
            "bin_end": 3938.3,
            "count": 0
           },
           {
            "bin_start": 3938.3,
            "bin_end": 3938.4,
            "count": 0
           },
           {
            "bin_start": 3938.4,
            "bin_end": 3938.5,
            "count": 0
           }
          ]
         }
        },
        {
         "name": "f32_",
         "dtype": "int64",
         "stats": {
          "unique_count": 1,
          "nan_count": 0,
          "min": "6",
          "max": "6",
          "histogram": [
           {
            "bin_start": 5.5,
            "bin_end": 5.6,
            "count": 0
           },
           {
            "bin_start": 5.6,
            "bin_end": 5.7,
            "count": 0
           },
           {
            "bin_start": 5.7,
            "bin_end": 5.8,
            "count": 0
           },
           {
            "bin_start": 5.8,
            "bin_end": 5.9,
            "count": 0
           },
           {
            "bin_start": 5.9,
            "bin_end": 6,
            "count": 0
           },
           {
            "bin_start": 6,
            "bin_end": 6.1,
            "count": 1
           },
           {
            "bin_start": 6.1,
            "bin_end": 6.2,
            "count": 0
           },
           {
            "bin_start": 6.2,
            "bin_end": 6.3,
            "count": 0
           },
           {
            "bin_start": 6.3,
            "bin_end": 6.4,
            "count": 0
           },
           {
            "bin_start": 6.4,
            "bin_end": 6.5,
            "count": 0
           }
          ]
         }
        },
        {
         "name": "f33_",
         "dtype": "int64",
         "stats": {
          "unique_count": 1,
          "nan_count": 0,
          "min": "8",
          "max": "8",
          "histogram": [
           {
            "bin_start": 7.5,
            "bin_end": 7.6,
            "count": 0
           },
           {
            "bin_start": 7.6,
            "bin_end": 7.7,
            "count": 0
           },
           {
            "bin_start": 7.7,
            "bin_end": 7.8,
            "count": 0
           },
           {
            "bin_start": 7.8,
            "bin_end": 7.9,
            "count": 0
           },
           {
            "bin_start": 7.9,
            "bin_end": 8,
            "count": 0
           },
           {
            "bin_start": 8,
            "bin_end": 8.1,
            "count": 1
           },
           {
            "bin_start": 8.1,
            "bin_end": 8.2,
            "count": 0
           },
           {
            "bin_start": 8.2,
            "bin_end": 8.3,
            "count": 0
           },
           {
            "bin_start": 8.3,
            "bin_end": 8.4,
            "count": 0
           },
           {
            "bin_start": 8.4,
            "bin_end": 8.5,
            "count": 0
           }
          ]
         }
        },
        {
         "name": "f34_",
         "dtype": "int64",
         "stats": {
          "unique_count": 1,
          "nan_count": 0,
          "min": "9",
          "max": "9",
          "histogram": [
           {
            "bin_start": 8.5,
            "bin_end": 8.6,
            "count": 0
           },
           {
            "bin_start": 8.6,
            "bin_end": 8.7,
            "count": 0
           },
           {
            "bin_start": 8.7,
            "bin_end": 8.8,
            "count": 0
           },
           {
            "bin_start": 8.8,
            "bin_end": 8.9,
            "count": 0
           },
           {
            "bin_start": 8.9,
            "bin_end": 9,
            "count": 0
           },
           {
            "bin_start": 9,
            "bin_end": 9.1,
            "count": 1
           },
           {
            "bin_start": 9.1,
            "bin_end": 9.2,
            "count": 0
           },
           {
            "bin_start": 9.2,
            "bin_end": 9.3,
            "count": 0
           },
           {
            "bin_start": 9.3,
            "bin_end": 9.4,
            "count": 0
           },
           {
            "bin_start": 9.4,
            "bin_end": 9.5,
            "count": 0
           }
          ]
         }
        },
        {
         "name": "f35_",
         "dtype": "int64",
         "stats": {
          "unique_count": 1,
          "nan_count": 0,
          "min": "4",
          "max": "4",
          "histogram": [
           {
            "bin_start": 3.5,
            "bin_end": 3.6,
            "count": 0
           },
           {
            "bin_start": 3.6,
            "bin_end": 3.7,
            "count": 0
           },
           {
            "bin_start": 3.7,
            "bin_end": 3.8,
            "count": 0
           },
           {
            "bin_start": 3.8,
            "bin_end": 3.9,
            "count": 0
           },
           {
            "bin_start": 3.9,
            "bin_end": 4,
            "count": 0
           },
           {
            "bin_start": 4,
            "bin_end": 4.1,
            "count": 1
           },
           {
            "bin_start": 4.1,
            "bin_end": 4.2,
            "count": 0
           },
           {
            "bin_start": 4.2,
            "bin_end": 4.3,
            "count": 0
           },
           {
            "bin_start": 4.3,
            "bin_end": 4.4,
            "count": 0
           },
           {
            "bin_start": 4.4,
            "bin_end": 4.5,
            "count": 0
           }
          ]
         }
        },
        {
         "name": "f36_",
         "dtype": "int64",
         "stats": {
          "unique_count": 1,
          "nan_count": 0,
          "min": "6",
          "max": "6",
          "histogram": [
           {
            "bin_start": 5.5,
            "bin_end": 5.6,
            "count": 0
           },
           {
            "bin_start": 5.6,
            "bin_end": 5.7,
            "count": 0
           },
           {
            "bin_start": 5.7,
            "bin_end": 5.8,
            "count": 0
           },
           {
            "bin_start": 5.8,
            "bin_end": 5.9,
            "count": 0
           },
           {
            "bin_start": 5.9,
            "bin_end": 6,
            "count": 0
           },
           {
            "bin_start": 6,
            "bin_end": 6.1,
            "count": 1
           },
           {
            "bin_start": 6.1,
            "bin_end": 6.2,
            "count": 0
           },
           {
            "bin_start": 6.2,
            "bin_end": 6.3,
            "count": 0
           },
           {
            "bin_start": 6.3,
            "bin_end": 6.4,
            "count": 0
           },
           {
            "bin_start": 6.4,
            "bin_end": 6.5,
            "count": 0
           }
          ]
         }
        },
        {
         "name": "f37_",
         "dtype": "int64",
         "stats": {
          "unique_count": 1,
          "nan_count": 0,
          "min": "3707",
          "max": "3707",
          "histogram": [
           {
            "bin_start": 3706.5,
            "bin_end": 3706.6,
            "count": 0
           },
           {
            "bin_start": 3706.6,
            "bin_end": 3706.7,
            "count": 0
           },
           {
            "bin_start": 3706.7,
            "bin_end": 3706.8,
            "count": 0
           },
           {
            "bin_start": 3706.8,
            "bin_end": 3706.9,
            "count": 0
           },
           {
            "bin_start": 3706.9,
            "bin_end": 3707,
            "count": 0
           },
           {
            "bin_start": 3707,
            "bin_end": 3707.1,
            "count": 1
           },
           {
            "bin_start": 3707.1,
            "bin_end": 3707.2,
            "count": 0
           },
           {
            "bin_start": 3707.2,
            "bin_end": 3707.3,
            "count": 0
           },
           {
            "bin_start": 3707.3,
            "bin_end": 3707.4,
            "count": 0
           },
           {
            "bin_start": 3707.4,
            "bin_end": 3707.5,
            "count": 0
           }
          ]
         }
        },
        {
         "name": "f38_",
         "dtype": "int64",
         "stats": {
          "unique_count": 1,
          "nan_count": 0,
          "min": "3",
          "max": "3",
          "histogram": [
           {
            "bin_start": 2.5,
            "bin_end": 2.6,
            "count": 0
           },
           {
            "bin_start": 2.6,
            "bin_end": 2.7,
            "count": 0
           },
           {
            "bin_start": 2.7,
            "bin_end": 2.8,
            "count": 0
           },
           {
            "bin_start": 2.8,
            "bin_end": 2.9,
            "count": 0
           },
           {
            "bin_start": 2.9,
            "bin_end": 3,
            "count": 0
           },
           {
            "bin_start": 3,
            "bin_end": 3.1,
            "count": 1
           },
           {
            "bin_start": 3.1,
            "bin_end": 3.2,
            "count": 0
           },
           {
            "bin_start": 3.2,
            "bin_end": 3.3,
            "count": 0
           },
           {
            "bin_start": 3.3,
            "bin_end": 3.4,
            "count": 0
           },
           {
            "bin_start": 3.4,
            "bin_end": 3.5,
            "count": 0
           }
          ]
         }
        },
        {
         "name": "f39_",
         "dtype": "int64",
         "stats": {
          "unique_count": 1,
          "nan_count": 0,
          "min": "6",
          "max": "6",
          "histogram": [
           {
            "bin_start": 5.5,
            "bin_end": 5.6,
            "count": 0
           },
           {
            "bin_start": 5.6,
            "bin_end": 5.7,
            "count": 0
           },
           {
            "bin_start": 5.7,
            "bin_end": 5.8,
            "count": 0
           },
           {
            "bin_start": 5.8,
            "bin_end": 5.9,
            "count": 0
           },
           {
            "bin_start": 5.9,
            "bin_end": 6,
            "count": 0
           },
           {
            "bin_start": 6,
            "bin_end": 6.1,
            "count": 1
           },
           {
            "bin_start": 6.1,
            "bin_end": 6.2,
            "count": 0
           },
           {
            "bin_start": 6.2,
            "bin_end": 6.3,
            "count": 0
           },
           {
            "bin_start": 6.3,
            "bin_end": 6.4,
            "count": 0
           },
           {
            "bin_start": 6.4,
            "bin_end": 6.5,
            "count": 0
           }
          ]
         }
        },
        {
         "name": "f40_",
         "dtype": "int64",
         "stats": {
          "unique_count": 1,
          "nan_count": 0,
          "min": "5",
          "max": "5",
          "histogram": [
           {
            "bin_start": 4.5,
            "bin_end": 4.6,
            "count": 0
           },
           {
            "bin_start": 4.6,
            "bin_end": 4.7,
            "count": 0
           },
           {
            "bin_start": 4.7,
            "bin_end": 4.8,
            "count": 0
           },
           {
            "bin_start": 4.8,
            "bin_end": 4.9,
            "count": 0
           },
           {
            "bin_start": 4.9,
            "bin_end": 5,
            "count": 0
           },
           {
            "bin_start": 5,
            "bin_end": 5.1,
            "count": 1
           },
           {
            "bin_start": 5.1,
            "bin_end": 5.2,
            "count": 0
           },
           {
            "bin_start": 5.2,
            "bin_end": 5.3,
            "count": 0
           },
           {
            "bin_start": 5.3,
            "bin_end": 5.4,
            "count": 0
           },
           {
            "bin_start": 5.4,
            "bin_end": 5.5,
            "count": 0
           }
          ]
         }
        },
        {
         "name": "f41_",
         "dtype": "int64",
         "stats": {
          "unique_count": 1,
          "nan_count": 0,
          "min": "9",
          "max": "9",
          "histogram": [
           {
            "bin_start": 8.5,
            "bin_end": 8.6,
            "count": 0
           },
           {
            "bin_start": 8.6,
            "bin_end": 8.7,
            "count": 0
           },
           {
            "bin_start": 8.7,
            "bin_end": 8.8,
            "count": 0
           },
           {
            "bin_start": 8.8,
            "bin_end": 8.9,
            "count": 0
           },
           {
            "bin_start": 8.9,
            "bin_end": 9,
            "count": 0
           },
           {
            "bin_start": 9,
            "bin_end": 9.1,
            "count": 1
           },
           {
            "bin_start": 9.1,
            "bin_end": 9.2,
            "count": 0
           },
           {
            "bin_start": 9.2,
            "bin_end": 9.3,
            "count": 0
           },
           {
            "bin_start": 9.3,
            "bin_end": 9.4,
            "count": 0
           },
           {
            "bin_start": 9.4,
            "bin_end": 9.5,
            "count": 0
           }
          ]
         }
        },
        {
         "name": "f42_",
         "dtype": "int64",
         "stats": {
          "unique_count": 1,
          "nan_count": 0,
          "min": "5",
          "max": "5",
          "histogram": [
           {
            "bin_start": 4.5,
            "bin_end": 4.6,
            "count": 0
           },
           {
            "bin_start": 4.6,
            "bin_end": 4.7,
            "count": 0
           },
           {
            "bin_start": 4.7,
            "bin_end": 4.8,
            "count": 0
           },
           {
            "bin_start": 4.8,
            "bin_end": 4.9,
            "count": 0
           },
           {
            "bin_start": 4.9,
            "bin_end": 5,
            "count": 0
           },
           {
            "bin_start": 5,
            "bin_end": 5.1,
            "count": 1
           },
           {
            "bin_start": 5.1,
            "bin_end": 5.2,
            "count": 0
           },
           {
            "bin_start": 5.2,
            "bin_end": 5.3,
            "count": 0
           },
           {
            "bin_start": 5.3,
            "bin_end": 5.4,
            "count": 0
           },
           {
            "bin_start": 5.4,
            "bin_end": 5.5,
            "count": 0
           }
          ]
         }
        },
        {
         "name": "f43_",
         "dtype": "int64",
         "stats": {
          "unique_count": 1,
          "nan_count": 0,
          "min": "8",
          "max": "8",
          "histogram": [
           {
            "bin_start": 7.5,
            "bin_end": 7.6,
            "count": 0
           },
           {
            "bin_start": 7.6,
            "bin_end": 7.7,
            "count": 0
           },
           {
            "bin_start": 7.7,
            "bin_end": 7.8,
            "count": 0
           },
           {
            "bin_start": 7.8,
            "bin_end": 7.9,
            "count": 0
           },
           {
            "bin_start": 7.9,
            "bin_end": 8,
            "count": 0
           },
           {
            "bin_start": 8,
            "bin_end": 8.1,
            "count": 1
           },
           {
            "bin_start": 8.1,
            "bin_end": 8.2,
            "count": 0
           },
           {
            "bin_start": 8.2,
            "bin_end": 8.3,
            "count": 0
           },
           {
            "bin_start": 8.3,
            "bin_end": 8.4,
            "count": 0
           },
           {
            "bin_start": 8.4,
            "bin_end": 8.5,
            "count": 0
           }
          ]
         }
        },
        {
         "name": "f44_",
         "dtype": "int64",
         "stats": {
          "unique_count": 1,
          "nan_count": 0,
          "min": "6",
          "max": "6",
          "histogram": [
           {
            "bin_start": 5.5,
            "bin_end": 5.6,
            "count": 0
           },
           {
            "bin_start": 5.6,
            "bin_end": 5.7,
            "count": 0
           },
           {
            "bin_start": 5.7,
            "bin_end": 5.8,
            "count": 0
           },
           {
            "bin_start": 5.8,
            "bin_end": 5.9,
            "count": 0
           },
           {
            "bin_start": 5.9,
            "bin_end": 6,
            "count": 0
           },
           {
            "bin_start": 6,
            "bin_end": 6.1,
            "count": 1
           },
           {
            "bin_start": 6.1,
            "bin_end": 6.2,
            "count": 0
           },
           {
            "bin_start": 6.2,
            "bin_end": 6.3,
            "count": 0
           },
           {
            "bin_start": 6.3,
            "bin_end": 6.4,
            "count": 0
           },
           {
            "bin_start": 6.4,
            "bin_end": 6.5,
            "count": 0
           }
          ]
         }
        },
        {
         "name": "f45_",
         "dtype": "int64",
         "stats": {
          "unique_count": 1,
          "nan_count": 0,
          "min": "2",
          "max": "2",
          "histogram": [
           {
            "bin_start": 1.5,
            "bin_end": 1.6,
            "count": 0
           },
           {
            "bin_start": 1.6,
            "bin_end": 1.7,
            "count": 0
           },
           {
            "bin_start": 1.7,
            "bin_end": 1.8,
            "count": 0
           },
           {
            "bin_start": 1.8,
            "bin_end": 1.9,
            "count": 0
           },
           {
            "bin_start": 1.9,
            "bin_end": 2,
            "count": 0
           },
           {
            "bin_start": 2,
            "bin_end": 2.1,
            "count": 1
           },
           {
            "bin_start": 2.1,
            "bin_end": 2.2,
            "count": 0
           },
           {
            "bin_start": 2.2,
            "bin_end": 2.3,
            "count": 0
           },
           {
            "bin_start": 2.3,
            "bin_end": 2.4,
            "count": 0
           },
           {
            "bin_start": 2.4,
            "bin_end": 2.5,
            "count": 0
           }
          ]
         }
        },
        {
         "name": "f46_",
         "dtype": "int64",
         "stats": {
          "unique_count": 1,
          "nan_count": 0,
          "min": "3",
          "max": "3",
          "histogram": [
           {
            "bin_start": 2.5,
            "bin_end": 2.6,
            "count": 0
           },
           {
            "bin_start": 2.6,
            "bin_end": 2.7,
            "count": 0
           },
           {
            "bin_start": 2.7,
            "bin_end": 2.8,
            "count": 0
           },
           {
            "bin_start": 2.8,
            "bin_end": 2.9,
            "count": 0
           },
           {
            "bin_start": 2.9,
            "bin_end": 3,
            "count": 0
           },
           {
            "bin_start": 3,
            "bin_end": 3.1,
            "count": 1
           },
           {
            "bin_start": 3.1,
            "bin_end": 3.2,
            "count": 0
           },
           {
            "bin_start": 3.2,
            "bin_end": 3.3,
            "count": 0
           },
           {
            "bin_start": 3.3,
            "bin_end": 3.4,
            "count": 0
           },
           {
            "bin_start": 3.4,
            "bin_end": 3.5,
            "count": 0
           }
          ]
         }
        },
        {
         "name": "f47_",
         "dtype": "int64",
         "stats": {
          "unique_count": 1,
          "nan_count": 0,
          "min": "28",
          "max": "28",
          "histogram": [
           {
            "bin_start": 27.5,
            "bin_end": 27.6,
            "count": 0
           },
           {
            "bin_start": 27.6,
            "bin_end": 27.7,
            "count": 0
           },
           {
            "bin_start": 27.7,
            "bin_end": 27.8,
            "count": 0
           },
           {
            "bin_start": 27.8,
            "bin_end": 27.9,
            "count": 0
           },
           {
            "bin_start": 27.9,
            "bin_end": 28,
            "count": 0
           },
           {
            "bin_start": 28,
            "bin_end": 28.1,
            "count": 1
           },
           {
            "bin_start": 28.1,
            "bin_end": 28.2,
            "count": 0
           },
           {
            "bin_start": 28.2,
            "bin_end": 28.3,
            "count": 0
           },
           {
            "bin_start": 28.3,
            "bin_end": 28.4,
            "count": 0
           },
           {
            "bin_start": 28.4,
            "bin_end": 28.5,
            "count": 0
           }
          ]
         }
        },
        {
         "name": "f48_",
         "dtype": "int64",
         "stats": {
          "unique_count": 1,
          "nan_count": 0,
          "min": "38",
          "max": "38",
          "histogram": [
           {
            "bin_start": 37.5,
            "bin_end": 37.6,
            "count": 0
           },
           {
            "bin_start": 37.6,
            "bin_end": 37.7,
            "count": 0
           },
           {
            "bin_start": 37.7,
            "bin_end": 37.8,
            "count": 0
           },
           {
            "bin_start": 37.8,
            "bin_end": 37.9,
            "count": 0
           },
           {
            "bin_start": 37.9,
            "bin_end": 38,
            "count": 0
           },
           {
            "bin_start": 38,
            "bin_end": 38.1,
            "count": 1
           },
           {
            "bin_start": 38.1,
            "bin_end": 38.2,
            "count": 0
           },
           {
            "bin_start": 38.2,
            "bin_end": 38.3,
            "count": 0
           },
           {
            "bin_start": 38.3,
            "bin_end": 38.4,
            "count": 0
           },
           {
            "bin_start": 38.4,
            "bin_end": 38.5,
            "count": 0
           }
          ]
         }
        },
        {
         "name": "f49_",
         "dtype": "int64",
         "stats": {
          "unique_count": 1,
          "nan_count": 0,
          "min": "3",
          "max": "3",
          "histogram": [
           {
            "bin_start": 2.5,
            "bin_end": 2.6,
            "count": 0
           },
           {
            "bin_start": 2.6,
            "bin_end": 2.7,
            "count": 0
           },
           {
            "bin_start": 2.7,
            "bin_end": 2.8,
            "count": 0
           },
           {
            "bin_start": 2.8,
            "bin_end": 2.9,
            "count": 0
           },
           {
            "bin_start": 2.9,
            "bin_end": 3,
            "count": 0
           },
           {
            "bin_start": 3,
            "bin_end": 3.1,
            "count": 1
           },
           {
            "bin_start": 3.1,
            "bin_end": 3.2,
            "count": 0
           },
           {
            "bin_start": 3.2,
            "bin_end": 3.3,
            "count": 0
           },
           {
            "bin_start": 3.3,
            "bin_end": 3.4,
            "count": 0
           },
           {
            "bin_start": 3.4,
            "bin_end": 3.5,
            "count": 0
           }
          ]
         }
        },
        {
         "name": "f50_",
         "dtype": "int64",
         "stats": {
          "unique_count": 1,
          "nan_count": 0,
          "min": "2",
          "max": "2",
          "histogram": [
           {
            "bin_start": 1.5,
            "bin_end": 1.6,
            "count": 0
           },
           {
            "bin_start": 1.6,
            "bin_end": 1.7,
            "count": 0
           },
           {
            "bin_start": 1.7,
            "bin_end": 1.8,
            "count": 0
           },
           {
            "bin_start": 1.8,
            "bin_end": 1.9,
            "count": 0
           },
           {
            "bin_start": 1.9,
            "bin_end": 2,
            "count": 0
           },
           {
            "bin_start": 2,
            "bin_end": 2.1,
            "count": 1
           },
           {
            "bin_start": 2.1,
            "bin_end": 2.2,
            "count": 0
           },
           {
            "bin_start": 2.2,
            "bin_end": 2.3,
            "count": 0
           },
           {
            "bin_start": 2.3,
            "bin_end": 2.4,
            "count": 0
           },
           {
            "bin_start": 2.4,
            "bin_end": 2.5,
            "count": 0
           }
          ]
         }
        },
        {
         "name": "f51_",
         "dtype": "int64",
         "stats": {
          "unique_count": 1,
          "nan_count": 0,
          "min": "101",
          "max": "101",
          "histogram": [
           {
            "bin_start": 100.5,
            "bin_end": 100.6,
            "count": 0
           },
           {
            "bin_start": 100.6,
            "bin_end": 100.7,
            "count": 0
           },
           {
            "bin_start": 100.7,
            "bin_end": 100.8,
            "count": 0
           },
           {
            "bin_start": 100.8,
            "bin_end": 100.9,
            "count": 0
           },
           {
            "bin_start": 100.9,
            "bin_end": 101,
            "count": 0
           },
           {
            "bin_start": 101,
            "bin_end": 101.1,
            "count": 1
           },
           {
            "bin_start": 101.1,
            "bin_end": 101.2,
            "count": 0
           },
           {
            "bin_start": 101.2,
            "bin_end": 101.3,
            "count": 0
           },
           {
            "bin_start": 101.3,
            "bin_end": 101.4,
            "count": 0
           },
           {
            "bin_start": 101.4,
            "bin_end": 101.5,
            "count": 0
           }
          ]
         }
        },
        {
         "name": "f52_",
         "dtype": "int64",
         "stats": {
          "unique_count": 1,
          "nan_count": 0,
          "min": "11",
          "max": "11",
          "histogram": [
           {
            "bin_start": 10.5,
            "bin_end": 10.6,
            "count": 0
           },
           {
            "bin_start": 10.6,
            "bin_end": 10.7,
            "count": 0
           },
           {
            "bin_start": 10.7,
            "bin_end": 10.8,
            "count": 0
           },
           {
            "bin_start": 10.8,
            "bin_end": 10.9,
            "count": 0
           },
           {
            "bin_start": 10.9,
            "bin_end": 11,
            "count": 0
           },
           {
            "bin_start": 11,
            "bin_end": 11.1,
            "count": 1
           },
           {
            "bin_start": 11.1,
            "bin_end": 11.2,
            "count": 0
           },
           {
            "bin_start": 11.2,
            "bin_end": 11.3,
            "count": 0
           },
           {
            "bin_start": 11.3,
            "bin_end": 11.4,
            "count": 0
           },
           {
            "bin_start": 11.4,
            "bin_end": 11.5,
            "count": 0
           }
          ]
         }
        },
        {
         "name": "f53_",
         "dtype": "int64",
         "stats": {
          "unique_count": 1,
          "nan_count": 0,
          "min": "3",
          "max": "3",
          "histogram": [
           {
            "bin_start": 2.5,
            "bin_end": 2.6,
            "count": 0
           },
           {
            "bin_start": 2.6,
            "bin_end": 2.7,
            "count": 0
           },
           {
            "bin_start": 2.7,
            "bin_end": 2.8,
            "count": 0
           },
           {
            "bin_start": 2.8,
            "bin_end": 2.9,
            "count": 0
           },
           {
            "bin_start": 2.9,
            "bin_end": 3,
            "count": 0
           },
           {
            "bin_start": 3,
            "bin_end": 3.1,
            "count": 1
           },
           {
            "bin_start": 3.1,
            "bin_end": 3.2,
            "count": 0
           },
           {
            "bin_start": 3.2,
            "bin_end": 3.3,
            "count": 0
           },
           {
            "bin_start": 3.3,
            "bin_end": 3.4,
            "count": 0
           },
           {
            "bin_start": 3.4,
            "bin_end": 3.5,
            "count": 0
           }
          ]
         }
        },
        {
         "name": "f54_",
         "dtype": "int64",
         "stats": {
          "unique_count": 1,
          "nan_count": 0,
          "min": "11",
          "max": "11",
          "histogram": [
           {
            "bin_start": 10.5,
            "bin_end": 10.6,
            "count": 0
           },
           {
            "bin_start": 10.6,
            "bin_end": 10.7,
            "count": 0
           },
           {
            "bin_start": 10.7,
            "bin_end": 10.8,
            "count": 0
           },
           {
            "bin_start": 10.8,
            "bin_end": 10.9,
            "count": 0
           },
           {
            "bin_start": 10.9,
            "bin_end": 11,
            "count": 0
           },
           {
            "bin_start": 11,
            "bin_end": 11.1,
            "count": 1
           },
           {
            "bin_start": 11.1,
            "bin_end": 11.2,
            "count": 0
           },
           {
            "bin_start": 11.2,
            "bin_end": 11.3,
            "count": 0
           },
           {
            "bin_start": 11.3,
            "bin_end": 11.4,
            "count": 0
           },
           {
            "bin_start": 11.4,
            "bin_end": 11.5,
            "count": 0
           }
          ]
         }
        },
        {
         "name": "f55_",
         "dtype": "int64",
         "stats": {
          "unique_count": 1,
          "nan_count": 0,
          "min": "10",
          "max": "10",
          "histogram": [
           {
            "bin_start": 9.5,
            "bin_end": 9.6,
            "count": 0
           },
           {
            "bin_start": 9.6,
            "bin_end": 9.7,
            "count": 0
           },
           {
            "bin_start": 9.7,
            "bin_end": 9.8,
            "count": 0
           },
           {
            "bin_start": 9.8,
            "bin_end": 9.9,
            "count": 0
           },
           {
            "bin_start": 9.9,
            "bin_end": 10,
            "count": 0
           },
           {
            "bin_start": 10,
            "bin_end": 10.1,
            "count": 1
           },
           {
            "bin_start": 10.1,
            "bin_end": 10.2,
            "count": 0
           },
           {
            "bin_start": 10.2,
            "bin_end": 10.3,
            "count": 0
           },
           {
            "bin_start": 10.3,
            "bin_end": 10.4,
            "count": 0
           },
           {
            "bin_start": 10.4,
            "bin_end": 10.5,
            "count": 0
           }
          ]
         }
        },
        {
         "name": "f56_",
         "dtype": "int64",
         "stats": {
          "unique_count": 1,
          "nan_count": 0,
          "min": "3",
          "max": "3",
          "histogram": [
           {
            "bin_start": 2.5,
            "bin_end": 2.6,
            "count": 0
           },
           {
            "bin_start": 2.6,
            "bin_end": 2.7,
            "count": 0
           },
           {
            "bin_start": 2.7,
            "bin_end": 2.8,
            "count": 0
           },
           {
            "bin_start": 2.8,
            "bin_end": 2.9,
            "count": 0
           },
           {
            "bin_start": 2.9,
            "bin_end": 3,
            "count": 0
           },
           {
            "bin_start": 3,
            "bin_end": 3.1,
            "count": 1
           },
           {
            "bin_start": 3.1,
            "bin_end": 3.2,
            "count": 0
           },
           {
            "bin_start": 3.2,
            "bin_end": 3.3,
            "count": 0
           },
           {
            "bin_start": 3.3,
            "bin_end": 3.4,
            "count": 0
           },
           {
            "bin_start": 3.4,
            "bin_end": 3.5,
            "count": 0
           }
          ]
         }
        },
        {
         "name": "f57_",
         "dtype": "int64",
         "stats": {
          "unique_count": 1,
          "nan_count": 0,
          "min": "5",
          "max": "5",
          "histogram": [
           {
            "bin_start": 4.5,
            "bin_end": 4.6,
            "count": 0
           },
           {
            "bin_start": 4.6,
            "bin_end": 4.7,
            "count": 0
           },
           {
            "bin_start": 4.7,
            "bin_end": 4.8,
            "count": 0
           },
           {
            "bin_start": 4.8,
            "bin_end": 4.9,
            "count": 0
           },
           {
            "bin_start": 4.9,
            "bin_end": 5,
            "count": 0
           },
           {
            "bin_start": 5,
            "bin_end": 5.1,
            "count": 1
           },
           {
            "bin_start": 5.1,
            "bin_end": 5.2,
            "count": 0
           },
           {
            "bin_start": 5.2,
            "bin_end": 5.3,
            "count": 0
           },
           {
            "bin_start": 5.3,
            "bin_end": 5.4,
            "count": 0
           },
           {
            "bin_start": 5.4,
            "bin_end": 5.5,
            "count": 0
           }
          ]
         }
        },
        {
         "name": "f58_",
         "dtype": "int64",
         "stats": {
          "unique_count": 1,
          "nan_count": 0,
          "min": "3",
          "max": "3",
          "histogram": [
           {
            "bin_start": 2.5,
            "bin_end": 2.6,
            "count": 0
           },
           {
            "bin_start": 2.6,
            "bin_end": 2.7,
            "count": 0
           },
           {
            "bin_start": 2.7,
            "bin_end": 2.8,
            "count": 0
           },
           {
            "bin_start": 2.8,
            "bin_end": 2.9,
            "count": 0
           },
           {
            "bin_start": 2.9,
            "bin_end": 3,
            "count": 0
           },
           {
            "bin_start": 3,
            "bin_end": 3.1,
            "count": 1
           },
           {
            "bin_start": 3.1,
            "bin_end": 3.2,
            "count": 0
           },
           {
            "bin_start": 3.2,
            "bin_end": 3.3,
            "count": 0
           },
           {
            "bin_start": 3.3,
            "bin_end": 3.4,
            "count": 0
           },
           {
            "bin_start": 3.4,
            "bin_end": 3.5,
            "count": 0
           }
          ]
         }
        },
        {
         "name": "f59_",
         "dtype": "int64",
         "stats": {
          "unique_count": 1,
          "nan_count": 0,
          "min": "21",
          "max": "21",
          "histogram": [
           {
            "bin_start": 20.5,
            "bin_end": 20.6,
            "count": 0
           },
           {
            "bin_start": 20.6,
            "bin_end": 20.7,
            "count": 0
           },
           {
            "bin_start": 20.7,
            "bin_end": 20.8,
            "count": 0
           },
           {
            "bin_start": 20.8,
            "bin_end": 20.9,
            "count": 0
           },
           {
            "bin_start": 20.9,
            "bin_end": 21,
            "count": 0
           },
           {
            "bin_start": 21,
            "bin_end": 21.1,
            "count": 1
           },
           {
            "bin_start": 21.1,
            "bin_end": 21.2,
            "count": 0
           },
           {
            "bin_start": 21.2,
            "bin_end": 21.3,
            "count": 0
           },
           {
            "bin_start": 21.3,
            "bin_end": 21.4,
            "count": 0
           },
           {
            "bin_start": 21.4,
            "bin_end": 21.5,
            "count": 0
           }
          ]
         }
        },
        {
         "name": "f60_",
         "dtype": "int64",
         "stats": {
          "unique_count": 1,
          "nan_count": 0,
          "min": "3",
          "max": "3",
          "histogram": [
           {
            "bin_start": 2.5,
            "bin_end": 2.6,
            "count": 0
           },
           {
            "bin_start": 2.6,
            "bin_end": 2.7,
            "count": 0
           },
           {
            "bin_start": 2.7,
            "bin_end": 2.8,
            "count": 0
           },
           {
            "bin_start": 2.8,
            "bin_end": 2.9,
            "count": 0
           },
           {
            "bin_start": 2.9,
            "bin_end": 3,
            "count": 0
           },
           {
            "bin_start": 3,
            "bin_end": 3.1,
            "count": 1
           },
           {
            "bin_start": 3.1,
            "bin_end": 3.2,
            "count": 0
           },
           {
            "bin_start": 3.2,
            "bin_end": 3.3,
            "count": 0
           },
           {
            "bin_start": 3.3,
            "bin_end": 3.4,
            "count": 0
           },
           {
            "bin_start": 3.4,
            "bin_end": 3.5,
            "count": 0
           }
          ]
         }
        },
        {
         "name": "f61_",
         "dtype": "int64",
         "stats": {
          "unique_count": 1,
          "nan_count": 0,
          "min": "10",
          "max": "10",
          "histogram": [
           {
            "bin_start": 9.5,
            "bin_end": 9.6,
            "count": 0
           },
           {
            "bin_start": 9.6,
            "bin_end": 9.7,
            "count": 0
           },
           {
            "bin_start": 9.7,
            "bin_end": 9.8,
            "count": 0
           },
           {
            "bin_start": 9.8,
            "bin_end": 9.9,
            "count": 0
           },
           {
            "bin_start": 9.9,
            "bin_end": 10,
            "count": 0
           },
           {
            "bin_start": 10,
            "bin_end": 10.1,
            "count": 1
           },
           {
            "bin_start": 10.1,
            "bin_end": 10.2,
            "count": 0
           },
           {
            "bin_start": 10.2,
            "bin_end": 10.3,
            "count": 0
           },
           {
            "bin_start": 10.3,
            "bin_end": 10.4,
            "count": 0
           },
           {
            "bin_start": 10.4,
            "bin_end": 10.5,
            "count": 0
           }
          ]
         }
        },
        {
         "name": "_deepnote_index_column",
         "dtype": "int64"
        }
       ],
       "rows": [
        {
         "f0_": 37,
         "f1_": 20,
         "f2_": 6,
         "f3_": 18,
         "f4_": 10,
         "f5_": 9,
         "f6_": 6,
         "f7_": 12,
         "f8_": 9,
         "f9_": 12,
         "f10_": 5,
         "f11_": 2,
         "f12_": 6,
         "f13_": 3,
         "f14_": 95,
         "f15_": 11,
         "f16_": 1140,
         "f17_": 11,
         "f18_": 72,
         "f19_": 3,
         "f20_": 78609,
         "f21_": 82205,
         "f22_": 117588,
         "f23_": 116292,
         "f24_": 49,
         "f25_": 3,
         "f26_": 15,
         "f27_": 21,
         "f28_": 7,
         "f29_": 356,
         "f30_": 6,
         "f31_": 3938,
         "f32_": 6,
         "f33_": 8,
         "f34_": 9,
         "f35_": 4,
         "f36_": 6,
         "f37_": 3707,
         "f38_": 3,
         "f39_": 6,
         "f40_": 5,
         "f41_": 9,
         "f42_": 5,
         "f43_": 8,
         "f44_": 6,
         "f45_": 2,
         "f46_": 3,
         "f47_": 28,
         "f48_": 38,
         "f49_": 3,
         "f50_": 2,
         "f51_": 101,
         "f52_": 11,
         "f53_": 3,
         "f54_": 11,
         "f55_": 10,
         "f56_": 3,
         "f57_": 5,
         "f58_": 3,
         "f59_": 21,
         "f60_": 3,
         "f61_": 10,
         "_deepnote_index_column": 0
        }
       ]
      },
      "text/plain": "   f0_  f1_  f2_  f3_  f4_  f5_  f6_  f7_  f8_  f9_  ...  f52_  f53_  f54_  \\\n0   37   20    6   18   10    9    6   12    9   12  ...    11     3    11   \n\n   f55_  f56_  f57_  f58_  f59_  f60_  f61_  \n0    10     3     5     3    21     3    10  \n\n[1 rows x 62 columns]",
      "text/html": "<div>\n<style scoped>\n    .dataframe tbody tr th:only-of-type {\n        vertical-align: middle;\n    }\n\n    .dataframe tbody tr th {\n        vertical-align: top;\n    }\n\n    .dataframe thead th {\n        text-align: right;\n    }\n</style>\n<table border=\"1\" class=\"dataframe\">\n  <thead>\n    <tr style=\"text-align: right;\">\n      <th></th>\n      <th>f0_</th>\n      <th>f1_</th>\n      <th>f2_</th>\n      <th>f3_</th>\n      <th>f4_</th>\n      <th>f5_</th>\n      <th>f6_</th>\n      <th>f7_</th>\n      <th>f8_</th>\n      <th>f9_</th>\n      <th>...</th>\n      <th>f52_</th>\n      <th>f53_</th>\n      <th>f54_</th>\n      <th>f55_</th>\n      <th>f56_</th>\n      <th>f57_</th>\n      <th>f58_</th>\n      <th>f59_</th>\n      <th>f60_</th>\n      <th>f61_</th>\n    </tr>\n  </thead>\n  <tbody>\n    <tr>\n      <th>0</th>\n      <td>37</td>\n      <td>20</td>\n      <td>6</td>\n      <td>18</td>\n      <td>10</td>\n      <td>9</td>\n      <td>6</td>\n      <td>12</td>\n      <td>9</td>\n      <td>12</td>\n      <td>...</td>\n      <td>11</td>\n      <td>3</td>\n      <td>11</td>\n      <td>10</td>\n      <td>3</td>\n      <td>5</td>\n      <td>3</td>\n      <td>21</td>\n      <td>3</td>\n      <td>10</td>\n    </tr>\n  </tbody>\n</table>\n<p>1 rows × 62 columns</p>\n</div>"
     },
     "metadata": {}
    }
   ]
  },
  {
   "cell_type": "code",
   "source": "numericalcols_data.columns = numerical_columns[\"f0_\"][0].split(\",\")\nnumericalcols_data.T.plot.bar(title=\"Unique values per feature\",log_y=True)",
   "metadata": {
    "cell_id": "70a61528dc0744dea5fbf275e5d2b5db",
    "tags": [],
    "deepnote_to_be_reexecuted": false,
    "source_hash": "8c07e618",
    "execution_start": 1661263567471,
    "execution_millis": 66,
    "deepnote_cell_type": "code",
    "deepnote_cell_height": 636,
    "deepnote_output_heights": [
     526
    ]
   },
   "execution_count": 33,
   "outputs": [
    {
     "data": {
      "text/html": "<html>\n<head><meta charset=\"utf-8\" /></head>\n<body>\n    <div>            <script src=\"https://cdnjs.cloudflare.com/ajax/libs/mathjax/2.7.5/MathJax.js?config=TeX-AMS-MML_SVG\"></script><script type=\"text/javascript\">if (window.MathJax && window.MathJax.Hub && window.MathJax.Hub.Config) {window.MathJax.Hub.Config({SVG: {font: \"STIX-Web\"}});}</script>                <script type=\"text/javascript\">window.PlotlyConfig = {MathJaxConfig: 'local'};</script>\n        <script src=\"https://cdn.plot.ly/plotly-2.12.1.min.js\"></script>                <div id=\"21792cb4-b21d-4f27-9862-60489806592b\" class=\"plotly-graph-div\" style=\"height:525px; width:100%;\"></div>            <script type=\"text/javascript\">                                    window.PLOTLYENV=window.PLOTLYENV || {};                                    if (document.getElementById(\"21792cb4-b21d-4f27-9862-60489806592b\")) {                    Plotly.newPlot(                        \"21792cb4-b21d-4f27-9862-60489806592b\",                        [{\"alignmentgroup\":\"True\",\"hovertemplate\":\"variable=0<br>index=%{x}<br>value=%{y}<extra></extra>\",\"legendgroup\":\"0\",\"marker\":{\"color\":\"#636efa\",\"pattern\":{\"shape\":\"\"}},\"name\":\"0\",\"offsetgroup\":\"0\",\"orientation\":\"v\",\"showlegend\":true,\"textposition\":\"auto\",\"x\":[\"Vehicle_Reference_df_res\",\"Vehicle_Type\",\"Towing_and_Articulation\",\"Vehicle_Manoeuvre\",\"Vehicle_Location_Restricted_Lane\",\"Junction_Location\",\"Skidding_and_Overturning\",\"Hit_Object_in_Carriageway\",\"Vehicle_Leaving_Carriageway\",\"Hit_Object_off_Carriageway\",\"_1st_Point_of_Impact\",\"Was_Vehicle_Left_Hand_Drive\",\"Journey_Purpose_of_Driver\",\"Sex_of_Driver\",\"Age_of_Driver\",\"Age_Band_of_Driver\",\"Engine_Capacity__CC_\",\"Propulsion_Code\",\"Age_of_Vehicle\",\"Driver_Home_Area_Type\",\"Location_Easting_OSGR\",\"Location_Northing_OSGR\",\"Longitude\",\"Latitude\",\"Police_Force\",\"Accident_Severity\",\"Number_of_Vehicles\",\"Number_of_Casualties\",\"Day_of_Week\",\"Local_Authority__District_\",\"_1st_Road_Class\",\"_1st_Road_Number\",\"Road_Type\",\"Speed_limit\",\"Junction_Detail\",\"Junction_Control\",\"_2nd_Road_Class\",\"_2nd_Road_Number\",\"Pedestrian_Crossing_Human_Control\",\"Pedestrian_Crossing_Physical_Facilities\",\"Light_Conditions\",\"Weather_Conditions\",\"Road_Surface_Conditions\",\"Special_Conditions_at_Site\",\"Carriageway_Hazards\",\"Urban_or_Rural_Area\",\"Did_Police_Officer_Attend_Scene_of_Accident\",\"Vehicle_Reference_df\",\"Casualty_Reference\",\"Casualty_Class\",\"Sex_of_Casualty\",\"Age_of_Casualty\",\"Age_Band_of_Casualty\",\"Casualty_Severity\",\"Pedestrian_Location\",\"Pedestrian_Movement\",\"Car_Passenger\",\"Bus_or_Coach_Passenger\",\"Pedestrian_Road_Maintenance_Worker\",\"Casualty_Type\",\"Casualty_Home_Area_Type\",\"Casualty_IMD_Decile\"],\"xaxis\":\"x\",\"y\":[37,20,6,18,10,9,6,12,9,12,5,2,6,3,95,11,1140,11,72,3,78609,82205,117588,116292,49,3,15,21,7,356,6,3938,6,8,9,4,6,3707,3,6,5,9,5,8,6,2,3,28,38,3,2,101,11,3,11,10,3,5,3,21,3,10],\"yaxis\":\"y\",\"type\":\"bar\"}],                        {\"template\":{\"data\":{\"histogram2dcontour\":[{\"type\":\"histogram2dcontour\",\"colorbar\":{\"outlinewidth\":0,\"ticks\":\"\"},\"colorscale\":[[0.0,\"#0d0887\"],[0.1111111111111111,\"#46039f\"],[0.2222222222222222,\"#7201a8\"],[0.3333333333333333,\"#9c179e\"],[0.4444444444444444,\"#bd3786\"],[0.5555555555555556,\"#d8576b\"],[0.6666666666666666,\"#ed7953\"],[0.7777777777777778,\"#fb9f3a\"],[0.8888888888888888,\"#fdca26\"],[1.0,\"#f0f921\"]]}],\"choropleth\":[{\"type\":\"choropleth\",\"colorbar\":{\"outlinewidth\":0,\"ticks\":\"\"}}],\"histogram2d\":[{\"type\":\"histogram2d\",\"colorbar\":{\"outlinewidth\":0,\"ticks\":\"\"},\"colorscale\":[[0.0,\"#0d0887\"],[0.1111111111111111,\"#46039f\"],[0.2222222222222222,\"#7201a8\"],[0.3333333333333333,\"#9c179e\"],[0.4444444444444444,\"#bd3786\"],[0.5555555555555556,\"#d8576b\"],[0.6666666666666666,\"#ed7953\"],[0.7777777777777778,\"#fb9f3a\"],[0.8888888888888888,\"#fdca26\"],[1.0,\"#f0f921\"]]}],\"heatmap\":[{\"type\":\"heatmap\",\"colorbar\":{\"outlinewidth\":0,\"ticks\":\"\"},\"colorscale\":[[0.0,\"#0d0887\"],[0.1111111111111111,\"#46039f\"],[0.2222222222222222,\"#7201a8\"],[0.3333333333333333,\"#9c179e\"],[0.4444444444444444,\"#bd3786\"],[0.5555555555555556,\"#d8576b\"],[0.6666666666666666,\"#ed7953\"],[0.7777777777777778,\"#fb9f3a\"],[0.8888888888888888,\"#fdca26\"],[1.0,\"#f0f921\"]]}],\"heatmapgl\":[{\"type\":\"heatmapgl\",\"colorbar\":{\"outlinewidth\":0,\"ticks\":\"\"},\"colorscale\":[[0.0,\"#0d0887\"],[0.1111111111111111,\"#46039f\"],[0.2222222222222222,\"#7201a8\"],[0.3333333333333333,\"#9c179e\"],[0.4444444444444444,\"#bd3786\"],[0.5555555555555556,\"#d8576b\"],[0.6666666666666666,\"#ed7953\"],[0.7777777777777778,\"#fb9f3a\"],[0.8888888888888888,\"#fdca26\"],[1.0,\"#f0f921\"]]}],\"contourcarpet\":[{\"type\":\"contourcarpet\",\"colorbar\":{\"outlinewidth\":0,\"ticks\":\"\"}}],\"contour\":[{\"type\":\"contour\",\"colorbar\":{\"outlinewidth\":0,\"ticks\":\"\"},\"colorscale\":[[0.0,\"#0d0887\"],[0.1111111111111111,\"#46039f\"],[0.2222222222222222,\"#7201a8\"],[0.3333333333333333,\"#9c179e\"],[0.4444444444444444,\"#bd3786\"],[0.5555555555555556,\"#d8576b\"],[0.6666666666666666,\"#ed7953\"],[0.7777777777777778,\"#fb9f3a\"],[0.8888888888888888,\"#fdca26\"],[1.0,\"#f0f921\"]]}],\"surface\":[{\"type\":\"surface\",\"colorbar\":{\"outlinewidth\":0,\"ticks\":\"\"},\"colorscale\":[[0.0,\"#0d0887\"],[0.1111111111111111,\"#46039f\"],[0.2222222222222222,\"#7201a8\"],[0.3333333333333333,\"#9c179e\"],[0.4444444444444444,\"#bd3786\"],[0.5555555555555556,\"#d8576b\"],[0.6666666666666666,\"#ed7953\"],[0.7777777777777778,\"#fb9f3a\"],[0.8888888888888888,\"#fdca26\"],[1.0,\"#f0f921\"]]}],\"mesh3d\":[{\"type\":\"mesh3d\",\"colorbar\":{\"outlinewidth\":0,\"ticks\":\"\"}}],\"scatter\":[{\"fillpattern\":{\"fillmode\":\"overlay\",\"size\":10,\"solidity\":0.2},\"type\":\"scatter\"}],\"parcoords\":[{\"type\":\"parcoords\",\"line\":{\"colorbar\":{\"outlinewidth\":0,\"ticks\":\"\"}}}],\"scatterpolargl\":[{\"type\":\"scatterpolargl\",\"marker\":{\"colorbar\":{\"outlinewidth\":0,\"ticks\":\"\"}}}],\"bar\":[{\"error_x\":{\"color\":\"#2a3f5f\"},\"error_y\":{\"color\":\"#2a3f5f\"},\"marker\":{\"line\":{\"color\":\"#E5ECF6\",\"width\":0.5},\"pattern\":{\"fillmode\":\"overlay\",\"size\":10,\"solidity\":0.2}},\"type\":\"bar\"}],\"scattergeo\":[{\"type\":\"scattergeo\",\"marker\":{\"colorbar\":{\"outlinewidth\":0,\"ticks\":\"\"}}}],\"scatterpolar\":[{\"type\":\"scatterpolar\",\"marker\":{\"colorbar\":{\"outlinewidth\":0,\"ticks\":\"\"}}}],\"histogram\":[{\"marker\":{\"pattern\":{\"fillmode\":\"overlay\",\"size\":10,\"solidity\":0.2}},\"type\":\"histogram\"}],\"scattergl\":[{\"type\":\"scattergl\",\"marker\":{\"colorbar\":{\"outlinewidth\":0,\"ticks\":\"\"}}}],\"scatter3d\":[{\"type\":\"scatter3d\",\"line\":{\"colorbar\":{\"outlinewidth\":0,\"ticks\":\"\"}},\"marker\":{\"colorbar\":{\"outlinewidth\":0,\"ticks\":\"\"}}}],\"scattermapbox\":[{\"type\":\"scattermapbox\",\"marker\":{\"colorbar\":{\"outlinewidth\":0,\"ticks\":\"\"}}}],\"scatterternary\":[{\"type\":\"scatterternary\",\"marker\":{\"colorbar\":{\"outlinewidth\":0,\"ticks\":\"\"}}}],\"scattercarpet\":[{\"type\":\"scattercarpet\",\"marker\":{\"colorbar\":{\"outlinewidth\":0,\"ticks\":\"\"}}}],\"carpet\":[{\"aaxis\":{\"endlinecolor\":\"#2a3f5f\",\"gridcolor\":\"white\",\"linecolor\":\"white\",\"minorgridcolor\":\"white\",\"startlinecolor\":\"#2a3f5f\"},\"baxis\":{\"endlinecolor\":\"#2a3f5f\",\"gridcolor\":\"white\",\"linecolor\":\"white\",\"minorgridcolor\":\"white\",\"startlinecolor\":\"#2a3f5f\"},\"type\":\"carpet\"}],\"table\":[{\"cells\":{\"fill\":{\"color\":\"#EBF0F8\"},\"line\":{\"color\":\"white\"}},\"header\":{\"fill\":{\"color\":\"#C8D4E3\"},\"line\":{\"color\":\"white\"}},\"type\":\"table\"}],\"barpolar\":[{\"marker\":{\"line\":{\"color\":\"#E5ECF6\",\"width\":0.5},\"pattern\":{\"fillmode\":\"overlay\",\"size\":10,\"solidity\":0.2}},\"type\":\"barpolar\"}],\"pie\":[{\"automargin\":true,\"type\":\"pie\"}]},\"layout\":{\"autotypenumbers\":\"strict\",\"colorway\":[\"#636efa\",\"#EF553B\",\"#00cc96\",\"#ab63fa\",\"#FFA15A\",\"#19d3f3\",\"#FF6692\",\"#B6E880\",\"#FF97FF\",\"#FECB52\"],\"font\":{\"color\":\"#2a3f5f\"},\"hovermode\":\"closest\",\"hoverlabel\":{\"align\":\"left\"},\"paper_bgcolor\":\"white\",\"plot_bgcolor\":\"#E5ECF6\",\"polar\":{\"bgcolor\":\"#E5ECF6\",\"angularaxis\":{\"gridcolor\":\"white\",\"linecolor\":\"white\",\"ticks\":\"\"},\"radialaxis\":{\"gridcolor\":\"white\",\"linecolor\":\"white\",\"ticks\":\"\"}},\"ternary\":{\"bgcolor\":\"#E5ECF6\",\"aaxis\":{\"gridcolor\":\"white\",\"linecolor\":\"white\",\"ticks\":\"\"},\"baxis\":{\"gridcolor\":\"white\",\"linecolor\":\"white\",\"ticks\":\"\"},\"caxis\":{\"gridcolor\":\"white\",\"linecolor\":\"white\",\"ticks\":\"\"}},\"coloraxis\":{\"colorbar\":{\"outlinewidth\":0,\"ticks\":\"\"}},\"colorscale\":{\"sequential\":[[0.0,\"#0d0887\"],[0.1111111111111111,\"#46039f\"],[0.2222222222222222,\"#7201a8\"],[0.3333333333333333,\"#9c179e\"],[0.4444444444444444,\"#bd3786\"],[0.5555555555555556,\"#d8576b\"],[0.6666666666666666,\"#ed7953\"],[0.7777777777777778,\"#fb9f3a\"],[0.8888888888888888,\"#fdca26\"],[1.0,\"#f0f921\"]],\"sequentialminus\":[[0.0,\"#0d0887\"],[0.1111111111111111,\"#46039f\"],[0.2222222222222222,\"#7201a8\"],[0.3333333333333333,\"#9c179e\"],[0.4444444444444444,\"#bd3786\"],[0.5555555555555556,\"#d8576b\"],[0.6666666666666666,\"#ed7953\"],[0.7777777777777778,\"#fb9f3a\"],[0.8888888888888888,\"#fdca26\"],[1.0,\"#f0f921\"]],\"diverging\":[[0,\"#8e0152\"],[0.1,\"#c51b7d\"],[0.2,\"#de77ae\"],[0.3,\"#f1b6da\"],[0.4,\"#fde0ef\"],[0.5,\"#f7f7f7\"],[0.6,\"#e6f5d0\"],[0.7,\"#b8e186\"],[0.8,\"#7fbc41\"],[0.9,\"#4d9221\"],[1,\"#276419\"]]},\"xaxis\":{\"gridcolor\":\"white\",\"linecolor\":\"white\",\"ticks\":\"\",\"title\":{\"standoff\":15},\"zerolinecolor\":\"white\",\"automargin\":true,\"zerolinewidth\":2},\"yaxis\":{\"gridcolor\":\"white\",\"linecolor\":\"white\",\"ticks\":\"\",\"title\":{\"standoff\":15},\"zerolinecolor\":\"white\",\"automargin\":true,\"zerolinewidth\":2},\"scene\":{\"xaxis\":{\"backgroundcolor\":\"#E5ECF6\",\"gridcolor\":\"white\",\"linecolor\":\"white\",\"showbackground\":true,\"ticks\":\"\",\"zerolinecolor\":\"white\",\"gridwidth\":2},\"yaxis\":{\"backgroundcolor\":\"#E5ECF6\",\"gridcolor\":\"white\",\"linecolor\":\"white\",\"showbackground\":true,\"ticks\":\"\",\"zerolinecolor\":\"white\",\"gridwidth\":2},\"zaxis\":{\"backgroundcolor\":\"#E5ECF6\",\"gridcolor\":\"white\",\"linecolor\":\"white\",\"showbackground\":true,\"ticks\":\"\",\"zerolinecolor\":\"white\",\"gridwidth\":2}},\"shapedefaults\":{\"line\":{\"color\":\"#2a3f5f\"}},\"annotationdefaults\":{\"arrowcolor\":\"#2a3f5f\",\"arrowhead\":0,\"arrowwidth\":1},\"geo\":{\"bgcolor\":\"white\",\"landcolor\":\"#E5ECF6\",\"subunitcolor\":\"white\",\"showland\":true,\"showlakes\":true,\"lakecolor\":\"white\"},\"title\":{\"x\":0.05},\"mapbox\":{\"style\":\"light\"}}},\"xaxis\":{\"anchor\":\"y\",\"domain\":[0.0,1.0],\"title\":{\"text\":\"index\"}},\"yaxis\":{\"anchor\":\"x\",\"domain\":[0.0,1.0],\"title\":{\"text\":\"value\"},\"type\":\"log\"},\"legend\":{\"title\":{\"text\":\"variable\"},\"tracegroupgap\":0},\"title\":{\"text\":\"Unique values per feature\"},\"barmode\":\"relative\"},                        {\"responsive\": true}                    ).then(function(){\n                            \nvar gd = document.getElementById('21792cb4-b21d-4f27-9862-60489806592b');\nvar x = new MutationObserver(function (mutations, observer) {{\n        var display = window.getComputedStyle(gd).display;\n        if (!display || display === 'none') {{\n            console.log([gd, 'removed!']);\n            Plotly.purge(gd);\n            observer.disconnect();\n        }}\n}});\n\n// Listen for the removal of the full notebook cells\nvar notebookContainer = gd.closest('#notebook-container');\nif (notebookContainer) {{\n    x.observe(notebookContainer, {childList: true});\n}}\n\n// Listen for the clearing of the current output cell\nvar outputEl = gd.closest('.output');\nif (outputEl) {{\n    x.observe(outputEl, {childList: true});\n}}\n\n                        })                };                            </script>        </div>\n</body>\n</html>"
     },
     "metadata": {},
     "output_type": "display_data"
    }
   ]
  },
  {
   "cell_type": "code",
   "source": "numericalcols_data",
   "metadata": {
    "cell_id": "2c562e8d84cf43778b33cd59eba3c252",
    "tags": [],
    "deepnote_to_be_reexecuted": false,
    "source_hash": "4a26008a",
    "execution_start": 1661262887710,
    "execution_millis": 479,
    "deepnote_cell_type": "code",
    "deepnote_cell_height": 242.65625
   },
   "outputs": [
    {
     "output_type": "execute_result",
     "execution_count": 19,
     "data": {
      "application/vnd.deepnote.dataframe.v3+json": {
       "column_count": 62,
       "row_count": 1,
       "columns": [
        {
         "name": "f0_",
         "dtype": "int64",
         "stats": {
          "unique_count": 1,
          "nan_count": 0,
          "min": "37",
          "max": "37",
          "histogram": [
           {
            "bin_start": 36.5,
            "bin_end": 36.6,
            "count": 0
           },
           {
            "bin_start": 36.6,
            "bin_end": 36.7,
            "count": 0
           },
           {
            "bin_start": 36.7,
            "bin_end": 36.8,
            "count": 0
           },
           {
            "bin_start": 36.8,
            "bin_end": 36.9,
            "count": 0
           },
           {
            "bin_start": 36.9,
            "bin_end": 37,
            "count": 0
           },
           {
            "bin_start": 37,
            "bin_end": 37.1,
            "count": 1
           },
           {
            "bin_start": 37.1,
            "bin_end": 37.2,
            "count": 0
           },
           {
            "bin_start": 37.2,
            "bin_end": 37.3,
            "count": 0
           },
           {
            "bin_start": 37.3,
            "bin_end": 37.4,
            "count": 0
           },
           {
            "bin_start": 37.4,
            "bin_end": 37.5,
            "count": 0
           }
          ]
         }
        },
        {
         "name": "f1_",
         "dtype": "int64",
         "stats": {
          "unique_count": 1,
          "nan_count": 0,
          "min": "20",
          "max": "20",
          "histogram": [
           {
            "bin_start": 19.5,
            "bin_end": 19.6,
            "count": 0
           },
           {
            "bin_start": 19.6,
            "bin_end": 19.7,
            "count": 0
           },
           {
            "bin_start": 19.7,
            "bin_end": 19.8,
            "count": 0
           },
           {
            "bin_start": 19.8,
            "bin_end": 19.9,
            "count": 0
           },
           {
            "bin_start": 19.9,
            "bin_end": 20,
            "count": 0
           },
           {
            "bin_start": 20,
            "bin_end": 20.1,
            "count": 1
           },
           {
            "bin_start": 20.1,
            "bin_end": 20.2,
            "count": 0
           },
           {
            "bin_start": 20.2,
            "bin_end": 20.3,
            "count": 0
           },
           {
            "bin_start": 20.3,
            "bin_end": 20.4,
            "count": 0
           },
           {
            "bin_start": 20.4,
            "bin_end": 20.5,
            "count": 0
           }
          ]
         }
        },
        {
         "name": "f2_",
         "dtype": "int64",
         "stats": {
          "unique_count": 1,
          "nan_count": 0,
          "min": "6",
          "max": "6",
          "histogram": [
           {
            "bin_start": 5.5,
            "bin_end": 5.6,
            "count": 0
           },
           {
            "bin_start": 5.6,
            "bin_end": 5.7,
            "count": 0
           },
           {
            "bin_start": 5.7,
            "bin_end": 5.8,
            "count": 0
           },
           {
            "bin_start": 5.8,
            "bin_end": 5.9,
            "count": 0
           },
           {
            "bin_start": 5.9,
            "bin_end": 6,
            "count": 0
           },
           {
            "bin_start": 6,
            "bin_end": 6.1,
            "count": 1
           },
           {
            "bin_start": 6.1,
            "bin_end": 6.2,
            "count": 0
           },
           {
            "bin_start": 6.2,
            "bin_end": 6.3,
            "count": 0
           },
           {
            "bin_start": 6.3,
            "bin_end": 6.4,
            "count": 0
           },
           {
            "bin_start": 6.4,
            "bin_end": 6.5,
            "count": 0
           }
          ]
         }
        },
        {
         "name": "f3_",
         "dtype": "int64",
         "stats": {
          "unique_count": 1,
          "nan_count": 0,
          "min": "18",
          "max": "18",
          "histogram": [
           {
            "bin_start": 17.5,
            "bin_end": 17.6,
            "count": 0
           },
           {
            "bin_start": 17.6,
            "bin_end": 17.7,
            "count": 0
           },
           {
            "bin_start": 17.7,
            "bin_end": 17.8,
            "count": 0
           },
           {
            "bin_start": 17.8,
            "bin_end": 17.9,
            "count": 0
           },
           {
            "bin_start": 17.9,
            "bin_end": 18,
            "count": 0
           },
           {
            "bin_start": 18,
            "bin_end": 18.1,
            "count": 1
           },
           {
            "bin_start": 18.1,
            "bin_end": 18.2,
            "count": 0
           },
           {
            "bin_start": 18.2,
            "bin_end": 18.3,
            "count": 0
           },
           {
            "bin_start": 18.3,
            "bin_end": 18.4,
            "count": 0
           },
           {
            "bin_start": 18.4,
            "bin_end": 18.5,
            "count": 0
           }
          ]
         }
        },
        {
         "name": "f4_",
         "dtype": "int64",
         "stats": {
          "unique_count": 1,
          "nan_count": 0,
          "min": "10",
          "max": "10",
          "histogram": [
           {
            "bin_start": 9.5,
            "bin_end": 9.6,
            "count": 0
           },
           {
            "bin_start": 9.6,
            "bin_end": 9.7,
            "count": 0
           },
           {
            "bin_start": 9.7,
            "bin_end": 9.8,
            "count": 0
           },
           {
            "bin_start": 9.8,
            "bin_end": 9.9,
            "count": 0
           },
           {
            "bin_start": 9.9,
            "bin_end": 10,
            "count": 0
           },
           {
            "bin_start": 10,
            "bin_end": 10.1,
            "count": 1
           },
           {
            "bin_start": 10.1,
            "bin_end": 10.2,
            "count": 0
           },
           {
            "bin_start": 10.2,
            "bin_end": 10.3,
            "count": 0
           },
           {
            "bin_start": 10.3,
            "bin_end": 10.4,
            "count": 0
           },
           {
            "bin_start": 10.4,
            "bin_end": 10.5,
            "count": 0
           }
          ]
         }
        },
        {
         "name": "f5_",
         "dtype": "int64",
         "stats": {
          "unique_count": 1,
          "nan_count": 0,
          "min": "9",
          "max": "9",
          "histogram": [
           {
            "bin_start": 8.5,
            "bin_end": 8.6,
            "count": 0
           },
           {
            "bin_start": 8.6,
            "bin_end": 8.7,
            "count": 0
           },
           {
            "bin_start": 8.7,
            "bin_end": 8.8,
            "count": 0
           },
           {
            "bin_start": 8.8,
            "bin_end": 8.9,
            "count": 0
           },
           {
            "bin_start": 8.9,
            "bin_end": 9,
            "count": 0
           },
           {
            "bin_start": 9,
            "bin_end": 9.1,
            "count": 1
           },
           {
            "bin_start": 9.1,
            "bin_end": 9.2,
            "count": 0
           },
           {
            "bin_start": 9.2,
            "bin_end": 9.3,
            "count": 0
           },
           {
            "bin_start": 9.3,
            "bin_end": 9.4,
            "count": 0
           },
           {
            "bin_start": 9.4,
            "bin_end": 9.5,
            "count": 0
           }
          ]
         }
        },
        {
         "name": "f6_",
         "dtype": "int64",
         "stats": {
          "unique_count": 1,
          "nan_count": 0,
          "min": "6",
          "max": "6",
          "histogram": [
           {
            "bin_start": 5.5,
            "bin_end": 5.6,
            "count": 0
           },
           {
            "bin_start": 5.6,
            "bin_end": 5.7,
            "count": 0
           },
           {
            "bin_start": 5.7,
            "bin_end": 5.8,
            "count": 0
           },
           {
            "bin_start": 5.8,
            "bin_end": 5.9,
            "count": 0
           },
           {
            "bin_start": 5.9,
            "bin_end": 6,
            "count": 0
           },
           {
            "bin_start": 6,
            "bin_end": 6.1,
            "count": 1
           },
           {
            "bin_start": 6.1,
            "bin_end": 6.2,
            "count": 0
           },
           {
            "bin_start": 6.2,
            "bin_end": 6.3,
            "count": 0
           },
           {
            "bin_start": 6.3,
            "bin_end": 6.4,
            "count": 0
           },
           {
            "bin_start": 6.4,
            "bin_end": 6.5,
            "count": 0
           }
          ]
         }
        },
        {
         "name": "f7_",
         "dtype": "int64",
         "stats": {
          "unique_count": 1,
          "nan_count": 0,
          "min": "12",
          "max": "12",
          "histogram": [
           {
            "bin_start": 11.5,
            "bin_end": 11.6,
            "count": 0
           },
           {
            "bin_start": 11.6,
            "bin_end": 11.7,
            "count": 0
           },
           {
            "bin_start": 11.7,
            "bin_end": 11.8,
            "count": 0
           },
           {
            "bin_start": 11.8,
            "bin_end": 11.9,
            "count": 0
           },
           {
            "bin_start": 11.9,
            "bin_end": 12,
            "count": 0
           },
           {
            "bin_start": 12,
            "bin_end": 12.1,
            "count": 1
           },
           {
            "bin_start": 12.1,
            "bin_end": 12.2,
            "count": 0
           },
           {
            "bin_start": 12.2,
            "bin_end": 12.3,
            "count": 0
           },
           {
            "bin_start": 12.3,
            "bin_end": 12.4,
            "count": 0
           },
           {
            "bin_start": 12.4,
            "bin_end": 12.5,
            "count": 0
           }
          ]
         }
        },
        {
         "name": "f8_",
         "dtype": "int64",
         "stats": {
          "unique_count": 1,
          "nan_count": 0,
          "min": "9",
          "max": "9",
          "histogram": [
           {
            "bin_start": 8.5,
            "bin_end": 8.6,
            "count": 0
           },
           {
            "bin_start": 8.6,
            "bin_end": 8.7,
            "count": 0
           },
           {
            "bin_start": 8.7,
            "bin_end": 8.8,
            "count": 0
           },
           {
            "bin_start": 8.8,
            "bin_end": 8.9,
            "count": 0
           },
           {
            "bin_start": 8.9,
            "bin_end": 9,
            "count": 0
           },
           {
            "bin_start": 9,
            "bin_end": 9.1,
            "count": 1
           },
           {
            "bin_start": 9.1,
            "bin_end": 9.2,
            "count": 0
           },
           {
            "bin_start": 9.2,
            "bin_end": 9.3,
            "count": 0
           },
           {
            "bin_start": 9.3,
            "bin_end": 9.4,
            "count": 0
           },
           {
            "bin_start": 9.4,
            "bin_end": 9.5,
            "count": 0
           }
          ]
         }
        },
        {
         "name": "f9_",
         "dtype": "int64",
         "stats": {
          "unique_count": 1,
          "nan_count": 0,
          "min": "12",
          "max": "12",
          "histogram": [
           {
            "bin_start": 11.5,
            "bin_end": 11.6,
            "count": 0
           },
           {
            "bin_start": 11.6,
            "bin_end": 11.7,
            "count": 0
           },
           {
            "bin_start": 11.7,
            "bin_end": 11.8,
            "count": 0
           },
           {
            "bin_start": 11.8,
            "bin_end": 11.9,
            "count": 0
           },
           {
            "bin_start": 11.9,
            "bin_end": 12,
            "count": 0
           },
           {
            "bin_start": 12,
            "bin_end": 12.1,
            "count": 1
           },
           {
            "bin_start": 12.1,
            "bin_end": 12.2,
            "count": 0
           },
           {
            "bin_start": 12.2,
            "bin_end": 12.3,
            "count": 0
           },
           {
            "bin_start": 12.3,
            "bin_end": 12.4,
            "count": 0
           },
           {
            "bin_start": 12.4,
            "bin_end": 12.5,
            "count": 0
           }
          ]
         }
        },
        {
         "name": "f10_",
         "dtype": "int64",
         "stats": {
          "unique_count": 1,
          "nan_count": 0,
          "min": "5",
          "max": "5",
          "histogram": [
           {
            "bin_start": 4.5,
            "bin_end": 4.6,
            "count": 0
           },
           {
            "bin_start": 4.6,
            "bin_end": 4.7,
            "count": 0
           },
           {
            "bin_start": 4.7,
            "bin_end": 4.8,
            "count": 0
           },
           {
            "bin_start": 4.8,
            "bin_end": 4.9,
            "count": 0
           },
           {
            "bin_start": 4.9,
            "bin_end": 5,
            "count": 0
           },
           {
            "bin_start": 5,
            "bin_end": 5.1,
            "count": 1
           },
           {
            "bin_start": 5.1,
            "bin_end": 5.2,
            "count": 0
           },
           {
            "bin_start": 5.2,
            "bin_end": 5.3,
            "count": 0
           },
           {
            "bin_start": 5.3,
            "bin_end": 5.4,
            "count": 0
           },
           {
            "bin_start": 5.4,
            "bin_end": 5.5,
            "count": 0
           }
          ]
         }
        },
        {
         "name": "f11_",
         "dtype": "int64",
         "stats": {
          "unique_count": 1,
          "nan_count": 0,
          "min": "2",
          "max": "2",
          "histogram": [
           {
            "bin_start": 1.5,
            "bin_end": 1.6,
            "count": 0
           },
           {
            "bin_start": 1.6,
            "bin_end": 1.7,
            "count": 0
           },
           {
            "bin_start": 1.7,
            "bin_end": 1.8,
            "count": 0
           },
           {
            "bin_start": 1.8,
            "bin_end": 1.9,
            "count": 0
           },
           {
            "bin_start": 1.9,
            "bin_end": 2,
            "count": 0
           },
           {
            "bin_start": 2,
            "bin_end": 2.1,
            "count": 1
           },
           {
            "bin_start": 2.1,
            "bin_end": 2.2,
            "count": 0
           },
           {
            "bin_start": 2.2,
            "bin_end": 2.3,
            "count": 0
           },
           {
            "bin_start": 2.3,
            "bin_end": 2.4,
            "count": 0
           },
           {
            "bin_start": 2.4,
            "bin_end": 2.5,
            "count": 0
           }
          ]
         }
        },
        {
         "name": "f12_",
         "dtype": "int64",
         "stats": {
          "unique_count": 1,
          "nan_count": 0,
          "min": "6",
          "max": "6",
          "histogram": [
           {
            "bin_start": 5.5,
            "bin_end": 5.6,
            "count": 0
           },
           {
            "bin_start": 5.6,
            "bin_end": 5.7,
            "count": 0
           },
           {
            "bin_start": 5.7,
            "bin_end": 5.8,
            "count": 0
           },
           {
            "bin_start": 5.8,
            "bin_end": 5.9,
            "count": 0
           },
           {
            "bin_start": 5.9,
            "bin_end": 6,
            "count": 0
           },
           {
            "bin_start": 6,
            "bin_end": 6.1,
            "count": 1
           },
           {
            "bin_start": 6.1,
            "bin_end": 6.2,
            "count": 0
           },
           {
            "bin_start": 6.2,
            "bin_end": 6.3,
            "count": 0
           },
           {
            "bin_start": 6.3,
            "bin_end": 6.4,
            "count": 0
           },
           {
            "bin_start": 6.4,
            "bin_end": 6.5,
            "count": 0
           }
          ]
         }
        },
        {
         "name": "f13_",
         "dtype": "int64",
         "stats": {
          "unique_count": 1,
          "nan_count": 0,
          "min": "3",
          "max": "3",
          "histogram": [
           {
            "bin_start": 2.5,
            "bin_end": 2.6,
            "count": 0
           },
           {
            "bin_start": 2.6,
            "bin_end": 2.7,
            "count": 0
           },
           {
            "bin_start": 2.7,
            "bin_end": 2.8,
            "count": 0
           },
           {
            "bin_start": 2.8,
            "bin_end": 2.9,
            "count": 0
           },
           {
            "bin_start": 2.9,
            "bin_end": 3,
            "count": 0
           },
           {
            "bin_start": 3,
            "bin_end": 3.1,
            "count": 1
           },
           {
            "bin_start": 3.1,
            "bin_end": 3.2,
            "count": 0
           },
           {
            "bin_start": 3.2,
            "bin_end": 3.3,
            "count": 0
           },
           {
            "bin_start": 3.3,
            "bin_end": 3.4,
            "count": 0
           },
           {
            "bin_start": 3.4,
            "bin_end": 3.5,
            "count": 0
           }
          ]
         }
        },
        {
         "name": "f14_",
         "dtype": "int64",
         "stats": {
          "unique_count": 1,
          "nan_count": 0,
          "min": "95",
          "max": "95",
          "histogram": [
           {
            "bin_start": 94.5,
            "bin_end": 94.6,
            "count": 0
           },
           {
            "bin_start": 94.6,
            "bin_end": 94.7,
            "count": 0
           },
           {
            "bin_start": 94.7,
            "bin_end": 94.8,
            "count": 0
           },
           {
            "bin_start": 94.8,
            "bin_end": 94.9,
            "count": 0
           },
           {
            "bin_start": 94.9,
            "bin_end": 95,
            "count": 0
           },
           {
            "bin_start": 95,
            "bin_end": 95.1,
            "count": 1
           },
           {
            "bin_start": 95.1,
            "bin_end": 95.2,
            "count": 0
           },
           {
            "bin_start": 95.2,
            "bin_end": 95.3,
            "count": 0
           },
           {
            "bin_start": 95.3,
            "bin_end": 95.4,
            "count": 0
           },
           {
            "bin_start": 95.4,
            "bin_end": 95.5,
            "count": 0
           }
          ]
         }
        },
        {
         "name": "f15_",
         "dtype": "int64",
         "stats": {
          "unique_count": 1,
          "nan_count": 0,
          "min": "11",
          "max": "11",
          "histogram": [
           {
            "bin_start": 10.5,
            "bin_end": 10.6,
            "count": 0
           },
           {
            "bin_start": 10.6,
            "bin_end": 10.7,
            "count": 0
           },
           {
            "bin_start": 10.7,
            "bin_end": 10.8,
            "count": 0
           },
           {
            "bin_start": 10.8,
            "bin_end": 10.9,
            "count": 0
           },
           {
            "bin_start": 10.9,
            "bin_end": 11,
            "count": 0
           },
           {
            "bin_start": 11,
            "bin_end": 11.1,
            "count": 1
           },
           {
            "bin_start": 11.1,
            "bin_end": 11.2,
            "count": 0
           },
           {
            "bin_start": 11.2,
            "bin_end": 11.3,
            "count": 0
           },
           {
            "bin_start": 11.3,
            "bin_end": 11.4,
            "count": 0
           },
           {
            "bin_start": 11.4,
            "bin_end": 11.5,
            "count": 0
           }
          ]
         }
        },
        {
         "name": "f16_",
         "dtype": "int64",
         "stats": {
          "unique_count": 1,
          "nan_count": 0,
          "min": "1140",
          "max": "1140",
          "histogram": [
           {
            "bin_start": 1139.5,
            "bin_end": 1139.6,
            "count": 0
           },
           {
            "bin_start": 1139.6,
            "bin_end": 1139.7,
            "count": 0
           },
           {
            "bin_start": 1139.7,
            "bin_end": 1139.8,
            "count": 0
           },
           {
            "bin_start": 1139.8,
            "bin_end": 1139.9,
            "count": 0
           },
           {
            "bin_start": 1139.9,
            "bin_end": 1140,
            "count": 0
           },
           {
            "bin_start": 1140,
            "bin_end": 1140.1,
            "count": 1
           },
           {
            "bin_start": 1140.1,
            "bin_end": 1140.2,
            "count": 0
           },
           {
            "bin_start": 1140.2,
            "bin_end": 1140.3,
            "count": 0
           },
           {
            "bin_start": 1140.3,
            "bin_end": 1140.4,
            "count": 0
           },
           {
            "bin_start": 1140.4,
            "bin_end": 1140.5,
            "count": 0
           }
          ]
         }
        },
        {
         "name": "f17_",
         "dtype": "int64",
         "stats": {
          "unique_count": 1,
          "nan_count": 0,
          "min": "11",
          "max": "11",
          "histogram": [
           {
            "bin_start": 10.5,
            "bin_end": 10.6,
            "count": 0
           },
           {
            "bin_start": 10.6,
            "bin_end": 10.7,
            "count": 0
           },
           {
            "bin_start": 10.7,
            "bin_end": 10.8,
            "count": 0
           },
           {
            "bin_start": 10.8,
            "bin_end": 10.9,
            "count": 0
           },
           {
            "bin_start": 10.9,
            "bin_end": 11,
            "count": 0
           },
           {
            "bin_start": 11,
            "bin_end": 11.1,
            "count": 1
           },
           {
            "bin_start": 11.1,
            "bin_end": 11.2,
            "count": 0
           },
           {
            "bin_start": 11.2,
            "bin_end": 11.3,
            "count": 0
           },
           {
            "bin_start": 11.3,
            "bin_end": 11.4,
            "count": 0
           },
           {
            "bin_start": 11.4,
            "bin_end": 11.5,
            "count": 0
           }
          ]
         }
        },
        {
         "name": "f18_",
         "dtype": "int64",
         "stats": {
          "unique_count": 1,
          "nan_count": 0,
          "min": "72",
          "max": "72",
          "histogram": [
           {
            "bin_start": 71.5,
            "bin_end": 71.6,
            "count": 0
           },
           {
            "bin_start": 71.6,
            "bin_end": 71.7,
            "count": 0
           },
           {
            "bin_start": 71.7,
            "bin_end": 71.8,
            "count": 0
           },
           {
            "bin_start": 71.8,
            "bin_end": 71.9,
            "count": 0
           },
           {
            "bin_start": 71.9,
            "bin_end": 72,
            "count": 0
           },
           {
            "bin_start": 72,
            "bin_end": 72.1,
            "count": 1
           },
           {
            "bin_start": 72.1,
            "bin_end": 72.2,
            "count": 0
           },
           {
            "bin_start": 72.2,
            "bin_end": 72.3,
            "count": 0
           },
           {
            "bin_start": 72.3,
            "bin_end": 72.4,
            "count": 0
           },
           {
            "bin_start": 72.4,
            "bin_end": 72.5,
            "count": 0
           }
          ]
         }
        },
        {
         "name": "f19_",
         "dtype": "int64",
         "stats": {
          "unique_count": 1,
          "nan_count": 0,
          "min": "3",
          "max": "3",
          "histogram": [
           {
            "bin_start": 2.5,
            "bin_end": 2.6,
            "count": 0
           },
           {
            "bin_start": 2.6,
            "bin_end": 2.7,
            "count": 0
           },
           {
            "bin_start": 2.7,
            "bin_end": 2.8,
            "count": 0
           },
           {
            "bin_start": 2.8,
            "bin_end": 2.9,
            "count": 0
           },
           {
            "bin_start": 2.9,
            "bin_end": 3,
            "count": 0
           },
           {
            "bin_start": 3,
            "bin_end": 3.1,
            "count": 1
           },
           {
            "bin_start": 3.1,
            "bin_end": 3.2,
            "count": 0
           },
           {
            "bin_start": 3.2,
            "bin_end": 3.3,
            "count": 0
           },
           {
            "bin_start": 3.3,
            "bin_end": 3.4,
            "count": 0
           },
           {
            "bin_start": 3.4,
            "bin_end": 3.5,
            "count": 0
           }
          ]
         }
        },
        {
         "name": "f20_",
         "dtype": "int64",
         "stats": {
          "unique_count": 1,
          "nan_count": 0,
          "min": "78609",
          "max": "78609",
          "histogram": [
           {
            "bin_start": 78608.5,
            "bin_end": 78608.6,
            "count": 0
           },
           {
            "bin_start": 78608.6,
            "bin_end": 78608.7,
            "count": 0
           },
           {
            "bin_start": 78608.7,
            "bin_end": 78608.8,
            "count": 0
           },
           {
            "bin_start": 78608.8,
            "bin_end": 78608.9,
            "count": 0
           },
           {
            "bin_start": 78608.9,
            "bin_end": 78609,
            "count": 0
           },
           {
            "bin_start": 78609,
            "bin_end": 78609.1,
            "count": 1
           },
           {
            "bin_start": 78609.1,
            "bin_end": 78609.2,
            "count": 0
           },
           {
            "bin_start": 78609.2,
            "bin_end": 78609.3,
            "count": 0
           },
           {
            "bin_start": 78609.3,
            "bin_end": 78609.4,
            "count": 0
           },
           {
            "bin_start": 78609.4,
            "bin_end": 78609.5,
            "count": 0
           }
          ]
         }
        },
        {
         "name": "f21_",
         "dtype": "int64",
         "stats": {
          "unique_count": 1,
          "nan_count": 0,
          "min": "82205",
          "max": "82205",
          "histogram": [
           {
            "bin_start": 82204.5,
            "bin_end": 82204.6,
            "count": 0
           },
           {
            "bin_start": 82204.6,
            "bin_end": 82204.7,
            "count": 0
           },
           {
            "bin_start": 82204.7,
            "bin_end": 82204.8,
            "count": 0
           },
           {
            "bin_start": 82204.8,
            "bin_end": 82204.9,
            "count": 0
           },
           {
            "bin_start": 82204.9,
            "bin_end": 82205,
            "count": 0
           },
           {
            "bin_start": 82205,
            "bin_end": 82205.1,
            "count": 1
           },
           {
            "bin_start": 82205.1,
            "bin_end": 82205.2,
            "count": 0
           },
           {
            "bin_start": 82205.2,
            "bin_end": 82205.3,
            "count": 0
           },
           {
            "bin_start": 82205.3,
            "bin_end": 82205.4,
            "count": 0
           },
           {
            "bin_start": 82205.4,
            "bin_end": 82205.5,
            "count": 0
           }
          ]
         }
        },
        {
         "name": "f22_",
         "dtype": "int64",
         "stats": {
          "unique_count": 1,
          "nan_count": 0,
          "min": "117588",
          "max": "117588",
          "histogram": [
           {
            "bin_start": 117587.5,
            "bin_end": 117587.6,
            "count": 0
           },
           {
            "bin_start": 117587.6,
            "bin_end": 117587.7,
            "count": 0
           },
           {
            "bin_start": 117587.7,
            "bin_end": 117587.8,
            "count": 0
           },
           {
            "bin_start": 117587.8,
            "bin_end": 117587.9,
            "count": 0
           },
           {
            "bin_start": 117587.9,
            "bin_end": 117588,
            "count": 0
           },
           {
            "bin_start": 117588,
            "bin_end": 117588.1,
            "count": 1
           },
           {
            "bin_start": 117588.1,
            "bin_end": 117588.2,
            "count": 0
           },
           {
            "bin_start": 117588.2,
            "bin_end": 117588.3,
            "count": 0
           },
           {
            "bin_start": 117588.3,
            "bin_end": 117588.4,
            "count": 0
           },
           {
            "bin_start": 117588.4,
            "bin_end": 117588.5,
            "count": 0
           }
          ]
         }
        },
        {
         "name": "f23_",
         "dtype": "int64",
         "stats": {
          "unique_count": 1,
          "nan_count": 0,
          "min": "116292",
          "max": "116292",
          "histogram": [
           {
            "bin_start": 116291.5,
            "bin_end": 116291.6,
            "count": 0
           },
           {
            "bin_start": 116291.6,
            "bin_end": 116291.7,
            "count": 0
           },
           {
            "bin_start": 116291.7,
            "bin_end": 116291.8,
            "count": 0
           },
           {
            "bin_start": 116291.8,
            "bin_end": 116291.9,
            "count": 0
           },
           {
            "bin_start": 116291.9,
            "bin_end": 116292,
            "count": 0
           },
           {
            "bin_start": 116292,
            "bin_end": 116292.1,
            "count": 1
           },
           {
            "bin_start": 116292.1,
            "bin_end": 116292.2,
            "count": 0
           },
           {
            "bin_start": 116292.2,
            "bin_end": 116292.3,
            "count": 0
           },
           {
            "bin_start": 116292.3,
            "bin_end": 116292.4,
            "count": 0
           },
           {
            "bin_start": 116292.4,
            "bin_end": 116292.5,
            "count": 0
           }
          ]
         }
        },
        {
         "name": "f24_",
         "dtype": "int64",
         "stats": {
          "unique_count": 1,
          "nan_count": 0,
          "min": "49",
          "max": "49",
          "histogram": [
           {
            "bin_start": 48.5,
            "bin_end": 48.6,
            "count": 0
           },
           {
            "bin_start": 48.6,
            "bin_end": 48.7,
            "count": 0
           },
           {
            "bin_start": 48.7,
            "bin_end": 48.8,
            "count": 0
           },
           {
            "bin_start": 48.8,
            "bin_end": 48.9,
            "count": 0
           },
           {
            "bin_start": 48.9,
            "bin_end": 49,
            "count": 0
           },
           {
            "bin_start": 49,
            "bin_end": 49.1,
            "count": 1
           },
           {
            "bin_start": 49.1,
            "bin_end": 49.2,
            "count": 0
           },
           {
            "bin_start": 49.2,
            "bin_end": 49.3,
            "count": 0
           },
           {
            "bin_start": 49.3,
            "bin_end": 49.4,
            "count": 0
           },
           {
            "bin_start": 49.4,
            "bin_end": 49.5,
            "count": 0
           }
          ]
         }
        },
        {
         "name": "f25_",
         "dtype": "int64",
         "stats": {
          "unique_count": 1,
          "nan_count": 0,
          "min": "3",
          "max": "3",
          "histogram": [
           {
            "bin_start": 2.5,
            "bin_end": 2.6,
            "count": 0
           },
           {
            "bin_start": 2.6,
            "bin_end": 2.7,
            "count": 0
           },
           {
            "bin_start": 2.7,
            "bin_end": 2.8,
            "count": 0
           },
           {
            "bin_start": 2.8,
            "bin_end": 2.9,
            "count": 0
           },
           {
            "bin_start": 2.9,
            "bin_end": 3,
            "count": 0
           },
           {
            "bin_start": 3,
            "bin_end": 3.1,
            "count": 1
           },
           {
            "bin_start": 3.1,
            "bin_end": 3.2,
            "count": 0
           },
           {
            "bin_start": 3.2,
            "bin_end": 3.3,
            "count": 0
           },
           {
            "bin_start": 3.3,
            "bin_end": 3.4,
            "count": 0
           },
           {
            "bin_start": 3.4,
            "bin_end": 3.5,
            "count": 0
           }
          ]
         }
        },
        {
         "name": "f26_",
         "dtype": "int64",
         "stats": {
          "unique_count": 1,
          "nan_count": 0,
          "min": "15",
          "max": "15",
          "histogram": [
           {
            "bin_start": 14.5,
            "bin_end": 14.6,
            "count": 0
           },
           {
            "bin_start": 14.6,
            "bin_end": 14.7,
            "count": 0
           },
           {
            "bin_start": 14.7,
            "bin_end": 14.8,
            "count": 0
           },
           {
            "bin_start": 14.8,
            "bin_end": 14.9,
            "count": 0
           },
           {
            "bin_start": 14.9,
            "bin_end": 15,
            "count": 0
           },
           {
            "bin_start": 15,
            "bin_end": 15.1,
            "count": 1
           },
           {
            "bin_start": 15.1,
            "bin_end": 15.2,
            "count": 0
           },
           {
            "bin_start": 15.2,
            "bin_end": 15.3,
            "count": 0
           },
           {
            "bin_start": 15.3,
            "bin_end": 15.4,
            "count": 0
           },
           {
            "bin_start": 15.4,
            "bin_end": 15.5,
            "count": 0
           }
          ]
         }
        },
        {
         "name": "f27_",
         "dtype": "int64",
         "stats": {
          "unique_count": 1,
          "nan_count": 0,
          "min": "21",
          "max": "21",
          "histogram": [
           {
            "bin_start": 20.5,
            "bin_end": 20.6,
            "count": 0
           },
           {
            "bin_start": 20.6,
            "bin_end": 20.7,
            "count": 0
           },
           {
            "bin_start": 20.7,
            "bin_end": 20.8,
            "count": 0
           },
           {
            "bin_start": 20.8,
            "bin_end": 20.9,
            "count": 0
           },
           {
            "bin_start": 20.9,
            "bin_end": 21,
            "count": 0
           },
           {
            "bin_start": 21,
            "bin_end": 21.1,
            "count": 1
           },
           {
            "bin_start": 21.1,
            "bin_end": 21.2,
            "count": 0
           },
           {
            "bin_start": 21.2,
            "bin_end": 21.3,
            "count": 0
           },
           {
            "bin_start": 21.3,
            "bin_end": 21.4,
            "count": 0
           },
           {
            "bin_start": 21.4,
            "bin_end": 21.5,
            "count": 0
           }
          ]
         }
        },
        {
         "name": "f28_",
         "dtype": "int64",
         "stats": {
          "unique_count": 1,
          "nan_count": 0,
          "min": "7",
          "max": "7",
          "histogram": [
           {
            "bin_start": 6.5,
            "bin_end": 6.6,
            "count": 0
           },
           {
            "bin_start": 6.6,
            "bin_end": 6.7,
            "count": 0
           },
           {
            "bin_start": 6.7,
            "bin_end": 6.8,
            "count": 0
           },
           {
            "bin_start": 6.8,
            "bin_end": 6.9,
            "count": 0
           },
           {
            "bin_start": 6.9,
            "bin_end": 7,
            "count": 0
           },
           {
            "bin_start": 7,
            "bin_end": 7.1,
            "count": 1
           },
           {
            "bin_start": 7.1,
            "bin_end": 7.2,
            "count": 0
           },
           {
            "bin_start": 7.2,
            "bin_end": 7.3,
            "count": 0
           },
           {
            "bin_start": 7.3,
            "bin_end": 7.4,
            "count": 0
           },
           {
            "bin_start": 7.4,
            "bin_end": 7.5,
            "count": 0
           }
          ]
         }
        },
        {
         "name": "f29_",
         "dtype": "int64",
         "stats": {
          "unique_count": 1,
          "nan_count": 0,
          "min": "356",
          "max": "356",
          "histogram": [
           {
            "bin_start": 355.5,
            "bin_end": 355.6,
            "count": 0
           },
           {
            "bin_start": 355.6,
            "bin_end": 355.7,
            "count": 0
           },
           {
            "bin_start": 355.7,
            "bin_end": 355.8,
            "count": 0
           },
           {
            "bin_start": 355.8,
            "bin_end": 355.9,
            "count": 0
           },
           {
            "bin_start": 355.9,
            "bin_end": 356,
            "count": 0
           },
           {
            "bin_start": 356,
            "bin_end": 356.1,
            "count": 1
           },
           {
            "bin_start": 356.1,
            "bin_end": 356.2,
            "count": 0
           },
           {
            "bin_start": 356.2,
            "bin_end": 356.3,
            "count": 0
           },
           {
            "bin_start": 356.3,
            "bin_end": 356.4,
            "count": 0
           },
           {
            "bin_start": 356.4,
            "bin_end": 356.5,
            "count": 0
           }
          ]
         }
        },
        {
         "name": "f30_",
         "dtype": "int64",
         "stats": {
          "unique_count": 1,
          "nan_count": 0,
          "min": "6",
          "max": "6",
          "histogram": [
           {
            "bin_start": 5.5,
            "bin_end": 5.6,
            "count": 0
           },
           {
            "bin_start": 5.6,
            "bin_end": 5.7,
            "count": 0
           },
           {
            "bin_start": 5.7,
            "bin_end": 5.8,
            "count": 0
           },
           {
            "bin_start": 5.8,
            "bin_end": 5.9,
            "count": 0
           },
           {
            "bin_start": 5.9,
            "bin_end": 6,
            "count": 0
           },
           {
            "bin_start": 6,
            "bin_end": 6.1,
            "count": 1
           },
           {
            "bin_start": 6.1,
            "bin_end": 6.2,
            "count": 0
           },
           {
            "bin_start": 6.2,
            "bin_end": 6.3,
            "count": 0
           },
           {
            "bin_start": 6.3,
            "bin_end": 6.4,
            "count": 0
           },
           {
            "bin_start": 6.4,
            "bin_end": 6.5,
            "count": 0
           }
          ]
         }
        },
        {
         "name": "f31_",
         "dtype": "int64",
         "stats": {
          "unique_count": 1,
          "nan_count": 0,
          "min": "3938",
          "max": "3938",
          "histogram": [
           {
            "bin_start": 3937.5,
            "bin_end": 3937.6,
            "count": 0
           },
           {
            "bin_start": 3937.6,
            "bin_end": 3937.7,
            "count": 0
           },
           {
            "bin_start": 3937.7,
            "bin_end": 3937.8,
            "count": 0
           },
           {
            "bin_start": 3937.8,
            "bin_end": 3937.9,
            "count": 0
           },
           {
            "bin_start": 3937.9,
            "bin_end": 3938,
            "count": 0
           },
           {
            "bin_start": 3938,
            "bin_end": 3938.1,
            "count": 1
           },
           {
            "bin_start": 3938.1,
            "bin_end": 3938.2,
            "count": 0
           },
           {
            "bin_start": 3938.2,
            "bin_end": 3938.3,
            "count": 0
           },
           {
            "bin_start": 3938.3,
            "bin_end": 3938.4,
            "count": 0
           },
           {
            "bin_start": 3938.4,
            "bin_end": 3938.5,
            "count": 0
           }
          ]
         }
        },
        {
         "name": "f32_",
         "dtype": "int64",
         "stats": {
          "unique_count": 1,
          "nan_count": 0,
          "min": "6",
          "max": "6",
          "histogram": [
           {
            "bin_start": 5.5,
            "bin_end": 5.6,
            "count": 0
           },
           {
            "bin_start": 5.6,
            "bin_end": 5.7,
            "count": 0
           },
           {
            "bin_start": 5.7,
            "bin_end": 5.8,
            "count": 0
           },
           {
            "bin_start": 5.8,
            "bin_end": 5.9,
            "count": 0
           },
           {
            "bin_start": 5.9,
            "bin_end": 6,
            "count": 0
           },
           {
            "bin_start": 6,
            "bin_end": 6.1,
            "count": 1
           },
           {
            "bin_start": 6.1,
            "bin_end": 6.2,
            "count": 0
           },
           {
            "bin_start": 6.2,
            "bin_end": 6.3,
            "count": 0
           },
           {
            "bin_start": 6.3,
            "bin_end": 6.4,
            "count": 0
           },
           {
            "bin_start": 6.4,
            "bin_end": 6.5,
            "count": 0
           }
          ]
         }
        },
        {
         "name": "f33_",
         "dtype": "int64",
         "stats": {
          "unique_count": 1,
          "nan_count": 0,
          "min": "8",
          "max": "8",
          "histogram": [
           {
            "bin_start": 7.5,
            "bin_end": 7.6,
            "count": 0
           },
           {
            "bin_start": 7.6,
            "bin_end": 7.7,
            "count": 0
           },
           {
            "bin_start": 7.7,
            "bin_end": 7.8,
            "count": 0
           },
           {
            "bin_start": 7.8,
            "bin_end": 7.9,
            "count": 0
           },
           {
            "bin_start": 7.9,
            "bin_end": 8,
            "count": 0
           },
           {
            "bin_start": 8,
            "bin_end": 8.1,
            "count": 1
           },
           {
            "bin_start": 8.1,
            "bin_end": 8.2,
            "count": 0
           },
           {
            "bin_start": 8.2,
            "bin_end": 8.3,
            "count": 0
           },
           {
            "bin_start": 8.3,
            "bin_end": 8.4,
            "count": 0
           },
           {
            "bin_start": 8.4,
            "bin_end": 8.5,
            "count": 0
           }
          ]
         }
        },
        {
         "name": "f34_",
         "dtype": "int64",
         "stats": {
          "unique_count": 1,
          "nan_count": 0,
          "min": "9",
          "max": "9",
          "histogram": [
           {
            "bin_start": 8.5,
            "bin_end": 8.6,
            "count": 0
           },
           {
            "bin_start": 8.6,
            "bin_end": 8.7,
            "count": 0
           },
           {
            "bin_start": 8.7,
            "bin_end": 8.8,
            "count": 0
           },
           {
            "bin_start": 8.8,
            "bin_end": 8.9,
            "count": 0
           },
           {
            "bin_start": 8.9,
            "bin_end": 9,
            "count": 0
           },
           {
            "bin_start": 9,
            "bin_end": 9.1,
            "count": 1
           },
           {
            "bin_start": 9.1,
            "bin_end": 9.2,
            "count": 0
           },
           {
            "bin_start": 9.2,
            "bin_end": 9.3,
            "count": 0
           },
           {
            "bin_start": 9.3,
            "bin_end": 9.4,
            "count": 0
           },
           {
            "bin_start": 9.4,
            "bin_end": 9.5,
            "count": 0
           }
          ]
         }
        },
        {
         "name": "f35_",
         "dtype": "int64",
         "stats": {
          "unique_count": 1,
          "nan_count": 0,
          "min": "4",
          "max": "4",
          "histogram": [
           {
            "bin_start": 3.5,
            "bin_end": 3.6,
            "count": 0
           },
           {
            "bin_start": 3.6,
            "bin_end": 3.7,
            "count": 0
           },
           {
            "bin_start": 3.7,
            "bin_end": 3.8,
            "count": 0
           },
           {
            "bin_start": 3.8,
            "bin_end": 3.9,
            "count": 0
           },
           {
            "bin_start": 3.9,
            "bin_end": 4,
            "count": 0
           },
           {
            "bin_start": 4,
            "bin_end": 4.1,
            "count": 1
           },
           {
            "bin_start": 4.1,
            "bin_end": 4.2,
            "count": 0
           },
           {
            "bin_start": 4.2,
            "bin_end": 4.3,
            "count": 0
           },
           {
            "bin_start": 4.3,
            "bin_end": 4.4,
            "count": 0
           },
           {
            "bin_start": 4.4,
            "bin_end": 4.5,
            "count": 0
           }
          ]
         }
        },
        {
         "name": "f36_",
         "dtype": "int64",
         "stats": {
          "unique_count": 1,
          "nan_count": 0,
          "min": "6",
          "max": "6",
          "histogram": [
           {
            "bin_start": 5.5,
            "bin_end": 5.6,
            "count": 0
           },
           {
            "bin_start": 5.6,
            "bin_end": 5.7,
            "count": 0
           },
           {
            "bin_start": 5.7,
            "bin_end": 5.8,
            "count": 0
           },
           {
            "bin_start": 5.8,
            "bin_end": 5.9,
            "count": 0
           },
           {
            "bin_start": 5.9,
            "bin_end": 6,
            "count": 0
           },
           {
            "bin_start": 6,
            "bin_end": 6.1,
            "count": 1
           },
           {
            "bin_start": 6.1,
            "bin_end": 6.2,
            "count": 0
           },
           {
            "bin_start": 6.2,
            "bin_end": 6.3,
            "count": 0
           },
           {
            "bin_start": 6.3,
            "bin_end": 6.4,
            "count": 0
           },
           {
            "bin_start": 6.4,
            "bin_end": 6.5,
            "count": 0
           }
          ]
         }
        },
        {
         "name": "f37_",
         "dtype": "int64",
         "stats": {
          "unique_count": 1,
          "nan_count": 0,
          "min": "3707",
          "max": "3707",
          "histogram": [
           {
            "bin_start": 3706.5,
            "bin_end": 3706.6,
            "count": 0
           },
           {
            "bin_start": 3706.6,
            "bin_end": 3706.7,
            "count": 0
           },
           {
            "bin_start": 3706.7,
            "bin_end": 3706.8,
            "count": 0
           },
           {
            "bin_start": 3706.8,
            "bin_end": 3706.9,
            "count": 0
           },
           {
            "bin_start": 3706.9,
            "bin_end": 3707,
            "count": 0
           },
           {
            "bin_start": 3707,
            "bin_end": 3707.1,
            "count": 1
           },
           {
            "bin_start": 3707.1,
            "bin_end": 3707.2,
            "count": 0
           },
           {
            "bin_start": 3707.2,
            "bin_end": 3707.3,
            "count": 0
           },
           {
            "bin_start": 3707.3,
            "bin_end": 3707.4,
            "count": 0
           },
           {
            "bin_start": 3707.4,
            "bin_end": 3707.5,
            "count": 0
           }
          ]
         }
        },
        {
         "name": "f38_",
         "dtype": "int64",
         "stats": {
          "unique_count": 1,
          "nan_count": 0,
          "min": "3",
          "max": "3",
          "histogram": [
           {
            "bin_start": 2.5,
            "bin_end": 2.6,
            "count": 0
           },
           {
            "bin_start": 2.6,
            "bin_end": 2.7,
            "count": 0
           },
           {
            "bin_start": 2.7,
            "bin_end": 2.8,
            "count": 0
           },
           {
            "bin_start": 2.8,
            "bin_end": 2.9,
            "count": 0
           },
           {
            "bin_start": 2.9,
            "bin_end": 3,
            "count": 0
           },
           {
            "bin_start": 3,
            "bin_end": 3.1,
            "count": 1
           },
           {
            "bin_start": 3.1,
            "bin_end": 3.2,
            "count": 0
           },
           {
            "bin_start": 3.2,
            "bin_end": 3.3,
            "count": 0
           },
           {
            "bin_start": 3.3,
            "bin_end": 3.4,
            "count": 0
           },
           {
            "bin_start": 3.4,
            "bin_end": 3.5,
            "count": 0
           }
          ]
         }
        },
        {
         "name": "f39_",
         "dtype": "int64",
         "stats": {
          "unique_count": 1,
          "nan_count": 0,
          "min": "6",
          "max": "6",
          "histogram": [
           {
            "bin_start": 5.5,
            "bin_end": 5.6,
            "count": 0
           },
           {
            "bin_start": 5.6,
            "bin_end": 5.7,
            "count": 0
           },
           {
            "bin_start": 5.7,
            "bin_end": 5.8,
            "count": 0
           },
           {
            "bin_start": 5.8,
            "bin_end": 5.9,
            "count": 0
           },
           {
            "bin_start": 5.9,
            "bin_end": 6,
            "count": 0
           },
           {
            "bin_start": 6,
            "bin_end": 6.1,
            "count": 1
           },
           {
            "bin_start": 6.1,
            "bin_end": 6.2,
            "count": 0
           },
           {
            "bin_start": 6.2,
            "bin_end": 6.3,
            "count": 0
           },
           {
            "bin_start": 6.3,
            "bin_end": 6.4,
            "count": 0
           },
           {
            "bin_start": 6.4,
            "bin_end": 6.5,
            "count": 0
           }
          ]
         }
        },
        {
         "name": "f40_",
         "dtype": "int64",
         "stats": {
          "unique_count": 1,
          "nan_count": 0,
          "min": "5",
          "max": "5",
          "histogram": [
           {
            "bin_start": 4.5,
            "bin_end": 4.6,
            "count": 0
           },
           {
            "bin_start": 4.6,
            "bin_end": 4.7,
            "count": 0
           },
           {
            "bin_start": 4.7,
            "bin_end": 4.8,
            "count": 0
           },
           {
            "bin_start": 4.8,
            "bin_end": 4.9,
            "count": 0
           },
           {
            "bin_start": 4.9,
            "bin_end": 5,
            "count": 0
           },
           {
            "bin_start": 5,
            "bin_end": 5.1,
            "count": 1
           },
           {
            "bin_start": 5.1,
            "bin_end": 5.2,
            "count": 0
           },
           {
            "bin_start": 5.2,
            "bin_end": 5.3,
            "count": 0
           },
           {
            "bin_start": 5.3,
            "bin_end": 5.4,
            "count": 0
           },
           {
            "bin_start": 5.4,
            "bin_end": 5.5,
            "count": 0
           }
          ]
         }
        },
        {
         "name": "f41_",
         "dtype": "int64",
         "stats": {
          "unique_count": 1,
          "nan_count": 0,
          "min": "9",
          "max": "9",
          "histogram": [
           {
            "bin_start": 8.5,
            "bin_end": 8.6,
            "count": 0
           },
           {
            "bin_start": 8.6,
            "bin_end": 8.7,
            "count": 0
           },
           {
            "bin_start": 8.7,
            "bin_end": 8.8,
            "count": 0
           },
           {
            "bin_start": 8.8,
            "bin_end": 8.9,
            "count": 0
           },
           {
            "bin_start": 8.9,
            "bin_end": 9,
            "count": 0
           },
           {
            "bin_start": 9,
            "bin_end": 9.1,
            "count": 1
           },
           {
            "bin_start": 9.1,
            "bin_end": 9.2,
            "count": 0
           },
           {
            "bin_start": 9.2,
            "bin_end": 9.3,
            "count": 0
           },
           {
            "bin_start": 9.3,
            "bin_end": 9.4,
            "count": 0
           },
           {
            "bin_start": 9.4,
            "bin_end": 9.5,
            "count": 0
           }
          ]
         }
        },
        {
         "name": "f42_",
         "dtype": "int64",
         "stats": {
          "unique_count": 1,
          "nan_count": 0,
          "min": "5",
          "max": "5",
          "histogram": [
           {
            "bin_start": 4.5,
            "bin_end": 4.6,
            "count": 0
           },
           {
            "bin_start": 4.6,
            "bin_end": 4.7,
            "count": 0
           },
           {
            "bin_start": 4.7,
            "bin_end": 4.8,
            "count": 0
           },
           {
            "bin_start": 4.8,
            "bin_end": 4.9,
            "count": 0
           },
           {
            "bin_start": 4.9,
            "bin_end": 5,
            "count": 0
           },
           {
            "bin_start": 5,
            "bin_end": 5.1,
            "count": 1
           },
           {
            "bin_start": 5.1,
            "bin_end": 5.2,
            "count": 0
           },
           {
            "bin_start": 5.2,
            "bin_end": 5.3,
            "count": 0
           },
           {
            "bin_start": 5.3,
            "bin_end": 5.4,
            "count": 0
           },
           {
            "bin_start": 5.4,
            "bin_end": 5.5,
            "count": 0
           }
          ]
         }
        },
        {
         "name": "f43_",
         "dtype": "int64",
         "stats": {
          "unique_count": 1,
          "nan_count": 0,
          "min": "8",
          "max": "8",
          "histogram": [
           {
            "bin_start": 7.5,
            "bin_end": 7.6,
            "count": 0
           },
           {
            "bin_start": 7.6,
            "bin_end": 7.7,
            "count": 0
           },
           {
            "bin_start": 7.7,
            "bin_end": 7.8,
            "count": 0
           },
           {
            "bin_start": 7.8,
            "bin_end": 7.9,
            "count": 0
           },
           {
            "bin_start": 7.9,
            "bin_end": 8,
            "count": 0
           },
           {
            "bin_start": 8,
            "bin_end": 8.1,
            "count": 1
           },
           {
            "bin_start": 8.1,
            "bin_end": 8.2,
            "count": 0
           },
           {
            "bin_start": 8.2,
            "bin_end": 8.3,
            "count": 0
           },
           {
            "bin_start": 8.3,
            "bin_end": 8.4,
            "count": 0
           },
           {
            "bin_start": 8.4,
            "bin_end": 8.5,
            "count": 0
           }
          ]
         }
        },
        {
         "name": "f44_",
         "dtype": "int64",
         "stats": {
          "unique_count": 1,
          "nan_count": 0,
          "min": "6",
          "max": "6",
          "histogram": [
           {
            "bin_start": 5.5,
            "bin_end": 5.6,
            "count": 0
           },
           {
            "bin_start": 5.6,
            "bin_end": 5.7,
            "count": 0
           },
           {
            "bin_start": 5.7,
            "bin_end": 5.8,
            "count": 0
           },
           {
            "bin_start": 5.8,
            "bin_end": 5.9,
            "count": 0
           },
           {
            "bin_start": 5.9,
            "bin_end": 6,
            "count": 0
           },
           {
            "bin_start": 6,
            "bin_end": 6.1,
            "count": 1
           },
           {
            "bin_start": 6.1,
            "bin_end": 6.2,
            "count": 0
           },
           {
            "bin_start": 6.2,
            "bin_end": 6.3,
            "count": 0
           },
           {
            "bin_start": 6.3,
            "bin_end": 6.4,
            "count": 0
           },
           {
            "bin_start": 6.4,
            "bin_end": 6.5,
            "count": 0
           }
          ]
         }
        },
        {
         "name": "f45_",
         "dtype": "int64",
         "stats": {
          "unique_count": 1,
          "nan_count": 0,
          "min": "2",
          "max": "2",
          "histogram": [
           {
            "bin_start": 1.5,
            "bin_end": 1.6,
            "count": 0
           },
           {
            "bin_start": 1.6,
            "bin_end": 1.7,
            "count": 0
           },
           {
            "bin_start": 1.7,
            "bin_end": 1.8,
            "count": 0
           },
           {
            "bin_start": 1.8,
            "bin_end": 1.9,
            "count": 0
           },
           {
            "bin_start": 1.9,
            "bin_end": 2,
            "count": 0
           },
           {
            "bin_start": 2,
            "bin_end": 2.1,
            "count": 1
           },
           {
            "bin_start": 2.1,
            "bin_end": 2.2,
            "count": 0
           },
           {
            "bin_start": 2.2,
            "bin_end": 2.3,
            "count": 0
           },
           {
            "bin_start": 2.3,
            "bin_end": 2.4,
            "count": 0
           },
           {
            "bin_start": 2.4,
            "bin_end": 2.5,
            "count": 0
           }
          ]
         }
        },
        {
         "name": "f46_",
         "dtype": "int64",
         "stats": {
          "unique_count": 1,
          "nan_count": 0,
          "min": "3",
          "max": "3",
          "histogram": [
           {
            "bin_start": 2.5,
            "bin_end": 2.6,
            "count": 0
           },
           {
            "bin_start": 2.6,
            "bin_end": 2.7,
            "count": 0
           },
           {
            "bin_start": 2.7,
            "bin_end": 2.8,
            "count": 0
           },
           {
            "bin_start": 2.8,
            "bin_end": 2.9,
            "count": 0
           },
           {
            "bin_start": 2.9,
            "bin_end": 3,
            "count": 0
           },
           {
            "bin_start": 3,
            "bin_end": 3.1,
            "count": 1
           },
           {
            "bin_start": 3.1,
            "bin_end": 3.2,
            "count": 0
           },
           {
            "bin_start": 3.2,
            "bin_end": 3.3,
            "count": 0
           },
           {
            "bin_start": 3.3,
            "bin_end": 3.4,
            "count": 0
           },
           {
            "bin_start": 3.4,
            "bin_end": 3.5,
            "count": 0
           }
          ]
         }
        },
        {
         "name": "f47_",
         "dtype": "int64",
         "stats": {
          "unique_count": 1,
          "nan_count": 0,
          "min": "28",
          "max": "28",
          "histogram": [
           {
            "bin_start": 27.5,
            "bin_end": 27.6,
            "count": 0
           },
           {
            "bin_start": 27.6,
            "bin_end": 27.7,
            "count": 0
           },
           {
            "bin_start": 27.7,
            "bin_end": 27.8,
            "count": 0
           },
           {
            "bin_start": 27.8,
            "bin_end": 27.9,
            "count": 0
           },
           {
            "bin_start": 27.9,
            "bin_end": 28,
            "count": 0
           },
           {
            "bin_start": 28,
            "bin_end": 28.1,
            "count": 1
           },
           {
            "bin_start": 28.1,
            "bin_end": 28.2,
            "count": 0
           },
           {
            "bin_start": 28.2,
            "bin_end": 28.3,
            "count": 0
           },
           {
            "bin_start": 28.3,
            "bin_end": 28.4,
            "count": 0
           },
           {
            "bin_start": 28.4,
            "bin_end": 28.5,
            "count": 0
           }
          ]
         }
        },
        {
         "name": "f48_",
         "dtype": "int64",
         "stats": {
          "unique_count": 1,
          "nan_count": 0,
          "min": "38",
          "max": "38",
          "histogram": [
           {
            "bin_start": 37.5,
            "bin_end": 37.6,
            "count": 0
           },
           {
            "bin_start": 37.6,
            "bin_end": 37.7,
            "count": 0
           },
           {
            "bin_start": 37.7,
            "bin_end": 37.8,
            "count": 0
           },
           {
            "bin_start": 37.8,
            "bin_end": 37.9,
            "count": 0
           },
           {
            "bin_start": 37.9,
            "bin_end": 38,
            "count": 0
           },
           {
            "bin_start": 38,
            "bin_end": 38.1,
            "count": 1
           },
           {
            "bin_start": 38.1,
            "bin_end": 38.2,
            "count": 0
           },
           {
            "bin_start": 38.2,
            "bin_end": 38.3,
            "count": 0
           },
           {
            "bin_start": 38.3,
            "bin_end": 38.4,
            "count": 0
           },
           {
            "bin_start": 38.4,
            "bin_end": 38.5,
            "count": 0
           }
          ]
         }
        },
        {
         "name": "f49_",
         "dtype": "int64",
         "stats": {
          "unique_count": 1,
          "nan_count": 0,
          "min": "3",
          "max": "3",
          "histogram": [
           {
            "bin_start": 2.5,
            "bin_end": 2.6,
            "count": 0
           },
           {
            "bin_start": 2.6,
            "bin_end": 2.7,
            "count": 0
           },
           {
            "bin_start": 2.7,
            "bin_end": 2.8,
            "count": 0
           },
           {
            "bin_start": 2.8,
            "bin_end": 2.9,
            "count": 0
           },
           {
            "bin_start": 2.9,
            "bin_end": 3,
            "count": 0
           },
           {
            "bin_start": 3,
            "bin_end": 3.1,
            "count": 1
           },
           {
            "bin_start": 3.1,
            "bin_end": 3.2,
            "count": 0
           },
           {
            "bin_start": 3.2,
            "bin_end": 3.3,
            "count": 0
           },
           {
            "bin_start": 3.3,
            "bin_end": 3.4,
            "count": 0
           },
           {
            "bin_start": 3.4,
            "bin_end": 3.5,
            "count": 0
           }
          ]
         }
        },
        {
         "name": "f50_",
         "dtype": "int64",
         "stats": {
          "unique_count": 1,
          "nan_count": 0,
          "min": "2",
          "max": "2",
          "histogram": [
           {
            "bin_start": 1.5,
            "bin_end": 1.6,
            "count": 0
           },
           {
            "bin_start": 1.6,
            "bin_end": 1.7,
            "count": 0
           },
           {
            "bin_start": 1.7,
            "bin_end": 1.8,
            "count": 0
           },
           {
            "bin_start": 1.8,
            "bin_end": 1.9,
            "count": 0
           },
           {
            "bin_start": 1.9,
            "bin_end": 2,
            "count": 0
           },
           {
            "bin_start": 2,
            "bin_end": 2.1,
            "count": 1
           },
           {
            "bin_start": 2.1,
            "bin_end": 2.2,
            "count": 0
           },
           {
            "bin_start": 2.2,
            "bin_end": 2.3,
            "count": 0
           },
           {
            "bin_start": 2.3,
            "bin_end": 2.4,
            "count": 0
           },
           {
            "bin_start": 2.4,
            "bin_end": 2.5,
            "count": 0
           }
          ]
         }
        },
        {
         "name": "f51_",
         "dtype": "int64",
         "stats": {
          "unique_count": 1,
          "nan_count": 0,
          "min": "101",
          "max": "101",
          "histogram": [
           {
            "bin_start": 100.5,
            "bin_end": 100.6,
            "count": 0
           },
           {
            "bin_start": 100.6,
            "bin_end": 100.7,
            "count": 0
           },
           {
            "bin_start": 100.7,
            "bin_end": 100.8,
            "count": 0
           },
           {
            "bin_start": 100.8,
            "bin_end": 100.9,
            "count": 0
           },
           {
            "bin_start": 100.9,
            "bin_end": 101,
            "count": 0
           },
           {
            "bin_start": 101,
            "bin_end": 101.1,
            "count": 1
           },
           {
            "bin_start": 101.1,
            "bin_end": 101.2,
            "count": 0
           },
           {
            "bin_start": 101.2,
            "bin_end": 101.3,
            "count": 0
           },
           {
            "bin_start": 101.3,
            "bin_end": 101.4,
            "count": 0
           },
           {
            "bin_start": 101.4,
            "bin_end": 101.5,
            "count": 0
           }
          ]
         }
        },
        {
         "name": "f52_",
         "dtype": "int64",
         "stats": {
          "unique_count": 1,
          "nan_count": 0,
          "min": "11",
          "max": "11",
          "histogram": [
           {
            "bin_start": 10.5,
            "bin_end": 10.6,
            "count": 0
           },
           {
            "bin_start": 10.6,
            "bin_end": 10.7,
            "count": 0
           },
           {
            "bin_start": 10.7,
            "bin_end": 10.8,
            "count": 0
           },
           {
            "bin_start": 10.8,
            "bin_end": 10.9,
            "count": 0
           },
           {
            "bin_start": 10.9,
            "bin_end": 11,
            "count": 0
           },
           {
            "bin_start": 11,
            "bin_end": 11.1,
            "count": 1
           },
           {
            "bin_start": 11.1,
            "bin_end": 11.2,
            "count": 0
           },
           {
            "bin_start": 11.2,
            "bin_end": 11.3,
            "count": 0
           },
           {
            "bin_start": 11.3,
            "bin_end": 11.4,
            "count": 0
           },
           {
            "bin_start": 11.4,
            "bin_end": 11.5,
            "count": 0
           }
          ]
         }
        },
        {
         "name": "f53_",
         "dtype": "int64",
         "stats": {
          "unique_count": 1,
          "nan_count": 0,
          "min": "3",
          "max": "3",
          "histogram": [
           {
            "bin_start": 2.5,
            "bin_end": 2.6,
            "count": 0
           },
           {
            "bin_start": 2.6,
            "bin_end": 2.7,
            "count": 0
           },
           {
            "bin_start": 2.7,
            "bin_end": 2.8,
            "count": 0
           },
           {
            "bin_start": 2.8,
            "bin_end": 2.9,
            "count": 0
           },
           {
            "bin_start": 2.9,
            "bin_end": 3,
            "count": 0
           },
           {
            "bin_start": 3,
            "bin_end": 3.1,
            "count": 1
           },
           {
            "bin_start": 3.1,
            "bin_end": 3.2,
            "count": 0
           },
           {
            "bin_start": 3.2,
            "bin_end": 3.3,
            "count": 0
           },
           {
            "bin_start": 3.3,
            "bin_end": 3.4,
            "count": 0
           },
           {
            "bin_start": 3.4,
            "bin_end": 3.5,
            "count": 0
           }
          ]
         }
        },
        {
         "name": "f54_",
         "dtype": "int64",
         "stats": {
          "unique_count": 1,
          "nan_count": 0,
          "min": "11",
          "max": "11",
          "histogram": [
           {
            "bin_start": 10.5,
            "bin_end": 10.6,
            "count": 0
           },
           {
            "bin_start": 10.6,
            "bin_end": 10.7,
            "count": 0
           },
           {
            "bin_start": 10.7,
            "bin_end": 10.8,
            "count": 0
           },
           {
            "bin_start": 10.8,
            "bin_end": 10.9,
            "count": 0
           },
           {
            "bin_start": 10.9,
            "bin_end": 11,
            "count": 0
           },
           {
            "bin_start": 11,
            "bin_end": 11.1,
            "count": 1
           },
           {
            "bin_start": 11.1,
            "bin_end": 11.2,
            "count": 0
           },
           {
            "bin_start": 11.2,
            "bin_end": 11.3,
            "count": 0
           },
           {
            "bin_start": 11.3,
            "bin_end": 11.4,
            "count": 0
           },
           {
            "bin_start": 11.4,
            "bin_end": 11.5,
            "count": 0
           }
          ]
         }
        },
        {
         "name": "f55_",
         "dtype": "int64",
         "stats": {
          "unique_count": 1,
          "nan_count": 0,
          "min": "10",
          "max": "10",
          "histogram": [
           {
            "bin_start": 9.5,
            "bin_end": 9.6,
            "count": 0
           },
           {
            "bin_start": 9.6,
            "bin_end": 9.7,
            "count": 0
           },
           {
            "bin_start": 9.7,
            "bin_end": 9.8,
            "count": 0
           },
           {
            "bin_start": 9.8,
            "bin_end": 9.9,
            "count": 0
           },
           {
            "bin_start": 9.9,
            "bin_end": 10,
            "count": 0
           },
           {
            "bin_start": 10,
            "bin_end": 10.1,
            "count": 1
           },
           {
            "bin_start": 10.1,
            "bin_end": 10.2,
            "count": 0
           },
           {
            "bin_start": 10.2,
            "bin_end": 10.3,
            "count": 0
           },
           {
            "bin_start": 10.3,
            "bin_end": 10.4,
            "count": 0
           },
           {
            "bin_start": 10.4,
            "bin_end": 10.5,
            "count": 0
           }
          ]
         }
        },
        {
         "name": "f56_",
         "dtype": "int64",
         "stats": {
          "unique_count": 1,
          "nan_count": 0,
          "min": "3",
          "max": "3",
          "histogram": [
           {
            "bin_start": 2.5,
            "bin_end": 2.6,
            "count": 0
           },
           {
            "bin_start": 2.6,
            "bin_end": 2.7,
            "count": 0
           },
           {
            "bin_start": 2.7,
            "bin_end": 2.8,
            "count": 0
           },
           {
            "bin_start": 2.8,
            "bin_end": 2.9,
            "count": 0
           },
           {
            "bin_start": 2.9,
            "bin_end": 3,
            "count": 0
           },
           {
            "bin_start": 3,
            "bin_end": 3.1,
            "count": 1
           },
           {
            "bin_start": 3.1,
            "bin_end": 3.2,
            "count": 0
           },
           {
            "bin_start": 3.2,
            "bin_end": 3.3,
            "count": 0
           },
           {
            "bin_start": 3.3,
            "bin_end": 3.4,
            "count": 0
           },
           {
            "bin_start": 3.4,
            "bin_end": 3.5,
            "count": 0
           }
          ]
         }
        },
        {
         "name": "f57_",
         "dtype": "int64",
         "stats": {
          "unique_count": 1,
          "nan_count": 0,
          "min": "5",
          "max": "5",
          "histogram": [
           {
            "bin_start": 4.5,
            "bin_end": 4.6,
            "count": 0
           },
           {
            "bin_start": 4.6,
            "bin_end": 4.7,
            "count": 0
           },
           {
            "bin_start": 4.7,
            "bin_end": 4.8,
            "count": 0
           },
           {
            "bin_start": 4.8,
            "bin_end": 4.9,
            "count": 0
           },
           {
            "bin_start": 4.9,
            "bin_end": 5,
            "count": 0
           },
           {
            "bin_start": 5,
            "bin_end": 5.1,
            "count": 1
           },
           {
            "bin_start": 5.1,
            "bin_end": 5.2,
            "count": 0
           },
           {
            "bin_start": 5.2,
            "bin_end": 5.3,
            "count": 0
           },
           {
            "bin_start": 5.3,
            "bin_end": 5.4,
            "count": 0
           },
           {
            "bin_start": 5.4,
            "bin_end": 5.5,
            "count": 0
           }
          ]
         }
        },
        {
         "name": "f58_",
         "dtype": "int64",
         "stats": {
          "unique_count": 1,
          "nan_count": 0,
          "min": "3",
          "max": "3",
          "histogram": [
           {
            "bin_start": 2.5,
            "bin_end": 2.6,
            "count": 0
           },
           {
            "bin_start": 2.6,
            "bin_end": 2.7,
            "count": 0
           },
           {
            "bin_start": 2.7,
            "bin_end": 2.8,
            "count": 0
           },
           {
            "bin_start": 2.8,
            "bin_end": 2.9,
            "count": 0
           },
           {
            "bin_start": 2.9,
            "bin_end": 3,
            "count": 0
           },
           {
            "bin_start": 3,
            "bin_end": 3.1,
            "count": 1
           },
           {
            "bin_start": 3.1,
            "bin_end": 3.2,
            "count": 0
           },
           {
            "bin_start": 3.2,
            "bin_end": 3.3,
            "count": 0
           },
           {
            "bin_start": 3.3,
            "bin_end": 3.4,
            "count": 0
           },
           {
            "bin_start": 3.4,
            "bin_end": 3.5,
            "count": 0
           }
          ]
         }
        },
        {
         "name": "f59_",
         "dtype": "int64",
         "stats": {
          "unique_count": 1,
          "nan_count": 0,
          "min": "21",
          "max": "21",
          "histogram": [
           {
            "bin_start": 20.5,
            "bin_end": 20.6,
            "count": 0
           },
           {
            "bin_start": 20.6,
            "bin_end": 20.7,
            "count": 0
           },
           {
            "bin_start": 20.7,
            "bin_end": 20.8,
            "count": 0
           },
           {
            "bin_start": 20.8,
            "bin_end": 20.9,
            "count": 0
           },
           {
            "bin_start": 20.9,
            "bin_end": 21,
            "count": 0
           },
           {
            "bin_start": 21,
            "bin_end": 21.1,
            "count": 1
           },
           {
            "bin_start": 21.1,
            "bin_end": 21.2,
            "count": 0
           },
           {
            "bin_start": 21.2,
            "bin_end": 21.3,
            "count": 0
           },
           {
            "bin_start": 21.3,
            "bin_end": 21.4,
            "count": 0
           },
           {
            "bin_start": 21.4,
            "bin_end": 21.5,
            "count": 0
           }
          ]
         }
        },
        {
         "name": "f60_",
         "dtype": "int64",
         "stats": {
          "unique_count": 1,
          "nan_count": 0,
          "min": "3",
          "max": "3",
          "histogram": [
           {
            "bin_start": 2.5,
            "bin_end": 2.6,
            "count": 0
           },
           {
            "bin_start": 2.6,
            "bin_end": 2.7,
            "count": 0
           },
           {
            "bin_start": 2.7,
            "bin_end": 2.8,
            "count": 0
           },
           {
            "bin_start": 2.8,
            "bin_end": 2.9,
            "count": 0
           },
           {
            "bin_start": 2.9,
            "bin_end": 3,
            "count": 0
           },
           {
            "bin_start": 3,
            "bin_end": 3.1,
            "count": 1
           },
           {
            "bin_start": 3.1,
            "bin_end": 3.2,
            "count": 0
           },
           {
            "bin_start": 3.2,
            "bin_end": 3.3,
            "count": 0
           },
           {
            "bin_start": 3.3,
            "bin_end": 3.4,
            "count": 0
           },
           {
            "bin_start": 3.4,
            "bin_end": 3.5,
            "count": 0
           }
          ]
         }
        },
        {
         "name": "f61_",
         "dtype": "int64",
         "stats": {
          "unique_count": 1,
          "nan_count": 0,
          "min": "10",
          "max": "10",
          "histogram": [
           {
            "bin_start": 9.5,
            "bin_end": 9.6,
            "count": 0
           },
           {
            "bin_start": 9.6,
            "bin_end": 9.7,
            "count": 0
           },
           {
            "bin_start": 9.7,
            "bin_end": 9.8,
            "count": 0
           },
           {
            "bin_start": 9.8,
            "bin_end": 9.9,
            "count": 0
           },
           {
            "bin_start": 9.9,
            "bin_end": 10,
            "count": 0
           },
           {
            "bin_start": 10,
            "bin_end": 10.1,
            "count": 1
           },
           {
            "bin_start": 10.1,
            "bin_end": 10.2,
            "count": 0
           },
           {
            "bin_start": 10.2,
            "bin_end": 10.3,
            "count": 0
           },
           {
            "bin_start": 10.3,
            "bin_end": 10.4,
            "count": 0
           },
           {
            "bin_start": 10.4,
            "bin_end": 10.5,
            "count": 0
           }
          ]
         }
        },
        {
         "name": "_deepnote_index_column",
         "dtype": "int64"
        }
       ],
       "rows": [
        {
         "f0_": 37,
         "f1_": 20,
         "f2_": 6,
         "f3_": 18,
         "f4_": 10,
         "f5_": 9,
         "f6_": 6,
         "f7_": 12,
         "f8_": 9,
         "f9_": 12,
         "f10_": 5,
         "f11_": 2,
         "f12_": 6,
         "f13_": 3,
         "f14_": 95,
         "f15_": 11,
         "f16_": 1140,
         "f17_": 11,
         "f18_": 72,
         "f19_": 3,
         "f20_": 78609,
         "f21_": 82205,
         "f22_": 117588,
         "f23_": 116292,
         "f24_": 49,
         "f25_": 3,
         "f26_": 15,
         "f27_": 21,
         "f28_": 7,
         "f29_": 356,
         "f30_": 6,
         "f31_": 3938,
         "f32_": 6,
         "f33_": 8,
         "f34_": 9,
         "f35_": 4,
         "f36_": 6,
         "f37_": 3707,
         "f38_": 3,
         "f39_": 6,
         "f40_": 5,
         "f41_": 9,
         "f42_": 5,
         "f43_": 8,
         "f44_": 6,
         "f45_": 2,
         "f46_": 3,
         "f47_": 28,
         "f48_": 38,
         "f49_": 3,
         "f50_": 2,
         "f51_": 101,
         "f52_": 11,
         "f53_": 3,
         "f54_": 11,
         "f55_": 10,
         "f56_": 3,
         "f57_": 5,
         "f58_": 3,
         "f59_": 21,
         "f60_": 3,
         "f61_": 10,
         "_deepnote_index_column": 0
        }
       ]
      },
      "text/plain": "   f0_  f1_  f2_  f3_  f4_  f5_  f6_  f7_  f8_  f9_  ...  f52_  f53_  f54_  \\\n0   37   20    6   18   10    9    6   12    9   12  ...    11     3    11   \n\n   f55_  f56_  f57_  f58_  f59_  f60_  f61_  \n0    10     3     5     3    21     3    10  \n\n[1 rows x 62 columns]",
      "text/html": "<div>\n<style scoped>\n    .dataframe tbody tr th:only-of-type {\n        vertical-align: middle;\n    }\n\n    .dataframe tbody tr th {\n        vertical-align: top;\n    }\n\n    .dataframe thead th {\n        text-align: right;\n    }\n</style>\n<table border=\"1\" class=\"dataframe\">\n  <thead>\n    <tr style=\"text-align: right;\">\n      <th></th>\n      <th>f0_</th>\n      <th>f1_</th>\n      <th>f2_</th>\n      <th>f3_</th>\n      <th>f4_</th>\n      <th>f5_</th>\n      <th>f6_</th>\n      <th>f7_</th>\n      <th>f8_</th>\n      <th>f9_</th>\n      <th>...</th>\n      <th>f52_</th>\n      <th>f53_</th>\n      <th>f54_</th>\n      <th>f55_</th>\n      <th>f56_</th>\n      <th>f57_</th>\n      <th>f58_</th>\n      <th>f59_</th>\n      <th>f60_</th>\n      <th>f61_</th>\n    </tr>\n  </thead>\n  <tbody>\n    <tr>\n      <th>0</th>\n      <td>37</td>\n      <td>20</td>\n      <td>6</td>\n      <td>18</td>\n      <td>10</td>\n      <td>9</td>\n      <td>6</td>\n      <td>12</td>\n      <td>9</td>\n      <td>12</td>\n      <td>...</td>\n      <td>11</td>\n      <td>3</td>\n      <td>11</td>\n      <td>10</td>\n      <td>3</td>\n      <td>5</td>\n      <td>3</td>\n      <td>21</td>\n      <td>3</td>\n      <td>10</td>\n    </tr>\n  </tbody>\n</table>\n<p>1 rows × 62 columns</p>\n</div>"
     },
     "metadata": {}
    }
   ],
   "execution_count": 19
  },
  {
   "cell_type": "code",
   "source": "",
   "metadata": {
    "cell_id": "6059b54c3a1b408caaa600758065e84d",
    "tags": [],
    "deepnote_cell_type": "code",
    "deepnote_cell_height": 61
   },
   "outputs": [],
   "execution_count": null
  },
  {
   "cell_type": "markdown",
   "source": "<a style='text-decoration:none;line-height:16px;display:flex;color:#5B5B62;padding:10px;justify-content:end;' href='https://deepnote.com?utm_source=created-in-deepnote-cell&projectId=0250b4f5-a1fd-4aaa-8b27-2847b6649f1e' target=\"_blank\">\n<img alt='Created in deepnote.com' style='display:inline;max-height:16px;margin:0px;margin-right:7.5px;' src='data:image/svg+xml;base64,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' > </img>\nCreated in <span style='font-weight:600;margin-left:4px;'>Deepnote</span></a>",
   "metadata": {
    "tags": [],
    "created_in_deepnote_cell": true,
    "deepnote_cell_type": "markdown"
   }
  }
 ],
 "nbformat": 4,
 "nbformat_minor": 2,
 "metadata": {
  "orig_nbformat": 2,
  "deepnote": {},
  "deepnote_notebook_id": "5418f879-b2c4-4b59-93db-6db9d7f98e7b",
  "deepnote_execution_queue": []
 }
}