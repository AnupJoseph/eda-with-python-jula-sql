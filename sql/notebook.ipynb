{
 "cells": [
  {
   "cell_type": "markdown",
   "source": "",
   "metadata": {
    "is_collapsed": false,
    "cell_id": "2554aab5-f028-4cc4-8815-90db91a4f4af",
    "tags": [],
    "formattedRanges": [],
    "deepnote_cell_type": "text-cell-p"
   }
  },
  {
   "cell_type": "markdown",
   "source": "I had started with [Evidence](https://evidence.dev/) but evidence's experience wasn't working out for me. The query strings needed to be changed at every step to even get it working and there were basically no error messages",
   "metadata": {
    "cell_id": "ea621f2bd9644c529faeb869c31af7aa",
    "tags": [],
    "deepnote_cell_type": "markdown",
    "deepnote_cell_height": 74.78125
   }
  },
  {
   "cell_type": "markdown",
   "source": "## 1. Structure Investigation",
   "metadata": {
    "is_collapsed": false,
    "cell_id": "dfa1776d62d4437cb8b80c955b733839",
    "tags": [],
    "formattedRanges": [],
    "deepnote_cell_type": "text-cell-h2"
   }
  },
  {
   "cell_type": "markdown",
   "source": "A grisly approximation of the shape function in SQL, may Lord have mercy",
   "metadata": {
    "is_collapsed": false,
    "cell_id": "2237c4adbb2441fd9e849228a241eb38",
    "tags": [],
    "formattedRanges": [],
    "deepnote_cell_type": "text-cell-p"
   }
  },
  {
   "cell_type": "code",
   "source": "\n\nnum_cols = _deepnote_execute_sql(\"\"\"-- Number of columns \nSELECT COUNT(*) FROM `labocr-267706.eda.INFORMATION_SCHEMA.COLUMNS` WHERE table_name=\"road_safety\"\n\"\"\", 'SQL_D15DB2FC_356F_4858_A44E_CAB7271219CD')\nnum_cols",
   "metadata": {
    "tags": [],
    "deepnote_variable_name": "num_cols",
    "sql_integration_id": "d15db2fc-356f-4858-a44e-cab7271219cd",
    "cell_id": "f00080bb1141401c9b87f17aad605fb9",
    "deepnote_to_be_reexecuted": false,
    "source_hash": "a2a05c32",
    "execution_start": 1660831306302,
    "execution_millis": 2850,
    "deepnote_cell_type": "sql",
    "deepnote_sql_source": "-- Number of columns \nSELECT COUNT(*) FROM `labocr-267706.eda.INFORMATION_SCHEMA.COLUMNS` WHERE table_name=\"road_safety\"",
    "deepnote_cell_height": 284
   },
   "outputs": [
    {
     "output_type": "execute_result",
     "execution_count": 8,
     "data": {
      "application/vnd.deepnote.dataframe.v3+json": {
       "column_count": 1,
       "row_count": 1,
       "columns": [
        {
         "name": "f0_",
         "dtype": "int64",
         "stats": {
          "unique_count": 1,
          "nan_count": 0,
          "min": "67",
          "max": "67",
          "histogram": [
           {
            "bin_start": 66.5,
            "bin_end": 66.6,
            "count": 0
           },
           {
            "bin_start": 66.6,
            "bin_end": 66.7,
            "count": 0
           },
           {
            "bin_start": 66.7,
            "bin_end": 66.8,
            "count": 0
           },
           {
            "bin_start": 66.8,
            "bin_end": 66.9,
            "count": 0
           },
           {
            "bin_start": 66.9,
            "bin_end": 67,
            "count": 0
           },
           {
            "bin_start": 67,
            "bin_end": 67.1,
            "count": 1
           },
           {
            "bin_start": 67.1,
            "bin_end": 67.2,
            "count": 0
           },
           {
            "bin_start": 67.2,
            "bin_end": 67.3,
            "count": 0
           },
           {
            "bin_start": 67.3,
            "bin_end": 67.4,
            "count": 0
           },
           {
            "bin_start": 67.4,
            "bin_end": 67.5,
            "count": 0
           }
          ]
         }
        },
        {
         "name": "_deepnote_index_column",
         "dtype": "int64"
        }
       ],
       "rows": [
        {
         "f0_": 67,
         "_deepnote_index_column": 0
        }
       ]
      },
      "text/plain": "   f0_\n0   67",
      "text/html": "<div>\n<style scoped>\n    .dataframe tbody tr th:only-of-type {\n        vertical-align: middle;\n    }\n\n    .dataframe tbody tr th {\n        vertical-align: top;\n    }\n\n    .dataframe thead th {\n        text-align: right;\n    }\n</style>\n<table border=\"1\" class=\"dataframe\">\n  <thead>\n    <tr style=\"text-align: right;\">\n      <th></th>\n      <th>f0_</th>\n    </tr>\n  </thead>\n  <tbody>\n    <tr>\n      <th>0</th>\n      <td>67</td>\n    </tr>\n  </tbody>\n</table>\n</div>"
     },
     "metadata": {}
    }
   ],
   "execution_count": 8
  },
  {
   "cell_type": "code",
   "source": "\n\nnum_rows = _deepnote_execute_sql(\"\"\"-- Number of rows\nSELECT COUNT(*) FROM `labocr-267706.eda.road_safety`\n\"\"\", 'SQL_D15DB2FC_356F_4858_A44E_CAB7271219CD')\nnum_rows",
   "metadata": {
    "tags": [],
    "deepnote_variable_name": "num_rows",
    "sql_integration_id": "d15db2fc-356f-4858-a44e-cab7271219cd",
    "cell_id": "8f3cc992fd1b422cae1a43b99cbfc253",
    "deepnote_to_be_reexecuted": false,
    "source_hash": "7b638751",
    "execution_start": 1660831320001,
    "execution_millis": 2629,
    "deepnote_cell_type": "sql",
    "deepnote_sql_source": "-- Number of rows\nSELECT COUNT(*) FROM `labocr-267706.eda.road_safety`",
    "deepnote_cell_height": 284
   },
   "outputs": [
    {
     "output_type": "execute_result",
     "execution_count": 10,
     "data": {
      "application/vnd.deepnote.dataframe.v3+json": {
       "column_count": 1,
       "row_count": 1,
       "columns": [
        {
         "name": "f0_",
         "dtype": "int64",
         "stats": {
          "unique_count": 1,
          "nan_count": 0,
          "min": "363243",
          "max": "363243",
          "histogram": [
           {
            "bin_start": 363242.5,
            "bin_end": 363242.6,
            "count": 0
           },
           {
            "bin_start": 363242.6,
            "bin_end": 363242.7,
            "count": 0
           },
           {
            "bin_start": 363242.7,
            "bin_end": 363242.8,
            "count": 0
           },
           {
            "bin_start": 363242.8,
            "bin_end": 363242.9,
            "count": 0
           },
           {
            "bin_start": 363242.9,
            "bin_end": 363243,
            "count": 0
           },
           {
            "bin_start": 363243,
            "bin_end": 363243.1,
            "count": 1
           },
           {
            "bin_start": 363243.1,
            "bin_end": 363243.2,
            "count": 0
           },
           {
            "bin_start": 363243.2,
            "bin_end": 363243.3,
            "count": 0
           },
           {
            "bin_start": 363243.3,
            "bin_end": 363243.4,
            "count": 0
           },
           {
            "bin_start": 363243.4,
            "bin_end": 363243.5,
            "count": 0
           }
          ]
         }
        },
        {
         "name": "_deepnote_index_column",
         "dtype": "int64"
        }
       ],
       "rows": [
        {
         "f0_": 363243,
         "_deepnote_index_column": 0
        }
       ]
      },
      "text/plain": "      f0_\n0  363243",
      "text/html": "<div>\n<style scoped>\n    .dataframe tbody tr th:only-of-type {\n        vertical-align: middle;\n    }\n\n    .dataframe tbody tr th {\n        vertical-align: top;\n    }\n\n    .dataframe thead th {\n        text-align: right;\n    }\n</style>\n<table border=\"1\" class=\"dataframe\">\n  <thead>\n    <tr style=\"text-align: right;\">\n      <th></th>\n      <th>f0_</th>\n    </tr>\n  </thead>\n  <tbody>\n    <tr>\n      <th>0</th>\n      <td>363243</td>\n    </tr>\n  </tbody>\n</table>\n</div>"
     },
     "metadata": {}
    }
   ],
   "execution_count": 10
  },
  {
   "cell_type": "code",
   "source": "\n\ncol_types = _deepnote_execute_sql(\"\"\"-- Count how many times each data type is present in the dataset\nSELECT data_type,COUNT(*) FROM `labocr-267706.eda.INFORMATION_SCHEMA.COLUMNS` GROUP BY data_type\n\"\"\", 'SQL_D15DB2FC_356F_4858_A44E_CAB7271219CD')\ncol_types",
   "metadata": {
    "tags": [],
    "deepnote_variable_name": "col_types",
    "sql_integration_id": "d15db2fc-356f-4858-a44e-cab7271219cd",
    "cell_id": "36d4344e11754c56b46aadad4f2b296f",
    "deepnote_to_be_reexecuted": false,
    "source_hash": "be6f1c32",
    "execution_start": 1660831960009,
    "execution_millis": 1753,
    "deepnote_cell_type": "sql",
    "deepnote_sql_source": "-- Count how many times each data type is present in the dataset\nSELECT data_type,COUNT(*) FROM `labocr-267706.eda.INFORMATION_SCHEMA.COLUMNS` GROUP BY data_type",
    "deepnote_cell_height": 407
   },
   "outputs": [
    {
     "output_type": "execute_result",
     "execution_count": 14,
     "data": {
      "application/vnd.deepnote.dataframe.v3+json": {
       "column_count": 2,
       "row_count": 4,
       "columns": [
        {
         "name": "data_type",
         "dtype": "object",
         "stats": {
          "unique_count": 4,
          "nan_count": 0,
          "categories": [
           {
            "name": "STRING",
            "count": 1
           },
           {
            "name": "INT64",
            "count": 1
           },
           {
            "name": "2 others",
            "count": 2
           }
          ]
         }
        },
        {
         "name": "f0_",
         "dtype": "int64",
         "stats": {
          "unique_count": 4,
          "nan_count": 0,
          "min": "1",
          "max": "56",
          "histogram": [
           {
            "bin_start": 1,
            "bin_end": 6.5,
            "count": 3
           },
           {
            "bin_start": 6.5,
            "bin_end": 12,
            "count": 0
           },
           {
            "bin_start": 12,
            "bin_end": 17.5,
            "count": 0
           },
           {
            "bin_start": 17.5,
            "bin_end": 23,
            "count": 0
           },
           {
            "bin_start": 23,
            "bin_end": 28.5,
            "count": 0
           },
           {
            "bin_start": 28.5,
            "bin_end": 34,
            "count": 0
           },
           {
            "bin_start": 34,
            "bin_end": 39.5,
            "count": 0
           },
           {
            "bin_start": 39.5,
            "bin_end": 45,
            "count": 0
           },
           {
            "bin_start": 45,
            "bin_end": 50.5,
            "count": 0
           },
           {
            "bin_start": 50.5,
            "bin_end": 56,
            "count": 1
           }
          ]
         }
        },
        {
         "name": "_deepnote_index_column",
         "dtype": "int64"
        }
       ],
       "rows": [
        {
         "data_type": "STRING",
         "f0_": 4,
         "_deepnote_index_column": 0
        },
        {
         "data_type": "INT64",
         "f0_": 6,
         "_deepnote_index_column": 1
        },
        {
         "data_type": "FLOAT64",
         "f0_": 56,
         "_deepnote_index_column": 2
        },
        {
         "data_type": "DATE",
         "f0_": 1,
         "_deepnote_index_column": 3
        }
       ]
      },
      "text/plain": "  data_type  f0_\n0    STRING    4\n1     INT64    6\n2   FLOAT64   56\n3      DATE    1",
      "text/html": "<div>\n<style scoped>\n    .dataframe tbody tr th:only-of-type {\n        vertical-align: middle;\n    }\n\n    .dataframe tbody tr th {\n        vertical-align: top;\n    }\n\n    .dataframe thead th {\n        text-align: right;\n    }\n</style>\n<table border=\"1\" class=\"dataframe\">\n  <thead>\n    <tr style=\"text-align: right;\">\n      <th></th>\n      <th>data_type</th>\n      <th>f0_</th>\n    </tr>\n  </thead>\n  <tbody>\n    <tr>\n      <th>0</th>\n      <td>STRING</td>\n      <td>4</td>\n    </tr>\n    <tr>\n      <th>1</th>\n      <td>INT64</td>\n      <td>6</td>\n    </tr>\n    <tr>\n      <th>2</th>\n      <td>FLOAT64</td>\n      <td>56</td>\n    </tr>\n    <tr>\n      <th>3</th>\n      <td>DATE</td>\n      <td>1</td>\n    </tr>\n  </tbody>\n</table>\n</div>"
     },
     "metadata": {}
    }
   ],
   "execution_count": 14
  },
  {
   "cell_type": "markdown",
   "source": "### 1.1. Structure of non-numerical features",
   "metadata": {
    "is_collapsed": false,
    "cell_id": "74d3d0e6a41f486bb146ca37f28998d6",
    "tags": [],
    "formattedRanges": [],
    "deepnote_cell_type": "text-cell-h3"
   }
  },
  {
   "cell_type": "code",
   "source": "\n\ndf_4 = _deepnote_execute_sql(\"\"\"\n\"\"\", 'SQL_D15DB2FC_356F_4858_A44E_CAB7271219CD')\ndf_4",
   "metadata": {
    "tags": [],
    "deepnote_variable_name": "df_4",
    "sql_integration_id": "d15db2fc-356f-4858-a44e-cab7271219cd",
    "cell_id": "42e0e2ba7a8a44fca870ce6e1f0eee5a",
    "deepnote_cell_type": "sql",
    "deepnote_sql_source": "",
    "deepnote_cell_height": 101
   },
   "outputs": [],
   "execution_count": null
  },
  {
   "cell_type": "markdown",
   "source": "<a style='text-decoration:none;line-height:16px;display:flex;color:#5B5B62;padding:10px;justify-content:end;' href='https://deepnote.com?utm_source=created-in-deepnote-cell&projectId=0250b4f5-a1fd-4aaa-8b27-2847b6649f1e' target=\"_blank\">\n<img alt='Created in deepnote.com' style='display:inline;max-height:16px;margin:0px;margin-right:7.5px;' src='data:image/svg+xml;base64,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' > </img>\nCreated in <span style='font-weight:600;margin-left:4px;'>Deepnote</span></a>",
   "metadata": {
    "tags": [],
    "created_in_deepnote_cell": true,
    "deepnote_cell_type": "markdown"
   }
  }
 ],
 "nbformat": 4,
 "nbformat_minor": 2,
 "metadata": {
  "orig_nbformat": 2,
  "deepnote": {},
  "deepnote_notebook_id": "5418f879-b2c4-4b59-93db-6db9d7f98e7b",
  "deepnote_execution_queue": []
 }
}